{
 "cells": [
  {
   "cell_type": "markdown",
   "id": "9490d0f1",
   "metadata": {
    "ExecuteTime": {
     "end_time": "2023-01-12T16:42:55.400188Z",
     "start_time": "2023-01-12T16:42:55.395190Z"
    }
   },
   "source": [
    "# 0.0 IMPORTS"
   ]
  },
  {
   "cell_type": "code",
   "execution_count": 492,
   "id": "c85b68dd",
   "metadata": {
    "ExecuteTime": {
     "end_time": "2023-01-13T00:00:38.817665Z",
     "start_time": "2023-01-13T00:00:38.806417Z"
    }
   },
   "outputs": [],
   "source": [
    "import pandas    as pd\n",
    "import numpy     as np\n",
    "import seaborn   as sns\n",
    "import warnings\n",
    "import re\n",
    "\n",
    "\n",
    "from IPython.core.display  import HTML\n",
    "from matplotlib            import pyplot as plt\n",
    "\n",
    "warnings.filterwarnings('ignore')"
   ]
  },
  {
   "cell_type": "markdown",
   "id": "5aae85ff",
   "metadata": {
    "ExecuteTime": {
     "end_time": "2023-01-12T16:46:16.921332Z",
     "start_time": "2023-01-12T16:46:16.906340Z"
    }
   },
   "source": [
    "# 0.1 Helper Functions"
   ]
  },
  {
   "cell_type": "code",
   "execution_count": 414,
   "id": "da881371",
   "metadata": {
    "ExecuteTime": {
     "end_time": "2023-01-12T23:03:20.200878Z",
     "start_time": "2023-01-12T23:03:20.187886Z"
    }
   },
   "outputs": [],
   "source": [
    "def jupyter_settings():\n",
    "        %matplotlib inline\n",
    "        \n",
    "        plt.style.use('bmh')\n",
    "        plt.rcParams['figure.figsize'] = [25 , 12]\n",
    "        plt.rcParams['font.size'] = 24\n",
    "        \n",
    "        display( HTML( '<style>.container { width:100% !important; }</style>') )\n",
    "        pd.options.display.max_columns = None\n",
    "        pd.options.display.max_rows = None\n",
    "        pd.set_option( 'display.expand_frame_repr', False )\n",
    "        \n",
    "        sns.set()"
   ]
  },
  {
   "cell_type": "code",
   "execution_count": 415,
   "id": "a3ff0493",
   "metadata": {
    "ExecuteTime": {
     "end_time": "2023-01-12T23:03:21.225808Z",
     "start_time": "2023-01-12T23:03:21.211813Z"
    }
   },
   "outputs": [
    {
     "data": {
      "text/html": [
       "<style>.container { width:100% !important; }</style>"
      ],
      "text/plain": [
       "<IPython.core.display.HTML object>"
      ]
     },
     "metadata": {},
     "output_type": "display_data"
    }
   ],
   "source": [
    "jupyter_settings()"
   ]
  },
  {
   "cell_type": "markdown",
   "id": "a5301b37",
   "metadata": {
    "heading_collapsed": true
   },
   "source": [
    "# 0.2 Loading Dataset"
   ]
  },
  {
   "cell_type": "code",
   "execution_count": 416,
   "id": "2d8f6517",
   "metadata": {
    "ExecuteTime": {
     "end_time": "2023-01-12T23:03:28.025692Z",
     "start_time": "2023-01-12T23:03:23.235858Z"
    },
    "hidden": true
   },
   "outputs": [],
   "source": [
    "data = pd.read_csv('sinasc_2016.csv')"
   ]
  },
  {
   "cell_type": "code",
   "execution_count": 3,
   "id": "5b2eac9d",
   "metadata": {
    "ExecuteTime": {
     "end_time": "2023-01-12T14:57:39.219918Z",
     "start_time": "2023-01-12T14:57:39.171948Z"
    },
    "hidden": true
   },
   "outputs": [
    {
     "data": {
      "text/html": [
       "<div>\n",
       "<style scoped>\n",
       "    .dataframe tbody tr th:only-of-type {\n",
       "        vertical-align: middle;\n",
       "    }\n",
       "\n",
       "    .dataframe tbody tr th {\n",
       "        vertical-align: top;\n",
       "    }\n",
       "\n",
       "    .dataframe thead th {\n",
       "        text-align: right;\n",
       "    }\n",
       "</style>\n",
       "<table border=\"1\" class=\"dataframe\">\n",
       "  <thead>\n",
       "    <tr style=\"text-align: right;\">\n",
       "      <th></th>\n",
       "      <th>DTNASC</th>\n",
       "      <th>CODMUNNASC</th>\n",
       "      <th>CODMUNRES</th>\n",
       "      <th>DTNASCMAE</th>\n",
       "      <th>CODESTAB</th>\n",
       "      <th>RACACORMAE</th>\n",
       "      <th>LOCNASC</th>\n",
       "      <th>PARTO</th>\n",
       "      <th>PESO</th>\n",
       "      <th>ESCMAE2010</th>\n",
       "      <th>ESTCIVMAE</th>\n",
       "      <th>GESTACAO</th>\n",
       "      <th>SEMAGESTAC</th>\n",
       "      <th>SERIESCMAE</th>\n",
       "      <th>IDADEPAI</th>\n",
       "      <th>TPAPRESENT</th>\n",
       "      <th>STTRABPART</th>\n",
       "      <th>STCESPARTO</th>\n",
       "      <th>TPNASCASSI</th>\n",
       "      <th>CONSPRENAT</th>\n",
       "    </tr>\n",
       "  </thead>\n",
       "  <tbody>\n",
       "    <tr>\n",
       "      <th>0</th>\n",
       "      <td>19022016</td>\n",
       "      <td>110001</td>\n",
       "      <td>110001</td>\n",
       "      <td>18121987.0</td>\n",
       "      <td>2679477.0</td>\n",
       "      <td>1.0</td>\n",
       "      <td>1</td>\n",
       "      <td>1.0</td>\n",
       "      <td>3100</td>\n",
       "      <td>2.0</td>\n",
       "      <td>2.0</td>\n",
       "      <td>5.0</td>\n",
       "      <td>39.0</td>\n",
       "      <td>8.0</td>\n",
       "      <td>24.0</td>\n",
       "      <td>2.0</td>\n",
       "      <td>2.0</td>\n",
       "      <td>3.0</td>\n",
       "      <td>1.0</td>\n",
       "      <td>9.0</td>\n",
       "    </tr>\n",
       "    <tr>\n",
       "      <th>1</th>\n",
       "      <td>22022016</td>\n",
       "      <td>110001</td>\n",
       "      <td>110001</td>\n",
       "      <td>17011998.0</td>\n",
       "      <td>NaN</td>\n",
       "      <td>5.0</td>\n",
       "      <td>4</td>\n",
       "      <td>1.0</td>\n",
       "      <td>1800</td>\n",
       "      <td>1.0</td>\n",
       "      <td>5.0</td>\n",
       "      <td>5.0</td>\n",
       "      <td>37.0</td>\n",
       "      <td>3.0</td>\n",
       "      <td>20.0</td>\n",
       "      <td>1.0</td>\n",
       "      <td>2.0</td>\n",
       "      <td>3.0</td>\n",
       "      <td>1.0</td>\n",
       "      <td>5.0</td>\n",
       "    </tr>\n",
       "    <tr>\n",
       "      <th>2</th>\n",
       "      <td>13022016</td>\n",
       "      <td>110001</td>\n",
       "      <td>110001</td>\n",
       "      <td>15021986.0</td>\n",
       "      <td>2679477.0</td>\n",
       "      <td>5.0</td>\n",
       "      <td>1</td>\n",
       "      <td>1.0</td>\n",
       "      <td>3545</td>\n",
       "      <td>1.0</td>\n",
       "      <td>5.0</td>\n",
       "      <td>5.0</td>\n",
       "      <td>39.0</td>\n",
       "      <td>NaN</td>\n",
       "      <td>38.0</td>\n",
       "      <td>1.0</td>\n",
       "      <td>2.0</td>\n",
       "      <td>3.0</td>\n",
       "      <td>1.0</td>\n",
       "      <td>7.0</td>\n",
       "    </tr>\n",
       "    <tr>\n",
       "      <th>3</th>\n",
       "      <td>5022016</td>\n",
       "      <td>110001</td>\n",
       "      <td>110001</td>\n",
       "      <td>7041986.0</td>\n",
       "      <td>2679477.0</td>\n",
       "      <td>5.0</td>\n",
       "      <td>1</td>\n",
       "      <td>1.0</td>\n",
       "      <td>3550</td>\n",
       "      <td>1.0</td>\n",
       "      <td>9.0</td>\n",
       "      <td>5.0</td>\n",
       "      <td>39.0</td>\n",
       "      <td>3.0</td>\n",
       "      <td>NaN</td>\n",
       "      <td>1.0</td>\n",
       "      <td>2.0</td>\n",
       "      <td>3.0</td>\n",
       "      <td>1.0</td>\n",
       "      <td>6.0</td>\n",
       "    </tr>\n",
       "    <tr>\n",
       "      <th>4</th>\n",
       "      <td>25022016</td>\n",
       "      <td>110001</td>\n",
       "      <td>110001</td>\n",
       "      <td>18121989.0</td>\n",
       "      <td>2679477.0</td>\n",
       "      <td>1.0</td>\n",
       "      <td>1</td>\n",
       "      <td>1.0</td>\n",
       "      <td>2obeso565</td>\n",
       "      <td>3.0</td>\n",
       "      <td>5.0</td>\n",
       "      <td>5.0</td>\n",
       "      <td>38.0</td>\n",
       "      <td>NaN</td>\n",
       "      <td>34.0</td>\n",
       "      <td>1.0</td>\n",
       "      <td>2.0</td>\n",
       "      <td>3.0</td>\n",
       "      <td>1.0</td>\n",
       "      <td>7.0</td>\n",
       "    </tr>\n",
       "  </tbody>\n",
       "</table>\n",
       "</div>"
      ],
      "text/plain": [
       "     DTNASC  CODMUNNASC  CODMUNRES   DTNASCMAE   CODESTAB  RACACORMAE  \\\n",
       "0  19022016      110001     110001  18121987.0  2679477.0         1.0   \n",
       "1  22022016      110001     110001  17011998.0        NaN         5.0   \n",
       "2  13022016      110001     110001  15021986.0  2679477.0         5.0   \n",
       "3   5022016      110001     110001   7041986.0  2679477.0         5.0   \n",
       "4  25022016      110001     110001  18121989.0  2679477.0         1.0   \n",
       "\n",
       "   LOCNASC  PARTO       PESO  ESCMAE2010  ESTCIVMAE  GESTACAO  SEMAGESTAC  \\\n",
       "0        1    1.0       3100         2.0        2.0       5.0        39.0   \n",
       "1        4    1.0       1800         1.0        5.0       5.0        37.0   \n",
       "2        1    1.0       3545         1.0        5.0       5.0        39.0   \n",
       "3        1    1.0       3550         1.0        9.0       5.0        39.0   \n",
       "4        1    1.0  2obeso565         3.0        5.0       5.0        38.0   \n",
       "\n",
       "   SERIESCMAE  IDADEPAI  TPAPRESENT  STTRABPART  STCESPARTO  TPNASCASSI  \\\n",
       "0         8.0      24.0         2.0         2.0         3.0         1.0   \n",
       "1         3.0      20.0         1.0         2.0         3.0         1.0   \n",
       "2         NaN      38.0         1.0         2.0         3.0         1.0   \n",
       "3         3.0       NaN         1.0         2.0         3.0         1.0   \n",
       "4         NaN      34.0         1.0         2.0         3.0         1.0   \n",
       "\n",
       "   CONSPRENAT  \n",
       "0         9.0  \n",
       "1         5.0  \n",
       "2         7.0  \n",
       "3         6.0  \n",
       "4         7.0  "
      ]
     },
     "execution_count": 3,
     "metadata": {},
     "output_type": "execute_result"
    }
   ],
   "source": [
    "data.head()"
   ]
  },
  {
   "cell_type": "markdown",
   "id": "c1414495",
   "metadata": {},
   "source": [
    "# 1.0 Data Description"
   ]
  },
  {
   "cell_type": "code",
   "execution_count": 535,
   "id": "c67ac594",
   "metadata": {
    "ExecuteTime": {
     "end_time": "2023-01-13T00:43:26.728656Z",
     "start_time": "2023-01-13T00:35:09.956236Z"
    }
   },
   "outputs": [],
   "source": [
    "df1 = data.copy()"
   ]
  },
  {
   "cell_type": "markdown",
   "id": "83283fbc",
   "metadata": {},
   "source": [
    "## 1.1 Data Columns Lowercase"
   ]
  },
  {
   "cell_type": "code",
   "execution_count": 536,
   "id": "82eccdc5",
   "metadata": {
    "ExecuteTime": {
     "end_time": "2023-01-13T00:43:26.747643Z",
     "start_time": "2023-01-13T00:43:26.731652Z"
    }
   },
   "outputs": [],
   "source": [
    "df1.columns = df1.columns.str.lower()"
   ]
  },
  {
   "cell_type": "code",
   "execution_count": 537,
   "id": "a0a3b6a7",
   "metadata": {
    "ExecuteTime": {
     "end_time": "2023-01-13T00:43:26.776625Z",
     "start_time": "2023-01-13T00:43:26.754638Z"
    }
   },
   "outputs": [
    {
     "data": {
      "text/plain": [
       "Index(['dtnasc', 'codmunnasc', 'codmunres', 'dtnascmae', 'codestab',\n",
       "       'racacormae', 'locnasc', 'parto', 'peso', 'escmae2010', 'estcivmae',\n",
       "       'gestacao', 'semagestac', 'seriescmae', 'idadepai', 'tpapresent',\n",
       "       'sttrabpart', 'stcesparto', 'tpnascassi', 'consprenat'],\n",
       "      dtype='object')"
      ]
     },
     "execution_count": 537,
     "metadata": {},
     "output_type": "execute_result"
    }
   ],
   "source": [
    "df1.columns"
   ]
  },
  {
   "cell_type": "markdown",
   "id": "ab35088f",
   "metadata": {},
   "source": [
    "## 1.2 Data Dimension"
   ]
  },
  {
   "cell_type": "code",
   "execution_count": 538,
   "id": "05522a32",
   "metadata": {
    "ExecuteTime": {
     "end_time": "2023-01-13T00:43:26.792615Z",
     "start_time": "2023-01-13T00:43:26.780622Z"
    }
   },
   "outputs": [
    {
     "name": "stdout",
     "output_type": "stream",
     "text": [
      "Number of Rows: 2857800\n",
      "Number of Columns: 20\n"
     ]
    }
   ],
   "source": [
    "print('Number of Rows: {}'.format(df1.shape[0]))\n",
    "print('Number of Columns: {}'.format(df1.shape[1]))"
   ]
  },
  {
   "cell_type": "markdown",
   "id": "7465bbcb",
   "metadata": {},
   "source": [
    "## 1.3 Data Types"
   ]
  },
  {
   "cell_type": "code",
   "execution_count": 539,
   "id": "cde25002",
   "metadata": {
    "ExecuteTime": {
     "end_time": "2023-01-13T00:43:26.824595Z",
     "start_time": "2023-01-13T00:43:26.795613Z"
    }
   },
   "outputs": [
    {
     "data": {
      "text/plain": [
       "dtnasc          int64\n",
       "codmunnasc      int64\n",
       "codmunres       int64\n",
       "dtnascmae     float64\n",
       "codestab      float64\n",
       "racacormae    float64\n",
       "locnasc         int64\n",
       "parto         float64\n",
       "peso           object\n",
       "escmae2010    float64\n",
       "estcivmae     float64\n",
       "gestacao      float64\n",
       "semagestac    float64\n",
       "seriescmae    float64\n",
       "idadepai      float64\n",
       "tpapresent    float64\n",
       "sttrabpart    float64\n",
       "stcesparto    float64\n",
       "tpnascassi    float64\n",
       "consprenat    float64\n",
       "dtype: object"
      ]
     },
     "execution_count": 539,
     "metadata": {},
     "output_type": "execute_result"
    }
   ],
   "source": [
    "df1.dtypes"
   ]
  },
  {
   "cell_type": "markdown",
   "id": "f447f901",
   "metadata": {},
   "source": [
    "## 1.4 Check NA"
   ]
  },
  {
   "cell_type": "code",
   "execution_count": 540,
   "id": "ff108f6b",
   "metadata": {
    "ExecuteTime": {
     "end_time": "2023-01-13T00:43:27.374541Z",
     "start_time": "2023-01-13T00:43:26.827593Z"
    }
   },
   "outputs": [
    {
     "data": {
      "text/plain": [
       "dtnasc              0\n",
       "codmunnasc          0\n",
       "codmunres           0\n",
       "dtnascmae       25426\n",
       "codestab        26433\n",
       "racacormae     134985\n",
       "locnasc             0\n",
       "parto            2344\n",
       "peso                0\n",
       "escmae2010      38287\n",
       "estcivmae       21331\n",
       "gestacao        55768\n",
       "semagestac      56968\n",
       "seriescmae    1113667\n",
       "idadepai      1658950\n",
       "tpapresent      29880\n",
       "sttrabpart      59664\n",
       "stcesparto      50641\n",
       "tpnascassi      20259\n",
       "consprenat      58187\n",
       "dtype: int64"
      ]
     },
     "execution_count": 540,
     "metadata": {},
     "output_type": "execute_result"
    }
   ],
   "source": [
    "df1.isna().sum()"
   ]
  },
  {
   "cell_type": "markdown",
   "id": "0576962d",
   "metadata": {
    "ExecuteTime": {
     "end_time": "2023-01-12T17:01:57.153001Z",
     "start_time": "2023-01-12T17:01:57.140010Z"
    }
   },
   "source": [
    "## 1.5 Data Descriptive"
   ]
  },
  {
   "cell_type": "code",
   "execution_count": 541,
   "id": "12f703c5",
   "metadata": {
    "ExecuteTime": {
     "end_time": "2023-01-13T00:44:47.895203Z",
     "start_time": "2023-01-13T00:43:27.377540Z"
    }
   },
   "outputs": [],
   "source": [
    "num_attributes = df1.select_dtypes(include=['int64', 'float64'])\n",
    "cat_attributes = df1.select_dtypes(exclude=['int64', 'float64', 'datetime64[ns]'])"
   ]
  },
  {
   "cell_type": "code",
   "execution_count": 542,
   "id": "8f75869a",
   "metadata": {
    "ExecuteTime": {
     "end_time": "2023-01-13T00:45:00.871299Z",
     "start_time": "2023-01-13T00:44:47.898196Z"
    }
   },
   "outputs": [
    {
     "data": {
      "text/html": [
       "<div>\n",
       "<style scoped>\n",
       "    .dataframe tbody tr th:only-of-type {\n",
       "        vertical-align: middle;\n",
       "    }\n",
       "\n",
       "    .dataframe tbody tr th {\n",
       "        vertical-align: top;\n",
       "    }\n",
       "\n",
       "    .dataframe thead th {\n",
       "        text-align: right;\n",
       "    }\n",
       "</style>\n",
       "<table border=\"1\" class=\"dataframe\">\n",
       "  <thead>\n",
       "    <tr style=\"text-align: right;\">\n",
       "      <th></th>\n",
       "      <th>attributes,</th>\n",
       "      <th>min</th>\n",
       "      <th>max</th>\n",
       "      <th>range</th>\n",
       "      <th>mean</th>\n",
       "      <th>median</th>\n",
       "      <th>std</th>\n",
       "      <th>skew</th>\n",
       "      <th>kurtosis</th>\n",
       "    </tr>\n",
       "  </thead>\n",
       "  <tbody>\n",
       "    <tr>\n",
       "      <th>0</th>\n",
       "      <td>dtnasc</td>\n",
       "      <td>1012016.0</td>\n",
       "      <td>31122016.0</td>\n",
       "      <td>30110000.0</td>\n",
       "      <td>1.574314e+07</td>\n",
       "      <td>16022016.0</td>\n",
       "      <td>8.771673e+06</td>\n",
       "      <td>0.011023</td>\n",
       "      <td>-1.188331</td>\n",
       "    </tr>\n",
       "    <tr>\n",
       "      <th>1</th>\n",
       "      <td>codmunnasc</td>\n",
       "      <td>110001.0</td>\n",
       "      <td>530010.0</td>\n",
       "      <td>420009.0</td>\n",
       "      <td>3.198010e+05</td>\n",
       "      <td>330100.0</td>\n",
       "      <td>9.863578e+04</td>\n",
       "      <td>0.046294</td>\n",
       "      <td>-0.189838</td>\n",
       "    </tr>\n",
       "    <tr>\n",
       "      <th>2</th>\n",
       "      <td>codmunres</td>\n",
       "      <td>110000.0</td>\n",
       "      <td>530010.0</td>\n",
       "      <td>420010.0</td>\n",
       "      <td>3.197213e+05</td>\n",
       "      <td>330070.0</td>\n",
       "      <td>9.857628e+04</td>\n",
       "      <td>0.042178</td>\n",
       "      <td>-0.195972</td>\n",
       "    </tr>\n",
       "    <tr>\n",
       "      <th>3</th>\n",
       "      <td>dtnascmae</td>\n",
       "      <td>1011963.0</td>\n",
       "      <td>31122003.0</td>\n",
       "      <td>30110040.0</td>\n",
       "      <td>1.567807e+07</td>\n",
       "      <td>NaN</td>\n",
       "      <td>8.783088e+06</td>\n",
       "      <td>0.021841</td>\n",
       "      <td>-1.192598</td>\n",
       "    </tr>\n",
       "    <tr>\n",
       "      <th>4</th>\n",
       "      <td>codestab</td>\n",
       "      <td>0.0</td>\n",
       "      <td>9999999.0</td>\n",
       "      <td>9999999.0</td>\n",
       "      <td>2.737186e+06</td>\n",
       "      <td>NaN</td>\n",
       "      <td>1.523812e+06</td>\n",
       "      <td>1.393317</td>\n",
       "      <td>2.800512</td>\n",
       "    </tr>\n",
       "    <tr>\n",
       "      <th>5</th>\n",
       "      <td>racacormae</td>\n",
       "      <td>1.0</td>\n",
       "      <td>5.0</td>\n",
       "      <td>4.0</td>\n",
       "      <td>2.793803e+00</td>\n",
       "      <td>NaN</td>\n",
       "      <td>1.442509e+00</td>\n",
       "      <td>-0.354459</td>\n",
       "      <td>-1.793985</td>\n",
       "    </tr>\n",
       "    <tr>\n",
       "      <th>6</th>\n",
       "      <td>locnasc</td>\n",
       "      <td>1.0</td>\n",
       "      <td>9.0</td>\n",
       "      <td>8.0</td>\n",
       "      <td>1.029254e+00</td>\n",
       "      <td>1.0</td>\n",
       "      <td>2.505947e-01</td>\n",
       "      <td>10.544023</td>\n",
       "      <td>138.513467</td>\n",
       "    </tr>\n",
       "    <tr>\n",
       "      <th>7</th>\n",
       "      <td>parto</td>\n",
       "      <td>1.0</td>\n",
       "      <td>9.0</td>\n",
       "      <td>8.0</td>\n",
       "      <td>1.554619e+00</td>\n",
       "      <td>NaN</td>\n",
       "      <td>4.988197e-01</td>\n",
       "      <td>-0.110759</td>\n",
       "      <td>-0.367521</td>\n",
       "    </tr>\n",
       "    <tr>\n",
       "      <th>8</th>\n",
       "      <td>escmae2010</td>\n",
       "      <td>0.0</td>\n",
       "      <td>9.0</td>\n",
       "      <td>9.0</td>\n",
       "      <td>2.997734e+00</td>\n",
       "      <td>NaN</td>\n",
       "      <td>1.134623e+00</td>\n",
       "      <td>1.023852</td>\n",
       "      <td>3.195956</td>\n",
       "    </tr>\n",
       "    <tr>\n",
       "      <th>9</th>\n",
       "      <td>estcivmae</td>\n",
       "      <td>1.0</td>\n",
       "      <td>9.0</td>\n",
       "      <td>8.0</td>\n",
       "      <td>2.307748e+00</td>\n",
       "      <td>NaN</td>\n",
       "      <td>1.617562e+00</td>\n",
       "      <td>1.100688</td>\n",
       "      <td>0.038170</td>\n",
       "    </tr>\n",
       "    <tr>\n",
       "      <th>10</th>\n",
       "      <td>gestacao</td>\n",
       "      <td>1.0</td>\n",
       "      <td>9.0</td>\n",
       "      <td>8.0</td>\n",
       "      <td>4.892511e+00</td>\n",
       "      <td>NaN</td>\n",
       "      <td>4.596385e-01</td>\n",
       "      <td>-2.421965</td>\n",
       "      <td>14.348684</td>\n",
       "    </tr>\n",
       "    <tr>\n",
       "      <th>11</th>\n",
       "      <td>semagestac</td>\n",
       "      <td>19.0</td>\n",
       "      <td>45.0</td>\n",
       "      <td>26.0</td>\n",
       "      <td>3.846677e+01</td>\n",
       "      <td>NaN</td>\n",
       "      <td>2.223863e+00</td>\n",
       "      <td>-2.262759</td>\n",
       "      <td>10.704416</td>\n",
       "    </tr>\n",
       "    <tr>\n",
       "      <th>12</th>\n",
       "      <td>seriescmae</td>\n",
       "      <td>1.0</td>\n",
       "      <td>8.0</td>\n",
       "      <td>7.0</td>\n",
       "      <td>4.091664e+00</td>\n",
       "      <td>NaN</td>\n",
       "      <td>2.301468e+00</td>\n",
       "      <td>0.601448</td>\n",
       "      <td>-0.992525</td>\n",
       "    </tr>\n",
       "    <tr>\n",
       "      <th>13</th>\n",
       "      <td>idadepai</td>\n",
       "      <td>9.0</td>\n",
       "      <td>99.0</td>\n",
       "      <td>90.0</td>\n",
       "      <td>3.100480e+01</td>\n",
       "      <td>NaN</td>\n",
       "      <td>7.730767e+00</td>\n",
       "      <td>0.697275</td>\n",
       "      <td>1.187349</td>\n",
       "    </tr>\n",
       "    <tr>\n",
       "      <th>14</th>\n",
       "      <td>tpapresent</td>\n",
       "      <td>1.0</td>\n",
       "      <td>9.0</td>\n",
       "      <td>8.0</td>\n",
       "      <td>1.123394e+00</td>\n",
       "      <td>NaN</td>\n",
       "      <td>8.164017e-01</td>\n",
       "      <td>8.952705</td>\n",
       "      <td>82.776490</td>\n",
       "    </tr>\n",
       "    <tr>\n",
       "      <th>15</th>\n",
       "      <td>sttrabpart</td>\n",
       "      <td>1.0</td>\n",
       "      <td>9.0</td>\n",
       "      <td>8.0</td>\n",
       "      <td>2.026774e+00</td>\n",
       "      <td>NaN</td>\n",
       "      <td>1.232168e+00</td>\n",
       "      <td>4.906754</td>\n",
       "      <td>25.394254</td>\n",
       "    </tr>\n",
       "    <tr>\n",
       "      <th>16</th>\n",
       "      <td>stcesparto</td>\n",
       "      <td>1.0</td>\n",
       "      <td>9.0</td>\n",
       "      <td>8.0</td>\n",
       "      <td>2.418532e+00</td>\n",
       "      <td>NaN</td>\n",
       "      <td>1.494277e+00</td>\n",
       "      <td>2.715812</td>\n",
       "      <td>10.137373</td>\n",
       "    </tr>\n",
       "    <tr>\n",
       "      <th>17</th>\n",
       "      <td>tpnascassi</td>\n",
       "      <td>1.0</td>\n",
       "      <td>9.0</td>\n",
       "      <td>8.0</td>\n",
       "      <td>1.118061e+00</td>\n",
       "      <td>NaN</td>\n",
       "      <td>4.613853e-01</td>\n",
       "      <td>7.405371</td>\n",
       "      <td>91.546316</td>\n",
       "    </tr>\n",
       "    <tr>\n",
       "      <th>18</th>\n",
       "      <td>consprenat</td>\n",
       "      <td>0.0</td>\n",
       "      <td>99.0</td>\n",
       "      <td>99.0</td>\n",
       "      <td>8.283487e+00</td>\n",
       "      <td>NaN</td>\n",
       "      <td>7.331732e+00</td>\n",
       "      <td>10.401215</td>\n",
       "      <td>125.712793</td>\n",
       "    </tr>\n",
       "  </tbody>\n",
       "</table>\n",
       "</div>"
      ],
      "text/plain": [
       "   attributes,        min         max       range          mean      median           std       skew    kurtosis\n",
       "0       dtnasc  1012016.0  31122016.0  30110000.0  1.574314e+07  16022016.0  8.771673e+06   0.011023   -1.188331\n",
       "1   codmunnasc   110001.0    530010.0    420009.0  3.198010e+05    330100.0  9.863578e+04   0.046294   -0.189838\n",
       "2    codmunres   110000.0    530010.0    420010.0  3.197213e+05    330070.0  9.857628e+04   0.042178   -0.195972\n",
       "3    dtnascmae  1011963.0  31122003.0  30110040.0  1.567807e+07         NaN  8.783088e+06   0.021841   -1.192598\n",
       "4     codestab        0.0   9999999.0   9999999.0  2.737186e+06         NaN  1.523812e+06   1.393317    2.800512\n",
       "5   racacormae        1.0         5.0         4.0  2.793803e+00         NaN  1.442509e+00  -0.354459   -1.793985\n",
       "6      locnasc        1.0         9.0         8.0  1.029254e+00         1.0  2.505947e-01  10.544023  138.513467\n",
       "7        parto        1.0         9.0         8.0  1.554619e+00         NaN  4.988197e-01  -0.110759   -0.367521\n",
       "8   escmae2010        0.0         9.0         9.0  2.997734e+00         NaN  1.134623e+00   1.023852    3.195956\n",
       "9    estcivmae        1.0         9.0         8.0  2.307748e+00         NaN  1.617562e+00   1.100688    0.038170\n",
       "10    gestacao        1.0         9.0         8.0  4.892511e+00         NaN  4.596385e-01  -2.421965   14.348684\n",
       "11  semagestac       19.0        45.0        26.0  3.846677e+01         NaN  2.223863e+00  -2.262759   10.704416\n",
       "12  seriescmae        1.0         8.0         7.0  4.091664e+00         NaN  2.301468e+00   0.601448   -0.992525\n",
       "13    idadepai        9.0        99.0        90.0  3.100480e+01         NaN  7.730767e+00   0.697275    1.187349\n",
       "14  tpapresent        1.0         9.0         8.0  1.123394e+00         NaN  8.164017e-01   8.952705   82.776490\n",
       "15  sttrabpart        1.0         9.0         8.0  2.026774e+00         NaN  1.232168e+00   4.906754   25.394254\n",
       "16  stcesparto        1.0         9.0         8.0  2.418532e+00         NaN  1.494277e+00   2.715812   10.137373\n",
       "17  tpnascassi        1.0         9.0         8.0  1.118061e+00         NaN  4.613853e-01   7.405371   91.546316\n",
       "18  consprenat        0.0        99.0        99.0  8.283487e+00         NaN  7.331732e+00  10.401215  125.712793"
      ]
     },
     "execution_count": 542,
     "metadata": {},
     "output_type": "execute_result"
    }
   ],
   "source": [
    "#Central Tendency - mean, median\n",
    "ct1 = pd.DataFrame(num_attributes.apply(np.mean)).T\n",
    "ct2 = pd.DataFrame(num_attributes.apply(np.median)).T\n",
    "\n",
    "#dispersion - std, min, max, range, skew, kurtosis\n",
    "d1 = pd.DataFrame(num_attributes.apply(np.std)).T\n",
    "d2 = pd.DataFrame(num_attributes.apply(min)).T\n",
    "d3 = pd.DataFrame(num_attributes.apply(max)).T\n",
    "d4 = pd.DataFrame(num_attributes.apply(lambda x: x.max() - x.min())).T\n",
    "d5 = pd.DataFrame(num_attributes.apply(lambda x: x.skew())).T\n",
    "d6 = pd.DataFrame(num_attributes.apply(lambda x: x.kurtosis())).T\n",
    "                  \n",
    "#concat\n",
    "m1 = pd.concat([d2, d3, d4, ct1, ct2, d1, d5, d6]).T.reset_index()\n",
    "m1.columns = ['attributes,', 'min', 'max', 'range', 'mean', 'median', 'std', 'skew', 'kurtosis']\n",
    "m1"
   ]
  },
  {
   "cell_type": "markdown",
   "id": "0a4e022c",
   "metadata": {},
   "source": [
    "# 2.0 Answering the questions"
   ]
  },
  {
   "cell_type": "code",
   "execution_count": 543,
   "id": "73770a31",
   "metadata": {
    "ExecuteTime": {
     "end_time": "2023-01-13T00:45:01.010196Z",
     "start_time": "2023-01-13T00:45:00.874296Z"
    }
   },
   "outputs": [],
   "source": [
    "df2 = df1.copy()"
   ]
  },
  {
   "cell_type": "markdown",
   "id": "445359f5",
   "metadata": {
    "ExecuteTime": {
     "end_time": "2023-01-12T17:07:37.829586Z",
     "start_time": "2023-01-12T17:07:37.824589Z"
    }
   },
   "source": [
    "# 2.1 Question 1"
   ]
  },
  {
   "cell_type": "markdown",
   "id": "629e7249",
   "metadata": {},
   "source": [
    "Considering that the first two digits of the municipality code represent its Federative Unit (UF):\n",
    "\n",
    "a) Create two variables, one with the code and the other with the name of the UF of birth and show the distribution.\n",
    "\n",
    "b) What is the name of the five most frequent UFs, where the municipality of residence is the same as the one at birth?\n",
    "\n",
    "c) How many municipalities appear in each UF of birth?\n"
   ]
  },
  {
   "cell_type": "markdown",
   "id": "c898cc01",
   "metadata": {},
   "source": [
    "### 2.1.1 A) Create two variables, one with the code and the other with the name of the UF of birth and show the distribution."
   ]
  },
  {
   "cell_type": "code",
   "execution_count": 544,
   "id": "c485710c",
   "metadata": {
    "ExecuteTime": {
     "end_time": "2023-01-13T00:45:03.221956Z",
     "start_time": "2023-01-13T00:45:01.015158Z"
    }
   },
   "outputs": [],
   "source": [
    "df2['codestadnasc'] = df2['codmunnasc'].astype(str).str[:2].astype(int)"
   ]
  },
  {
   "cell_type": "code",
   "execution_count": 545,
   "id": "acbc4682",
   "metadata": {
    "ExecuteTime": {
     "end_time": "2023-01-13T00:45:03.269942Z",
     "start_time": "2023-01-13T00:45:03.223953Z"
    }
   },
   "outputs": [
    {
     "data": {
      "text/plain": [
       "array([11, 12, 13, 14, 15, 16, 17, 21, 22, 23, 24, 25, 26, 29, 27, 28, 31,\n",
       "       33, 32, 35, 50, 41, 42, 43, 51, 52, 53])"
      ]
     },
     "execution_count": 545,
     "metadata": {},
     "output_type": "execute_result"
    }
   ],
   "source": [
    "df2['codestadnasc'].unique()"
   ]
  },
  {
   "cell_type": "code",
   "execution_count": 546,
   "id": "6598b635",
   "metadata": {
    "ExecuteTime": {
     "end_time": "2023-01-13T00:45:03.363884Z",
     "start_time": "2023-01-13T00:45:03.272941Z"
    }
   },
   "outputs": [],
   "source": [
    "df2['estadonasc'] = df2['codestadnasc'].map({ 11: 'Acre', 12: 'Amapá', 13: 'Amazona', 14: 'Pará', 15: 'Rondonia',\n",
    "                                              16: 'Roraima', 17: 'Tocantins', 21: 'Alagoas', 22: 'Bahia', 23: 'Ceará',\n",
    "                                              24: 'Maranhão', 25: 'Paraíba', 26: 'Pernambuco', 29:'Rio Grande do Norte',\n",
    "                                              27: 'Piauí', 28: 'Sergipe', 31: 'Espírito Santo', 33: 'Minas Gerais', \n",
    "                                              32: 'Rio de Janeiro', 35: 'São Paulo', 41: 'Mato Grosso', \n",
    "                                              42: 'Mato Grosso do Sul', 43: 'Goiás', 50: 'Distrito Federal', 51: 'Paraná',\n",
    "                                              52: 'Santa Catarina', 53: 'Rio Grande do Sul'})"
   ]
  },
  {
   "cell_type": "code",
   "execution_count": 547,
   "id": "5cb48e76",
   "metadata": {
    "ExecuteTime": {
     "end_time": "2023-01-13T00:45:03.616272Z",
     "start_time": "2023-01-13T00:45:03.365883Z"
    }
   },
   "outputs": [],
   "source": [
    "number_nasc_state = df2.groupby('estadonasc').size().sort_values(ascending = False)"
   ]
  },
  {
   "cell_type": "code",
   "execution_count": 548,
   "id": "7636b2f9",
   "metadata": {
    "ExecuteTime": {
     "end_time": "2023-01-13T00:45:03.632260Z",
     "start_time": "2023-01-13T00:45:03.618268Z"
    }
   },
   "outputs": [
    {
     "data": {
      "text/plain": [
       "estadonasc\n",
       "São Paulo              602970\n",
       "Espírito Santo         252961\n",
       "Minas Gerais           219174\n",
       "Rio Grande do Norte    198214\n",
       "Mato Grosso            154636\n",
       "Goiás                  141446\n",
       "Rondonia               135701\n",
       "Pernambuco             131773\n",
       "Ceará                  126377\n",
       "Alagoas                108537\n",
       "Mato Grosso do Sul      95466\n",
       "Santa Catarina          83605\n",
       "Amazona                 76208\n",
       "Rio Grande do Sul       55900\n",
       "Paraíba                 55724\n",
       "Paraná                  53346\n",
       "Rio de Janeiro          52991\n",
       "Bahia                   49693\n",
       "Piauí                   47380\n",
       "Maranhão                45909\n",
       "Distrito Federal        42009\n",
       "Sergipe                 33159\n",
       "Acre                    26706\n",
       "Tocantins               23370\n",
       "Roraima                 16850\n",
       "Amapá                   16333\n",
       "Pará                    11362\n",
       "dtype: int64"
      ]
     },
     "execution_count": 548,
     "metadata": {},
     "output_type": "execute_result"
    }
   ],
   "source": [
    "number_nasc_state"
   ]
  },
  {
   "cell_type": "code",
   "execution_count": 549,
   "id": "b6ae699b",
   "metadata": {
    "ExecuteTime": {
     "end_time": "2023-01-13T00:46:31.350034Z",
     "start_time": "2023-01-13T00:45:03.634258Z"
    }
   },
   "outputs": [
    {
     "data": {
      "image/png": "[encoded data removed]",
      "text/plain": [
       "<Figure size 1800x864 with 1 Axes>"
      ]
     },
     "metadata": {},
     "output_type": "display_data"
    }
   ],
   "source": [
    "sns.countplot(x='estadonasc', data=df2, order = df2['estadonasc'].value_counts().index)\n",
    "plt.xticks(rotation=45);"
   ]
  },
  {
   "cell_type": "markdown",
   "id": "9e543300",
   "metadata": {},
   "source": [
    "### 2.1.2 B) What is the name of the five most frequent UFs, where the municipality of residence is the same as the one at birth?"
   ]
  },
  {
   "cell_type": "code",
   "execution_count": 550,
   "id": "de3ff016",
   "metadata": {
    "ExecuteTime": {
     "end_time": "2023-01-13T00:46:31.473953Z",
     "start_time": "2023-01-13T00:46:31.353027Z"
    }
   },
   "outputs": [],
   "source": [
    "aux = df2[['codmunnasc', 'codmunres']]"
   ]
  },
  {
   "cell_type": "code",
   "execution_count": 551,
   "id": "3f58301a",
   "metadata": {
    "ExecuteTime": {
     "end_time": "2023-01-13T00:47:21.947547Z",
     "start_time": "2023-01-13T00:46:31.475952Z"
    }
   },
   "outputs": [],
   "source": [
    "aux['new'] = aux.apply(lambda x: 'yes' if x['codmunnasc'] == x['codmunres'] else np.nan, axis=1)"
   ]
  },
  {
   "cell_type": "code",
   "execution_count": 552,
   "id": "b6db83c3",
   "metadata": {
    "ExecuteTime": {
     "end_time": "2023-01-13T00:47:21.965448Z",
     "start_time": "2023-01-13T00:47:21.949457Z"
    }
   },
   "outputs": [
    {
     "data": {
      "text/html": [
       "<div>\n",
       "<style scoped>\n",
       "    .dataframe tbody tr th:only-of-type {\n",
       "        vertical-align: middle;\n",
       "    }\n",
       "\n",
       "    .dataframe tbody tr th {\n",
       "        vertical-align: top;\n",
       "    }\n",
       "\n",
       "    .dataframe thead th {\n",
       "        text-align: right;\n",
       "    }\n",
       "</style>\n",
       "<table border=\"1\" class=\"dataframe\">\n",
       "  <thead>\n",
       "    <tr style=\"text-align: right;\">\n",
       "      <th></th>\n",
       "      <th>codmunnasc</th>\n",
       "      <th>codmunres</th>\n",
       "      <th>new</th>\n",
       "    </tr>\n",
       "  </thead>\n",
       "  <tbody>\n",
       "    <tr>\n",
       "      <th>0</th>\n",
       "      <td>110001</td>\n",
       "      <td>110001</td>\n",
       "      <td>yes</td>\n",
       "    </tr>\n",
       "    <tr>\n",
       "      <th>1</th>\n",
       "      <td>110001</td>\n",
       "      <td>110001</td>\n",
       "      <td>yes</td>\n",
       "    </tr>\n",
       "    <tr>\n",
       "      <th>2</th>\n",
       "      <td>110001</td>\n",
       "      <td>110001</td>\n",
       "      <td>yes</td>\n",
       "    </tr>\n",
       "    <tr>\n",
       "      <th>3</th>\n",
       "      <td>110001</td>\n",
       "      <td>110001</td>\n",
       "      <td>yes</td>\n",
       "    </tr>\n",
       "    <tr>\n",
       "      <th>4</th>\n",
       "      <td>110001</td>\n",
       "      <td>110001</td>\n",
       "      <td>yes</td>\n",
       "    </tr>\n",
       "  </tbody>\n",
       "</table>\n",
       "</div>"
      ],
      "text/plain": [
       "   codmunnasc  codmunres  new\n",
       "0      110001     110001  yes\n",
       "1      110001     110001  yes\n",
       "2      110001     110001  yes\n",
       "3      110001     110001  yes\n",
       "4      110001     110001  yes"
      ]
     },
     "execution_count": 552,
     "metadata": {},
     "output_type": "execute_result"
    }
   ],
   "source": [
    "aux.head()"
   ]
  },
  {
   "cell_type": "code",
   "execution_count": 553,
   "id": "4b7efe79",
   "metadata": {
    "ExecuteTime": {
     "end_time": "2023-01-13T00:47:24.191433Z",
     "start_time": "2023-01-13T00:47:21.971444Z"
    }
   },
   "outputs": [],
   "source": [
    "aux['codestadnasc'] = aux['codmunnasc'].astype(str).str[:2].astype(int)"
   ]
  },
  {
   "cell_type": "code",
   "execution_count": 554,
   "id": "5e12e09c",
   "metadata": {
    "ExecuteTime": {
     "end_time": "2023-01-13T00:47:24.349335Z",
     "start_time": "2023-01-13T00:47:24.193431Z"
    }
   },
   "outputs": [],
   "source": [
    "aux['estadonasc'] = aux['codestadnasc'].map({ 11: 'Acre', 12: 'Amapá', 13: 'Amazona', 14: 'Pará', 15: 'Rondonia',\n",
    "                                              16: 'Roraima', 17: 'Tocantins', 21: 'Alagoas', 22: 'Bahia', 23: 'Ceará',\n",
    "                                              24: 'Maranhão', 25: 'Paraíba', 26: 'Pernambuco', 29:'Rio Grande do Norte',\n",
    "                                              27: 'Piauí', 28: 'Sergipe', 31: 'Espírito Santo', 33: 'Minas Gerais', \n",
    "                                              32: 'Rio de Janeiro', 35: 'São Paulo', 41: 'Mato Grosso', \n",
    "                                              42: 'Mato Grosso do Sul', 43: 'Goiás', 50: 'Distrito Federal', 51: 'Paraná',\n",
    "                                              52: 'Santa Catarina', 53: 'Rio Grande do Sul'})"
   ]
  },
  {
   "cell_type": "code",
   "execution_count": 555,
   "id": "02bcfad2",
   "metadata": {
    "ExecuteTime": {
     "end_time": "2023-01-13T00:47:24.848299Z",
     "start_time": "2023-01-13T00:47:24.351335Z"
    }
   },
   "outputs": [],
   "source": [
    "aux1 = aux[aux['new'] == 'yes']"
   ]
  },
  {
   "cell_type": "code",
   "execution_count": 556,
   "id": "d30c6cc6",
   "metadata": {
    "ExecuteTime": {
     "end_time": "2023-01-13T00:47:25.021899Z",
     "start_time": "2023-01-13T00:47:24.850302Z"
    }
   },
   "outputs": [
    {
     "data": {
      "text/plain": [
       "estadonasc\n",
       "São Paulo              454466\n",
       "Espírito Santo         161827\n",
       "Minas Gerais           161794\n",
       "Rio Grande do Norte    137568\n",
       "Rondonia               105443\n",
       "Mato Grosso            104040\n",
       "Goiás                   99887\n",
       "Ceará                   83181\n",
       "Alagoas                 76898\n",
       "Amazona                 71174\n",
       "Pernambuco              61838\n",
       "Santa Catarina          58935\n",
       "Mato Grosso do Sul      58876\n",
       "Rio Grande do Sul       42740\n",
       "Paraná                  38737\n",
       "Distrito Federal        36290\n",
       "Rio de Janeiro          30793\n",
       "Paraíba                 28234\n",
       "Bahia                   27024\n",
       "Piauí                   26857\n",
       "Maranhão                24437\n",
       "Acre                    18951\n",
       "Sergipe                 13682\n",
       "Roraima                 13164\n",
       "Tocantins               12654\n",
       "Amapá                   11950\n",
       "Pará                     8668\n",
       "dtype: int64"
      ]
     },
     "execution_count": 556,
     "metadata": {},
     "output_type": "execute_result"
    }
   ],
   "source": [
    "tot = aux1.groupby('estadonasc').size().sort_values(ascending=False)\n",
    "tot"
   ]
  },
  {
   "cell_type": "code",
   "execution_count": 557,
   "id": "60a91696",
   "metadata": {
    "ExecuteTime": {
     "end_time": "2023-01-13T00:47:40.981553Z",
     "start_time": "2023-01-13T00:47:25.023896Z"
    }
   },
   "outputs": [
    {
     "data": {
      "image/png": "[encoded data removed]",
      "text/plain": [
       "<Figure size 1800x864 with 1 Axes>"
      ]
     },
     "metadata": {},
     "output_type": "display_data"
    }
   ],
   "source": [
    "sns.countplot(x='estadonasc', data=aux1, order = aux1['estadonasc'].value_counts().index)\n",
    "plt.xticks(rotation=45);"
   ]
  },
  {
   "cell_type": "markdown",
   "id": "0a3804d9",
   "metadata": {},
   "source": [
    "### 2.1.3 C) How many municipalities appear in each UF of birth?"
   ]
  },
  {
   "cell_type": "code",
   "execution_count": 558,
   "id": "f452fa4b",
   "metadata": {
    "ExecuteTime": {
     "end_time": "2023-01-13T00:47:41.485297Z",
     "start_time": "2023-01-13T00:47:40.984548Z"
    }
   },
   "outputs": [],
   "source": [
    "aux = df2.groupby('estadonasc')['codmunnasc'].nunique().sort_values(ascending= False)"
   ]
  },
  {
   "cell_type": "code",
   "execution_count": 559,
   "id": "3110c290",
   "metadata": {
    "ExecuteTime": {
     "end_time": "2023-01-13T00:47:43.704266Z",
     "start_time": "2023-01-13T00:47:41.487294Z"
    }
   },
   "outputs": [],
   "source": [
    "aux = df2['codestadnasc'] = df2['codmunnasc'].astype(str).str[:2].astype(int)"
   ]
  },
  {
   "cell_type": "markdown",
   "id": "0d0ea985",
   "metadata": {},
   "source": [
    "## 2.2 Question 2"
   ]
  },
  {
   "cell_type": "code",
   "execution_count": 560,
   "id": "d4a82e15",
   "metadata": {
    "ExecuteTime": {
     "end_time": "2023-01-13T00:47:43.908139Z",
     "start_time": "2023-01-13T00:47:43.706264Z"
    }
   },
   "outputs": [],
   "source": [
    "df3 = df2.copy()"
   ]
  },
  {
   "cell_type": "markdown",
   "id": "54e1dc5e",
   "metadata": {},
   "source": [
    "2. Create an integer variable with the age of the mother using the date 12/07/2021 as a reference.\n",
    "\n",
    "a) What are the three lowest ages and three highest ages of mothers?\n",
    "\n",
    "b) What is the frequency distribution of the age of mothers in Bahia?\n",
    "\n",
    "c) If there is any inconsistent age, take the necessary treatment and show."
   ]
  },
  {
   "cell_type": "code",
   "execution_count": 561,
   "id": "dfc61bac",
   "metadata": {
    "ExecuteTime": {
     "end_time": "2023-01-13T00:47:43.988091Z",
     "start_time": "2023-01-13T00:47:43.910139Z"
    }
   },
   "outputs": [
    {
     "data": {
      "text/html": [
       "<div>\n",
       "<style scoped>\n",
       "    .dataframe tbody tr th:only-of-type {\n",
       "        vertical-align: middle;\n",
       "    }\n",
       "\n",
       "    .dataframe tbody tr th {\n",
       "        vertical-align: top;\n",
       "    }\n",
       "\n",
       "    .dataframe thead th {\n",
       "        text-align: right;\n",
       "    }\n",
       "</style>\n",
       "<table border=\"1\" class=\"dataframe\">\n",
       "  <thead>\n",
       "    <tr style=\"text-align: right;\">\n",
       "      <th></th>\n",
       "      <th>dtnasc</th>\n",
       "      <th>codmunnasc</th>\n",
       "      <th>codmunres</th>\n",
       "      <th>dtnascmae</th>\n",
       "      <th>codestab</th>\n",
       "      <th>racacormae</th>\n",
       "      <th>locnasc</th>\n",
       "      <th>parto</th>\n",
       "      <th>peso</th>\n",
       "      <th>escmae2010</th>\n",
       "      <th>estcivmae</th>\n",
       "      <th>gestacao</th>\n",
       "      <th>semagestac</th>\n",
       "      <th>seriescmae</th>\n",
       "      <th>idadepai</th>\n",
       "      <th>tpapresent</th>\n",
       "      <th>sttrabpart</th>\n",
       "      <th>stcesparto</th>\n",
       "      <th>tpnascassi</th>\n",
       "      <th>consprenat</th>\n",
       "      <th>codestadnasc</th>\n",
       "      <th>estadonasc</th>\n",
       "    </tr>\n",
       "  </thead>\n",
       "  <tbody>\n",
       "    <tr>\n",
       "      <th>0</th>\n",
       "      <td>19022016</td>\n",
       "      <td>110001</td>\n",
       "      <td>110001</td>\n",
       "      <td>18121987.0</td>\n",
       "      <td>2679477.0</td>\n",
       "      <td>1.0</td>\n",
       "      <td>1</td>\n",
       "      <td>1.0</td>\n",
       "      <td>3100</td>\n",
       "      <td>2.0</td>\n",
       "      <td>2.0</td>\n",
       "      <td>5.0</td>\n",
       "      <td>39.0</td>\n",
       "      <td>8.0</td>\n",
       "      <td>24.0</td>\n",
       "      <td>2.0</td>\n",
       "      <td>2.0</td>\n",
       "      <td>3.0</td>\n",
       "      <td>1.0</td>\n",
       "      <td>9.0</td>\n",
       "      <td>11</td>\n",
       "      <td>Acre</td>\n",
       "    </tr>\n",
       "    <tr>\n",
       "      <th>1</th>\n",
       "      <td>22022016</td>\n",
       "      <td>110001</td>\n",
       "      <td>110001</td>\n",
       "      <td>17011998.0</td>\n",
       "      <td>NaN</td>\n",
       "      <td>5.0</td>\n",
       "      <td>4</td>\n",
       "      <td>1.0</td>\n",
       "      <td>1800</td>\n",
       "      <td>1.0</td>\n",
       "      <td>5.0</td>\n",
       "      <td>5.0</td>\n",
       "      <td>37.0</td>\n",
       "      <td>3.0</td>\n",
       "      <td>20.0</td>\n",
       "      <td>1.0</td>\n",
       "      <td>2.0</td>\n",
       "      <td>3.0</td>\n",
       "      <td>1.0</td>\n",
       "      <td>5.0</td>\n",
       "      <td>11</td>\n",
       "      <td>Acre</td>\n",
       "    </tr>\n",
       "    <tr>\n",
       "      <th>2</th>\n",
       "      <td>13022016</td>\n",
       "      <td>110001</td>\n",
       "      <td>110001</td>\n",
       "      <td>15021986.0</td>\n",
       "      <td>2679477.0</td>\n",
       "      <td>5.0</td>\n",
       "      <td>1</td>\n",
       "      <td>1.0</td>\n",
       "      <td>3545</td>\n",
       "      <td>1.0</td>\n",
       "      <td>5.0</td>\n",
       "      <td>5.0</td>\n",
       "      <td>39.0</td>\n",
       "      <td>NaN</td>\n",
       "      <td>38.0</td>\n",
       "      <td>1.0</td>\n",
       "      <td>2.0</td>\n",
       "      <td>3.0</td>\n",
       "      <td>1.0</td>\n",
       "      <td>7.0</td>\n",
       "      <td>11</td>\n",
       "      <td>Acre</td>\n",
       "    </tr>\n",
       "    <tr>\n",
       "      <th>3</th>\n",
       "      <td>5022016</td>\n",
       "      <td>110001</td>\n",
       "      <td>110001</td>\n",
       "      <td>7041986.0</td>\n",
       "      <td>2679477.0</td>\n",
       "      <td>5.0</td>\n",
       "      <td>1</td>\n",
       "      <td>1.0</td>\n",
       "      <td>3550</td>\n",
       "      <td>1.0</td>\n",
       "      <td>9.0</td>\n",
       "      <td>5.0</td>\n",
       "      <td>39.0</td>\n",
       "      <td>3.0</td>\n",
       "      <td>NaN</td>\n",
       "      <td>1.0</td>\n",
       "      <td>2.0</td>\n",
       "      <td>3.0</td>\n",
       "      <td>1.0</td>\n",
       "      <td>6.0</td>\n",
       "      <td>11</td>\n",
       "      <td>Acre</td>\n",
       "    </tr>\n",
       "    <tr>\n",
       "      <th>4</th>\n",
       "      <td>25022016</td>\n",
       "      <td>110001</td>\n",
       "      <td>110001</td>\n",
       "      <td>18121989.0</td>\n",
       "      <td>2679477.0</td>\n",
       "      <td>1.0</td>\n",
       "      <td>1</td>\n",
       "      <td>1.0</td>\n",
       "      <td>2obeso565</td>\n",
       "      <td>3.0</td>\n",
       "      <td>5.0</td>\n",
       "      <td>5.0</td>\n",
       "      <td>38.0</td>\n",
       "      <td>NaN</td>\n",
       "      <td>34.0</td>\n",
       "      <td>1.0</td>\n",
       "      <td>2.0</td>\n",
       "      <td>3.0</td>\n",
       "      <td>1.0</td>\n",
       "      <td>7.0</td>\n",
       "      <td>11</td>\n",
       "      <td>Acre</td>\n",
       "    </tr>\n",
       "  </tbody>\n",
       "</table>\n",
       "</div>"
      ],
      "text/plain": [
       "     dtnasc  codmunnasc  codmunres   dtnascmae   codestab  racacormae  locnasc  parto       peso  escmae2010  estcivmae  gestacao  semagestac  seriescmae  idadepai  tpapresent  sttrabpart  stcesparto  tpnascassi  consprenat  codestadnasc estadonasc\n",
       "0  19022016      110001     110001  18121987.0  2679477.0         1.0        1    1.0       3100         2.0        2.0       5.0        39.0         8.0      24.0         2.0         2.0         3.0         1.0         9.0            11       Acre\n",
       "1  22022016      110001     110001  17011998.0        NaN         5.0        4    1.0       1800         1.0        5.0       5.0        37.0         3.0      20.0         1.0         2.0         3.0         1.0         5.0            11       Acre\n",
       "2  13022016      110001     110001  15021986.0  2679477.0         5.0        1    1.0       3545         1.0        5.0       5.0        39.0         NaN      38.0         1.0         2.0         3.0         1.0         7.0            11       Acre\n",
       "3   5022016      110001     110001   7041986.0  2679477.0         5.0        1    1.0       3550         1.0        9.0       5.0        39.0         3.0       NaN         1.0         2.0         3.0         1.0         6.0            11       Acre\n",
       "4  25022016      110001     110001  18121989.0  2679477.0         1.0        1    1.0  2obeso565         3.0        5.0       5.0        38.0         NaN      34.0         1.0         2.0         3.0         1.0         7.0            11       Acre"
      ]
     },
     "execution_count": 561,
     "metadata": {},
     "output_type": "execute_result"
    }
   ],
   "source": [
    "df3.head()"
   ]
  },
  {
   "cell_type": "markdown",
   "id": "11bf082a",
   "metadata": {},
   "source": [
    "### 2.2.1 A) What are the three lowest ages and three highest ages of mothers?"
   ]
  },
  {
   "cell_type": "markdown",
   "id": "08dd0015",
   "metadata": {},
   "source": [
    "### Dropna"
   ]
  },
  {
   "cell_type": "code",
   "execution_count": 562,
   "id": "77e1c7b5",
   "metadata": {
    "ExecuteTime": {
     "end_time": "2023-01-13T00:47:44.271262Z",
     "start_time": "2023-01-13T00:47:43.996086Z"
    }
   },
   "outputs": [],
   "source": [
    "df3 = df3[pd.notnull(df3['dtnascmae'])]"
   ]
  },
  {
   "cell_type": "code",
   "execution_count": 563,
   "id": "1050e412",
   "metadata": {
    "ExecuteTime": {
     "end_time": "2023-01-13T00:47:44.415197Z",
     "start_time": "2023-01-13T00:47:44.274260Z"
    }
   },
   "outputs": [],
   "source": [
    "df3['dtnascmae'] = df3['dtnascmae'].astype('int64')"
   ]
  },
  {
   "cell_type": "code",
   "execution_count": 564,
   "id": "41cc47fc",
   "metadata": {
    "ExecuteTime": {
     "end_time": "2023-01-13T00:47:46.671240Z",
     "start_time": "2023-01-13T00:47:44.417190Z"
    }
   },
   "outputs": [],
   "source": [
    "df3['anomaenasc'] = df3['dtnascmae'].astype(str).str[-4:].astype('int64')"
   ]
  },
  {
   "cell_type": "code",
   "execution_count": 565,
   "id": "ddb0e44f",
   "metadata": {
    "ExecuteTime": {
     "end_time": "2023-01-13T00:47:46.717224Z",
     "start_time": "2023-01-13T00:47:46.673239Z"
    }
   },
   "outputs": [
    {
     "data": {
      "text/plain": [
       "array([1987, 1998, 1986, 1989, 1996, 1993, 1999, 1991, 1995, 1994, 1985,\n",
       "       1983, 2001, 1980, 1990, 1977, 1982, 1988, 1997, 1984, 1981, 1976,\n",
       "       1974, 1979, 1992, 2000, 2002, 1978, 1975, 1973, 1971, 2003, 1970,\n",
       "       1972, 1969, 1967, 2004, 1968, 1965, 1964, 1966, 1951, 1962, 1961,\n",
       "       1963, 1960,  992,  998, 1958, 2006,  985,  984,  988, 1953,  981,\n",
       "       2005,  986, 1955, 1956, 1957,  982,  990,  976, 1959,  993,  980,\n",
       "        199, 1952, 1954, 2016,   90,  991,  996,  979,  994, 1944,  997,\n",
       "        995,  987,  999, 2007, 2008,  989], dtype=int64)"
      ]
     },
     "execution_count": 565,
     "metadata": {},
     "output_type": "execute_result"
    }
   ],
   "source": [
    "df3['anomaenasc'].unique()"
   ]
  },
  {
   "cell_type": "code",
   "execution_count": 566,
   "id": "b456b941",
   "metadata": {
    "ExecuteTime": {
     "end_time": "2023-01-13T00:47:47.061624Z",
     "start_time": "2023-01-13T00:47:46.719225Z"
    }
   },
   "outputs": [],
   "source": [
    "df3['anomaenasc'] = df3['anomaenasc'].replace([992,  998, 982,  990,  976, 985,  984,  988, 981, 986, 993,  980,  999, 90,  991,  996,  979,  994, 997,  995,  987, 199, 989], \n",
    "                                              [1992, 1998, 1982, 1990, 1976, 1985, 1984, 1998, 1981, 1986, 1993,  1980,  1999, 1990,  1991,  1996,  1979,  1994, 1997,  1995,  1987, 1999, 1989])"
   ]
  },
  {
   "cell_type": "code",
   "execution_count": 567,
   "id": "42ba731e",
   "metadata": {
    "ExecuteTime": {
     "end_time": "2023-01-13T00:47:49.301295Z",
     "start_time": "2023-01-13T00:47:47.063628Z"
    }
   },
   "outputs": [],
   "source": [
    "df3['mesmaenasc'] = df3['dtnascmae'].astype(str).str[2:-4].astype(int)"
   ]
  },
  {
   "cell_type": "code",
   "execution_count": 568,
   "id": "e5bce02a",
   "metadata": {
    "ExecuteTime": {
     "end_time": "2023-01-13T00:47:49.333273Z",
     "start_time": "2023-01-13T00:47:49.303292Z"
    }
   },
   "outputs": [],
   "source": [
    "df3['mesmaenasc'] = df3['mesmaenasc'].replace([0], [10])"
   ]
  },
  {
   "cell_type": "code",
   "execution_count": 569,
   "id": "0571cbbc",
   "metadata": {
    "ExecuteTime": {
     "end_time": "2023-01-13T00:47:51.556095Z",
     "start_time": "2023-01-13T00:47:49.336271Z"
    }
   },
   "outputs": [],
   "source": [
    "df3['diamaenasc'] = df3['dtnascmae'].astype(str).str[:-6].astype(int)"
   ]
  },
  {
   "cell_type": "code",
   "execution_count": 570,
   "id": "2fcfa596",
   "metadata": {
    "ExecuteTime": {
     "end_time": "2023-01-13T00:48:50.978812Z",
     "start_time": "2023-01-13T00:47:51.558092Z"
    }
   },
   "outputs": [],
   "source": [
    "cols=['diamaenasc','mesmaenasc','anomaenasc']\n",
    "df3['date'] = df3[cols].apply(lambda x: '-'.join(x.values.astype(str)), axis=1)"
   ]
  },
  {
   "cell_type": "code",
   "execution_count": 571,
   "id": "8cbde061",
   "metadata": {
    "ExecuteTime": {
     "end_time": "2023-01-13T00:52:13.500288Z",
     "start_time": "2023-01-13T00:48:50.980882Z"
    }
   },
   "outputs": [],
   "source": [
    "df3['date']=pd.to_datetime(df3['date'])"
   ]
  },
  {
   "cell_type": "code",
   "execution_count": 572,
   "id": "8b00aa98",
   "metadata": {
    "ExecuteTime": {
     "end_time": "2023-01-13T00:52:13.516313Z",
     "start_time": "2023-01-13T00:52:13.502320Z"
    }
   },
   "outputs": [],
   "source": [
    "day_calc_age = '2021-07-12'"
   ]
  },
  {
   "cell_type": "code",
   "execution_count": 573,
   "id": "180cceb1",
   "metadata": {
    "ExecuteTime": {
     "end_time": "2023-01-13T00:52:13.546294Z",
     "start_time": "2023-01-13T00:52:13.520311Z"
    }
   },
   "outputs": [],
   "source": [
    "df3['day_calc_age'] = day_calc_age"
   ]
  },
  {
   "cell_type": "code",
   "execution_count": 574,
   "id": "8b8ec379",
   "metadata": {
    "ExecuteTime": {
     "end_time": "2023-01-13T00:52:13.853104Z",
     "start_time": "2023-01-13T00:52:13.549293Z"
    }
   },
   "outputs": [],
   "source": [
    "df3['day_calc_age'] = pd.to_datetime(df3['day_calc_age'], format='%Y-%m-%d')"
   ]
  },
  {
   "cell_type": "code",
   "execution_count": 575,
   "id": "48670c93",
   "metadata": {
    "ExecuteTime": {
     "end_time": "2023-01-13T00:52:13.960882Z",
     "start_time": "2023-01-13T00:52:13.855103Z"
    }
   },
   "outputs": [],
   "source": [
    "df3['idademae'] = (df3['day_calc_age'] - df3['date'])"
   ]
  },
  {
   "cell_type": "code",
   "execution_count": 576,
   "id": "8b0f3c2c",
   "metadata": {
    "ExecuteTime": {
     "end_time": "2023-01-13T00:52:14.038865Z",
     "start_time": "2023-01-13T00:52:13.962875Z"
    }
   },
   "outputs": [],
   "source": [
    "df3['idademae'] = abs(df3['idademae'] / np.timedelta64(1, 'Y'))\n",
    "df3['idademae'] = df3['idademae'].astype('int64')"
   ]
  },
  {
   "cell_type": "code",
   "execution_count": 577,
   "id": "04b60e95",
   "metadata": {
    "ExecuteTime": {
     "end_time": "2023-01-13T00:52:15.596362Z",
     "start_time": "2023-01-13T00:52:14.041863Z"
    }
   },
   "outputs": [
    {
     "data": {
      "text/html": [
       "<div>\n",
       "<style scoped>\n",
       "    .dataframe tbody tr th:only-of-type {\n",
       "        vertical-align: middle;\n",
       "    }\n",
       "\n",
       "    .dataframe tbody tr th {\n",
       "        vertical-align: top;\n",
       "    }\n",
       "\n",
       "    .dataframe thead th {\n",
       "        text-align: right;\n",
       "    }\n",
       "</style>\n",
       "<table border=\"1\" class=\"dataframe\">\n",
       "  <thead>\n",
       "    <tr style=\"text-align: right;\">\n",
       "      <th></th>\n",
       "      <th>dtnasc</th>\n",
       "      <th>codmunnasc</th>\n",
       "      <th>codmunres</th>\n",
       "      <th>dtnascmae</th>\n",
       "      <th>codestab</th>\n",
       "      <th>racacormae</th>\n",
       "      <th>locnasc</th>\n",
       "      <th>parto</th>\n",
       "      <th>peso</th>\n",
       "      <th>escmae2010</th>\n",
       "      <th>estcivmae</th>\n",
       "      <th>gestacao</th>\n",
       "      <th>semagestac</th>\n",
       "      <th>seriescmae</th>\n",
       "      <th>idadepai</th>\n",
       "      <th>tpapresent</th>\n",
       "      <th>sttrabpart</th>\n",
       "      <th>stcesparto</th>\n",
       "      <th>tpnascassi</th>\n",
       "      <th>consprenat</th>\n",
       "      <th>codestadnasc</th>\n",
       "      <th>estadonasc</th>\n",
       "      <th>anomaenasc</th>\n",
       "      <th>mesmaenasc</th>\n",
       "      <th>diamaenasc</th>\n",
       "      <th>date</th>\n",
       "      <th>day_calc_age</th>\n",
       "      <th>idademae</th>\n",
       "    </tr>\n",
       "  </thead>\n",
       "  <tbody>\n",
       "    <tr>\n",
       "      <th>1386430</th>\n",
       "      <td>11062016</td>\n",
       "      <td>355030</td>\n",
       "      <td>355030</td>\n",
       "      <td>26041944</td>\n",
       "      <td>2065665.0</td>\n",
       "      <td>1.0</td>\n",
       "      <td>1</td>\n",
       "      <td>1.0</td>\n",
       "      <td>3400</td>\n",
       "      <td>2.0</td>\n",
       "      <td>5.0</td>\n",
       "      <td>5.0</td>\n",
       "      <td>40.0</td>\n",
       "      <td>8.0</td>\n",
       "      <td>NaN</td>\n",
       "      <td>1.0</td>\n",
       "      <td>1.0</td>\n",
       "      <td>3.0</td>\n",
       "      <td>1.0</td>\n",
       "      <td>7.0</td>\n",
       "      <td>35</td>\n",
       "      <td>São Paulo</td>\n",
       "      <td>1944</td>\n",
       "      <td>4</td>\n",
       "      <td>26</td>\n",
       "      <td>1944-04-26</td>\n",
       "      <td>2021-07-12</td>\n",
       "      <td>77</td>\n",
       "    </tr>\n",
       "    <tr>\n",
       "      <th>565818</th>\n",
       "      <td>7022016</td>\n",
       "      <td>330510</td>\n",
       "      <td>330510</td>\n",
       "      <td>27051951</td>\n",
       "      <td>6518893.0</td>\n",
       "      <td>1.0</td>\n",
       "      <td>1</td>\n",
       "      <td>1.0</td>\n",
       "      <td>4050</td>\n",
       "      <td>3.0</td>\n",
       "      <td>1.0</td>\n",
       "      <td>5.0</td>\n",
       "      <td>40.0</td>\n",
       "      <td>NaN</td>\n",
       "      <td>NaN</td>\n",
       "      <td>1.0</td>\n",
       "      <td>2.0</td>\n",
       "      <td>3.0</td>\n",
       "      <td>1.0</td>\n",
       "      <td>3.0</td>\n",
       "      <td>33</td>\n",
       "      <td>Minas Gerais</td>\n",
       "      <td>1951</td>\n",
       "      <td>5</td>\n",
       "      <td>27</td>\n",
       "      <td>1951-05-27</td>\n",
       "      <td>2021-07-12</td>\n",
       "      <td>70</td>\n",
       "    </tr>\n",
       "    <tr>\n",
       "      <th>19552</th>\n",
       "      <td>17032016</td>\n",
       "      <td>130195</td>\n",
       "      <td>130195</td>\n",
       "      <td>1031951</td>\n",
       "      <td>NaN</td>\n",
       "      <td>5.0</td>\n",
       "      <td>3</td>\n",
       "      <td>1.0</td>\n",
       "      <td>3000gr</td>\n",
       "      <td>0.0</td>\n",
       "      <td>5.0</td>\n",
       "      <td>6.0</td>\n",
       "      <td>42.0</td>\n",
       "      <td>NaN</td>\n",
       "      <td>72.0</td>\n",
       "      <td>1.0</td>\n",
       "      <td>9.0</td>\n",
       "      <td>3.0</td>\n",
       "      <td>3.0</td>\n",
       "      <td>9.0</td>\n",
       "      <td>13</td>\n",
       "      <td>Amazona</td>\n",
       "      <td>1951</td>\n",
       "      <td>3</td>\n",
       "      <td>1</td>\n",
       "      <td>1951-01-03</td>\n",
       "      <td>2021-07-12</td>\n",
       "      <td>70</td>\n",
       "    </tr>\n",
       "    <tr>\n",
       "      <th>590198</th>\n",
       "      <td>15042016</td>\n",
       "      <td>350900</td>\n",
       "      <td>351630</td>\n",
       "      <td>22101951</td>\n",
       "      <td>7580770.0</td>\n",
       "      <td>4.0</td>\n",
       "      <td>1</td>\n",
       "      <td>1.0</td>\n",
       "      <td>3085</td>\n",
       "      <td>3.0</td>\n",
       "      <td>2.0</td>\n",
       "      <td>4.0</td>\n",
       "      <td>36.0</td>\n",
       "      <td>NaN</td>\n",
       "      <td>NaN</td>\n",
       "      <td>1.0</td>\n",
       "      <td>1.0</td>\n",
       "      <td>3.0</td>\n",
       "      <td>1.0</td>\n",
       "      <td>9.0</td>\n",
       "      <td>35</td>\n",
       "      <td>São Paulo</td>\n",
       "      <td>1951</td>\n",
       "      <td>10</td>\n",
       "      <td>22</td>\n",
       "      <td>1951-10-22</td>\n",
       "      <td>2021-07-12</td>\n",
       "      <td>69</td>\n",
       "    </tr>\n",
       "    <tr>\n",
       "      <th>767026</th>\n",
       "      <td>26022016</td>\n",
       "      <td>355030</td>\n",
       "      <td>354870</td>\n",
       "      <td>24071952</td>\n",
       "      <td>2079542.0</td>\n",
       "      <td>1.0</td>\n",
       "      <td>1</td>\n",
       "      <td>2.0</td>\n",
       "      <td>3310</td>\n",
       "      <td>5.0</td>\n",
       "      <td>2.0</td>\n",
       "      <td>5.0</td>\n",
       "      <td>38.0</td>\n",
       "      <td>NaN</td>\n",
       "      <td>42.0</td>\n",
       "      <td>2.0</td>\n",
       "      <td>2.0</td>\n",
       "      <td>1.0</td>\n",
       "      <td>1.0</td>\n",
       "      <td>8.0</td>\n",
       "      <td>35</td>\n",
       "      <td>São Paulo</td>\n",
       "      <td>1952</td>\n",
       "      <td>7</td>\n",
       "      <td>24</td>\n",
       "      <td>1952-07-24</td>\n",
       "      <td>2021-07-12</td>\n",
       "      <td>68</td>\n",
       "    </tr>\n",
       "    <tr>\n",
       "      <th>179232</th>\n",
       "      <td>8042016</td>\n",
       "      <td>230440</td>\n",
       "      <td>230440</td>\n",
       "      <td>6021953</td>\n",
       "      <td>2482339.0</td>\n",
       "      <td>4.0</td>\n",
       "      <td>1</td>\n",
       "      <td>1.0</td>\n",
       "      <td>3090</td>\n",
       "      <td>3.0</td>\n",
       "      <td>1.0</td>\n",
       "      <td>6.0</td>\n",
       "      <td>43.0</td>\n",
       "      <td>2.0</td>\n",
       "      <td>NaN</td>\n",
       "      <td>1.0</td>\n",
       "      <td>2.0</td>\n",
       "      <td>3.0</td>\n",
       "      <td>1.0</td>\n",
       "      <td>10.0</td>\n",
       "      <td>23</td>\n",
       "      <td>Ceará</td>\n",
       "      <td>1953</td>\n",
       "      <td>2</td>\n",
       "      <td>6</td>\n",
       "      <td>1953-06-02</td>\n",
       "      <td>2021-07-12</td>\n",
       "      <td>68</td>\n",
       "    </tr>\n",
       "    <tr>\n",
       "      <th>1432928</th>\n",
       "      <td>1062016</td>\n",
       "      <td>412240</td>\n",
       "      <td>411190</td>\n",
       "      <td>20041953</td>\n",
       "      <td>4055748.0</td>\n",
       "      <td>4.0</td>\n",
       "      <td>1</td>\n",
       "      <td>1.0</td>\n",
       "      <td>2obeso950</td>\n",
       "      <td>3.0</td>\n",
       "      <td>5.0</td>\n",
       "      <td>5.0</td>\n",
       "      <td>40.0</td>\n",
       "      <td>2.0</td>\n",
       "      <td>23.0</td>\n",
       "      <td>1.0</td>\n",
       "      <td>1.0</td>\n",
       "      <td>3.0</td>\n",
       "      <td>1.0</td>\n",
       "      <td>5.0</td>\n",
       "      <td>41</td>\n",
       "      <td>Mato Grosso</td>\n",
       "      <td>1953</td>\n",
       "      <td>4</td>\n",
       "      <td>20</td>\n",
       "      <td>1953-04-20</td>\n",
       "      <td>2021-07-12</td>\n",
       "      <td>68</td>\n",
       "    </tr>\n",
       "    <tr>\n",
       "      <th>2443974</th>\n",
       "      <td>26102016</td>\n",
       "      <td>330490</td>\n",
       "      <td>330490</td>\n",
       "      <td>12111952</td>\n",
       "      <td>2292157.0</td>\n",
       "      <td>1.0</td>\n",
       "      <td>1</td>\n",
       "      <td>2.0</td>\n",
       "      <td>2obeso390</td>\n",
       "      <td>3.0</td>\n",
       "      <td>5.0</td>\n",
       "      <td>5.0</td>\n",
       "      <td>39.0</td>\n",
       "      <td>3.0</td>\n",
       "      <td>NaN</td>\n",
       "      <td>1.0</td>\n",
       "      <td>2.0</td>\n",
       "      <td>1.0</td>\n",
       "      <td>1.0</td>\n",
       "      <td>9.0</td>\n",
       "      <td>33</td>\n",
       "      <td>Minas Gerais</td>\n",
       "      <td>1952</td>\n",
       "      <td>11</td>\n",
       "      <td>12</td>\n",
       "      <td>1952-12-11</td>\n",
       "      <td>2021-07-12</td>\n",
       "      <td>68</td>\n",
       "    </tr>\n",
       "    <tr>\n",
       "      <th>2037477</th>\n",
       "      <td>5112016</td>\n",
       "      <td>150050</td>\n",
       "      <td>150050</td>\n",
       "      <td>22031954</td>\n",
       "      <td>2331748.0</td>\n",
       "      <td>4.0</td>\n",
       "      <td>1</td>\n",
       "      <td>1.0</td>\n",
       "      <td>2obeso970</td>\n",
       "      <td>2.0</td>\n",
       "      <td>5.0</td>\n",
       "      <td>6.0</td>\n",
       "      <td>42.0</td>\n",
       "      <td>8.0</td>\n",
       "      <td>NaN</td>\n",
       "      <td>1.0</td>\n",
       "      <td>2.0</td>\n",
       "      <td>3.0</td>\n",
       "      <td>4.0</td>\n",
       "      <td>7.0</td>\n",
       "      <td>15</td>\n",
       "      <td>Rondonia</td>\n",
       "      <td>1954</td>\n",
       "      <td>3</td>\n",
       "      <td>22</td>\n",
       "      <td>1954-03-22</td>\n",
       "      <td>2021-07-12</td>\n",
       "      <td>67</td>\n",
       "    </tr>\n",
       "    <tr>\n",
       "      <th>2817975</th>\n",
       "      <td>19092016</td>\n",
       "      <td>520510</td>\n",
       "      <td>520510</td>\n",
       "      <td>14031954</td>\n",
       "      <td>3940829.0</td>\n",
       "      <td>4.0</td>\n",
       "      <td>1</td>\n",
       "      <td>2.0</td>\n",
       "      <td>2obeso700</td>\n",
       "      <td>3.0</td>\n",
       "      <td>4.0</td>\n",
       "      <td>4.0</td>\n",
       "      <td>36.0</td>\n",
       "      <td>3.0</td>\n",
       "      <td>42.0</td>\n",
       "      <td>1.0</td>\n",
       "      <td>1.0</td>\n",
       "      <td>2.0</td>\n",
       "      <td>1.0</td>\n",
       "      <td>8.0</td>\n",
       "      <td>52</td>\n",
       "      <td>Santa Catarina</td>\n",
       "      <td>1954</td>\n",
       "      <td>3</td>\n",
       "      <td>14</td>\n",
       "      <td>1954-03-14</td>\n",
       "      <td>2021-07-12</td>\n",
       "      <td>67</td>\n",
       "    </tr>\n",
       "    <tr>\n",
       "      <th>139310</th>\n",
       "      <td>1022016</td>\n",
       "      <td>220120</td>\n",
       "      <td>220120</td>\n",
       "      <td>30111953</td>\n",
       "      <td>2323915.0</td>\n",
       "      <td>4.0</td>\n",
       "      <td>1</td>\n",
       "      <td>2.0</td>\n",
       "      <td>6100</td>\n",
       "      <td>2.0</td>\n",
       "      <td>5.0</td>\n",
       "      <td>5.0</td>\n",
       "      <td>38.0</td>\n",
       "      <td>7.0</td>\n",
       "      <td>33.0</td>\n",
       "      <td>1.0</td>\n",
       "      <td>2.0</td>\n",
       "      <td>2.0</td>\n",
       "      <td>1.0</td>\n",
       "      <td>9.0</td>\n",
       "      <td>22</td>\n",
       "      <td>Bahia</td>\n",
       "      <td>1953</td>\n",
       "      <td>11</td>\n",
       "      <td>30</td>\n",
       "      <td>1953-11-30</td>\n",
       "      <td>2021-07-12</td>\n",
       "      <td>67</td>\n",
       "    </tr>\n",
       "    <tr>\n",
       "      <th>1512051</th>\n",
       "      <td>2062016</td>\n",
       "      <td>530010</td>\n",
       "      <td>520549</td>\n",
       "      <td>19091954</td>\n",
       "      <td>10472.0</td>\n",
       "      <td>4.0</td>\n",
       "      <td>1</td>\n",
       "      <td>2.0</td>\n",
       "      <td>3155</td>\n",
       "      <td>3.0</td>\n",
       "      <td>1.0</td>\n",
       "      <td>6.0</td>\n",
       "      <td>42.0</td>\n",
       "      <td>NaN</td>\n",
       "      <td>NaN</td>\n",
       "      <td>1.0</td>\n",
       "      <td>9.0</td>\n",
       "      <td>NaN</td>\n",
       "      <td>1.0</td>\n",
       "      <td>8.0</td>\n",
       "      <td>53</td>\n",
       "      <td>Rio Grande do Sul</td>\n",
       "      <td>1954</td>\n",
       "      <td>9</td>\n",
       "      <td>19</td>\n",
       "      <td>1954-09-19</td>\n",
       "      <td>2021-07-12</td>\n",
       "      <td>66</td>\n",
       "    </tr>\n",
       "    <tr>\n",
       "      <th>310040</th>\n",
       "      <td>22032016</td>\n",
       "      <td>280740</td>\n",
       "      <td>280740</td>\n",
       "      <td>1081955</td>\n",
       "      <td>2546116.0</td>\n",
       "      <td>2.0</td>\n",
       "      <td>1</td>\n",
       "      <td>1.0</td>\n",
       "      <td>3100</td>\n",
       "      <td>1.0</td>\n",
       "      <td>1.0</td>\n",
       "      <td>4.0</td>\n",
       "      <td>36.0</td>\n",
       "      <td>NaN</td>\n",
       "      <td>40.0</td>\n",
       "      <td>2.0</td>\n",
       "      <td>2.0</td>\n",
       "      <td>3.0</td>\n",
       "      <td>1.0</td>\n",
       "      <td>7.0</td>\n",
       "      <td>28</td>\n",
       "      <td>Sergipe</td>\n",
       "      <td>1955</td>\n",
       "      <td>8</td>\n",
       "      <td>1</td>\n",
       "      <td>1955-01-08</td>\n",
       "      <td>2021-07-12</td>\n",
       "      <td>66</td>\n",
       "    </tr>\n",
       "    <tr>\n",
       "      <th>2000240</th>\n",
       "      <td>26112016</td>\n",
       "      <td>110030</td>\n",
       "      <td>110006</td>\n",
       "      <td>20071954</td>\n",
       "      <td>2515989.0</td>\n",
       "      <td>4.0</td>\n",
       "      <td>1</td>\n",
       "      <td>2.0</td>\n",
       "      <td>3100</td>\n",
       "      <td>3.0</td>\n",
       "      <td>1.0</td>\n",
       "      <td>5.0</td>\n",
       "      <td>39.0</td>\n",
       "      <td>3.0</td>\n",
       "      <td>50.0</td>\n",
       "      <td>1.0</td>\n",
       "      <td>2.0</td>\n",
       "      <td>1.0</td>\n",
       "      <td>1.0</td>\n",
       "      <td>7.0</td>\n",
       "      <td>11</td>\n",
       "      <td>Acre</td>\n",
       "      <td>1954</td>\n",
       "      <td>7</td>\n",
       "      <td>20</td>\n",
       "      <td>1954-07-20</td>\n",
       "      <td>2021-07-12</td>\n",
       "      <td>66</td>\n",
       "    </tr>\n",
       "    <tr>\n",
       "      <th>835878</th>\n",
       "      <td>17042016</td>\n",
       "      <td>412240</td>\n",
       "      <td>412240</td>\n",
       "      <td>4051955</td>\n",
       "      <td>4055748.0</td>\n",
       "      <td>4.0</td>\n",
       "      <td>1</td>\n",
       "      <td>2.0</td>\n",
       "      <td>3000gr</td>\n",
       "      <td>3.0</td>\n",
       "      <td>9.0</td>\n",
       "      <td>5.0</td>\n",
       "      <td>39.0</td>\n",
       "      <td>NaN</td>\n",
       "      <td>23.0</td>\n",
       "      <td>2.0</td>\n",
       "      <td>2.0</td>\n",
       "      <td>2.0</td>\n",
       "      <td>1.0</td>\n",
       "      <td>11.0</td>\n",
       "      <td>41</td>\n",
       "      <td>Mato Grosso</td>\n",
       "      <td>1955</td>\n",
       "      <td>5</td>\n",
       "      <td>4</td>\n",
       "      <td>1955-04-05</td>\n",
       "      <td>2021-07-12</td>\n",
       "      <td>66</td>\n",
       "    </tr>\n",
       "    <tr>\n",
       "      <th>1527012</th>\n",
       "      <td>1072016</td>\n",
       "      <td>130060</td>\n",
       "      <td>130060</td>\n",
       "      <td>4061955</td>\n",
       "      <td>NaN</td>\n",
       "      <td>5.0</td>\n",
       "      <td>3</td>\n",
       "      <td>1.0</td>\n",
       "      <td>3000gr</td>\n",
       "      <td>1.0</td>\n",
       "      <td>1.0</td>\n",
       "      <td>5.0</td>\n",
       "      <td>39.0</td>\n",
       "      <td>3.0</td>\n",
       "      <td>NaN</td>\n",
       "      <td>1.0</td>\n",
       "      <td>2.0</td>\n",
       "      <td>3.0</td>\n",
       "      <td>3.0</td>\n",
       "      <td>5.0</td>\n",
       "      <td>13</td>\n",
       "      <td>Amazona</td>\n",
       "      <td>1955</td>\n",
       "      <td>6</td>\n",
       "      <td>4</td>\n",
       "      <td>1955-04-06</td>\n",
       "      <td>2021-07-12</td>\n",
       "      <td>66</td>\n",
       "    </tr>\n",
       "    <tr>\n",
       "      <th>868818</th>\n",
       "      <td>1032016</td>\n",
       "      <td>421130</td>\n",
       "      <td>421130</td>\n",
       "      <td>20091954</td>\n",
       "      <td>2674327.0</td>\n",
       "      <td>1.0</td>\n",
       "      <td>1</td>\n",
       "      <td>2.0</td>\n",
       "      <td>3425</td>\n",
       "      <td>3.0</td>\n",
       "      <td>1.0</td>\n",
       "      <td>4.0</td>\n",
       "      <td>36.0</td>\n",
       "      <td>3.0</td>\n",
       "      <td>19.0</td>\n",
       "      <td>1.0</td>\n",
       "      <td>2.0</td>\n",
       "      <td>1.0</td>\n",
       "      <td>1.0</td>\n",
       "      <td>6.0</td>\n",
       "      <td>42</td>\n",
       "      <td>Mato Grosso do Sul</td>\n",
       "      <td>1954</td>\n",
       "      <td>9</td>\n",
       "      <td>20</td>\n",
       "      <td>1954-09-20</td>\n",
       "      <td>2021-07-12</td>\n",
       "      <td>66</td>\n",
       "    </tr>\n",
       "    <tr>\n",
       "      <th>791610</th>\n",
       "      <td>28032016</td>\n",
       "      <td>410400</td>\n",
       "      <td>410690</td>\n",
       "      <td>21121954</td>\n",
       "      <td>13633.0</td>\n",
       "      <td>1.0</td>\n",
       "      <td>1</td>\n",
       "      <td>2.0</td>\n",
       "      <td>3655</td>\n",
       "      <td>2.0</td>\n",
       "      <td>2.0</td>\n",
       "      <td>5.0</td>\n",
       "      <td>40.0</td>\n",
       "      <td>8.0</td>\n",
       "      <td>55.0</td>\n",
       "      <td>1.0</td>\n",
       "      <td>2.0</td>\n",
       "      <td>1.0</td>\n",
       "      <td>1.0</td>\n",
       "      <td>9.0</td>\n",
       "      <td>41</td>\n",
       "      <td>Mato Grosso</td>\n",
       "      <td>1954</td>\n",
       "      <td>12</td>\n",
       "      <td>21</td>\n",
       "      <td>1954-12-21</td>\n",
       "      <td>2021-07-12</td>\n",
       "      <td>66</td>\n",
       "    </tr>\n",
       "    <tr>\n",
       "      <th>505268</th>\n",
       "      <td>9032016</td>\n",
       "      <td>330350</td>\n",
       "      <td>330320</td>\n",
       "      <td>20011955</td>\n",
       "      <td>3019527.0</td>\n",
       "      <td>4.0</td>\n",
       "      <td>1</td>\n",
       "      <td>2.0</td>\n",
       "      <td>3210</td>\n",
       "      <td>3.0</td>\n",
       "      <td>2.0</td>\n",
       "      <td>5.0</td>\n",
       "      <td>40.0</td>\n",
       "      <td>NaN</td>\n",
       "      <td>29.0</td>\n",
       "      <td>1.0</td>\n",
       "      <td>2.0</td>\n",
       "      <td>1.0</td>\n",
       "      <td>1.0</td>\n",
       "      <td>12.0</td>\n",
       "      <td>33</td>\n",
       "      <td>Minas Gerais</td>\n",
       "      <td>1955</td>\n",
       "      <td>1</td>\n",
       "      <td>20</td>\n",
       "      <td>1955-01-20</td>\n",
       "      <td>2021-07-12</td>\n",
       "      <td>66</td>\n",
       "    </tr>\n",
       "    <tr>\n",
       "      <th>2115294</th>\n",
       "      <td>12092016</td>\n",
       "      <td>210990</td>\n",
       "      <td>210850</td>\n",
       "      <td>29041955</td>\n",
       "      <td>2772299.0</td>\n",
       "      <td>4.0</td>\n",
       "      <td>1</td>\n",
       "      <td>1.0</td>\n",
       "      <td>3165</td>\n",
       "      <td>3.0</td>\n",
       "      <td>1.0</td>\n",
       "      <td>4.0</td>\n",
       "      <td>36.0</td>\n",
       "      <td>1.0</td>\n",
       "      <td>NaN</td>\n",
       "      <td>1.0</td>\n",
       "      <td>2.0</td>\n",
       "      <td>3.0</td>\n",
       "      <td>2.0</td>\n",
       "      <td>7.0</td>\n",
       "      <td>21</td>\n",
       "      <td>Alagoas</td>\n",
       "      <td>1955</td>\n",
       "      <td>4</td>\n",
       "      <td>29</td>\n",
       "      <td>1955-04-29</td>\n",
       "      <td>2021-07-12</td>\n",
       "      <td>66</td>\n",
       "    </tr>\n",
       "  </tbody>\n",
       "</table>\n",
       "</div>"
      ],
      "text/plain": [
       "           dtnasc  codmunnasc  codmunres  dtnascmae   codestab  racacormae  locnasc  parto       peso  escmae2010  estcivmae  gestacao  semagestac  seriescmae  idadepai  tpapresent  sttrabpart  stcesparto  tpnascassi  consprenat  codestadnasc          estadonasc  anomaenasc  mesmaenasc  diamaenasc       date day_calc_age  idademae\n",
       "1386430  11062016      355030     355030   26041944  2065665.0         1.0        1    1.0       3400         2.0        5.0       5.0        40.0         8.0       NaN         1.0         1.0         3.0         1.0         7.0            35           São Paulo        1944           4          26 1944-04-26   2021-07-12        77\n",
       "565818    7022016      330510     330510   27051951  6518893.0         1.0        1    1.0       4050         3.0        1.0       5.0        40.0         NaN       NaN         1.0         2.0         3.0         1.0         3.0            33        Minas Gerais        1951           5          27 1951-05-27   2021-07-12        70\n",
       "19552    17032016      130195     130195    1031951        NaN         5.0        3    1.0     3000gr         0.0        5.0       6.0        42.0         NaN      72.0         1.0         9.0         3.0         3.0         9.0            13             Amazona        1951           3           1 1951-01-03   2021-07-12        70\n",
       "590198   15042016      350900     351630   22101951  7580770.0         4.0        1    1.0       3085         3.0        2.0       4.0        36.0         NaN       NaN         1.0         1.0         3.0         1.0         9.0            35           São Paulo        1951          10          22 1951-10-22   2021-07-12        69\n",
       "767026   26022016      355030     354870   24071952  2079542.0         1.0        1    2.0       3310         5.0        2.0       5.0        38.0         NaN      42.0         2.0         2.0         1.0         1.0         8.0            35           São Paulo        1952           7          24 1952-07-24   2021-07-12        68\n",
       "179232    8042016      230440     230440    6021953  2482339.0         4.0        1    1.0       3090         3.0        1.0       6.0        43.0         2.0       NaN         1.0         2.0         3.0         1.0        10.0            23               Ceará        1953           2           6 1953-06-02   2021-07-12        68\n",
       "1432928   1062016      412240     411190   20041953  4055748.0         4.0        1    1.0  2obeso950         3.0        5.0       5.0        40.0         2.0      23.0         1.0         1.0         3.0         1.0         5.0            41         Mato Grosso        1953           4          20 1953-04-20   2021-07-12        68\n",
       "2443974  26102016      330490     330490   12111952  2292157.0         1.0        1    2.0  2obeso390         3.0        5.0       5.0        39.0         3.0       NaN         1.0         2.0         1.0         1.0         9.0            33        Minas Gerais        1952          11          12 1952-12-11   2021-07-12        68\n",
       "2037477   5112016      150050     150050   22031954  2331748.0         4.0        1    1.0  2obeso970         2.0        5.0       6.0        42.0         8.0       NaN         1.0         2.0         3.0         4.0         7.0            15            Rondonia        1954           3          22 1954-03-22   2021-07-12        67\n",
       "2817975  19092016      520510     520510   14031954  3940829.0         4.0        1    2.0  2obeso700         3.0        4.0       4.0        36.0         3.0      42.0         1.0         1.0         2.0         1.0         8.0            52      Santa Catarina        1954           3          14 1954-03-14   2021-07-12        67\n",
       "139310    1022016      220120     220120   30111953  2323915.0         4.0        1    2.0       6100         2.0        5.0       5.0        38.0         7.0      33.0         1.0         2.0         2.0         1.0         9.0            22               Bahia        1953          11          30 1953-11-30   2021-07-12        67\n",
       "1512051   2062016      530010     520549   19091954    10472.0         4.0        1    2.0       3155         3.0        1.0       6.0        42.0         NaN       NaN         1.0         9.0         NaN         1.0         8.0            53   Rio Grande do Sul        1954           9          19 1954-09-19   2021-07-12        66\n",
       "310040   22032016      280740     280740    1081955  2546116.0         2.0        1    1.0       3100         1.0        1.0       4.0        36.0         NaN      40.0         2.0         2.0         3.0         1.0         7.0            28             Sergipe        1955           8           1 1955-01-08   2021-07-12        66\n",
       "2000240  26112016      110030     110006   20071954  2515989.0         4.0        1    2.0       3100         3.0        1.0       5.0        39.0         3.0      50.0         1.0         2.0         1.0         1.0         7.0            11                Acre        1954           7          20 1954-07-20   2021-07-12        66\n",
       "835878   17042016      412240     412240    4051955  4055748.0         4.0        1    2.0     3000gr         3.0        9.0       5.0        39.0         NaN      23.0         2.0         2.0         2.0         1.0        11.0            41         Mato Grosso        1955           5           4 1955-04-05   2021-07-12        66\n",
       "1527012   1072016      130060     130060    4061955        NaN         5.0        3    1.0     3000gr         1.0        1.0       5.0        39.0         3.0       NaN         1.0         2.0         3.0         3.0         5.0            13             Amazona        1955           6           4 1955-04-06   2021-07-12        66\n",
       "868818    1032016      421130     421130   20091954  2674327.0         1.0        1    2.0       3425         3.0        1.0       4.0        36.0         3.0      19.0         1.0         2.0         1.0         1.0         6.0            42  Mato Grosso do Sul        1954           9          20 1954-09-20   2021-07-12        66\n",
       "791610   28032016      410400     410690   21121954    13633.0         1.0        1    2.0       3655         2.0        2.0       5.0        40.0         8.0      55.0         1.0         2.0         1.0         1.0         9.0            41         Mato Grosso        1954          12          21 1954-12-21   2021-07-12        66\n",
       "505268    9032016      330350     330320   20011955  3019527.0         4.0        1    2.0       3210         3.0        2.0       5.0        40.0         NaN      29.0         1.0         2.0         1.0         1.0        12.0            33        Minas Gerais        1955           1          20 1955-01-20   2021-07-12        66\n",
       "2115294  12092016      210990     210850   29041955  2772299.0         4.0        1    1.0       3165         3.0        1.0       4.0        36.0         1.0       NaN         1.0         2.0         3.0         2.0         7.0            21             Alagoas        1955           4          29 1955-04-29   2021-07-12        66"
      ]
     },
     "execution_count": 577,
     "metadata": {},
     "output_type": "execute_result"
    }
   ],
   "source": [
    "df3.sort_values('idademae', ascending=False).head(20)"
   ]
  },
  {
   "cell_type": "code",
   "execution_count": 578,
   "id": "0913ba0f",
   "metadata": {
    "ExecuteTime": {
     "end_time": "2023-01-13T00:52:16.962038Z",
     "start_time": "2023-01-13T00:52:15.599360Z"
    }
   },
   "outputs": [
    {
     "data": {
      "text/html": [
       "<div>\n",
       "<style scoped>\n",
       "    .dataframe tbody tr th:only-of-type {\n",
       "        vertical-align: middle;\n",
       "    }\n",
       "\n",
       "    .dataframe tbody tr th {\n",
       "        vertical-align: top;\n",
       "    }\n",
       "\n",
       "    .dataframe thead th {\n",
       "        text-align: right;\n",
       "    }\n",
       "</style>\n",
       "<table border=\"1\" class=\"dataframe\">\n",
       "  <thead>\n",
       "    <tr style=\"text-align: right;\">\n",
       "      <th></th>\n",
       "      <th>dtnasc</th>\n",
       "      <th>codmunnasc</th>\n",
       "      <th>codmunres</th>\n",
       "      <th>dtnascmae</th>\n",
       "      <th>codestab</th>\n",
       "      <th>racacormae</th>\n",
       "      <th>locnasc</th>\n",
       "      <th>parto</th>\n",
       "      <th>peso</th>\n",
       "      <th>escmae2010</th>\n",
       "      <th>estcivmae</th>\n",
       "      <th>gestacao</th>\n",
       "      <th>semagestac</th>\n",
       "      <th>seriescmae</th>\n",
       "      <th>idadepai</th>\n",
       "      <th>tpapresent</th>\n",
       "      <th>sttrabpart</th>\n",
       "      <th>stcesparto</th>\n",
       "      <th>tpnascassi</th>\n",
       "      <th>consprenat</th>\n",
       "      <th>codestadnasc</th>\n",
       "      <th>estadonasc</th>\n",
       "      <th>anomaenasc</th>\n",
       "      <th>mesmaenasc</th>\n",
       "      <th>diamaenasc</th>\n",
       "      <th>date</th>\n",
       "      <th>day_calc_age</th>\n",
       "      <th>idademae</th>\n",
       "    </tr>\n",
       "  </thead>\n",
       "  <tbody>\n",
       "    <tr>\n",
       "      <th>952486</th>\n",
       "      <td>3042016</td>\n",
       "      <td>510340</td>\n",
       "      <td>510340</td>\n",
       "      <td>21072016</td>\n",
       "      <td>2604388.0</td>\n",
       "      <td>4.0</td>\n",
       "      <td>1</td>\n",
       "      <td>1.0</td>\n",
       "      <td>3515</td>\n",
       "      <td>5.0</td>\n",
       "      <td>2.0</td>\n",
       "      <td>5.0</td>\n",
       "      <td>41.0</td>\n",
       "      <td>NaN</td>\n",
       "      <td>NaN</td>\n",
       "      <td>1.0</td>\n",
       "      <td>2.0</td>\n",
       "      <td>3.0</td>\n",
       "      <td>1.0</td>\n",
       "      <td>9.0</td>\n",
       "      <td>51</td>\n",
       "      <td>Paraná</td>\n",
       "      <td>2016</td>\n",
       "      <td>7</td>\n",
       "      <td>21</td>\n",
       "      <td>2016-07-21</td>\n",
       "      <td>2021-07-12</td>\n",
       "      <td>4</td>\n",
       "    </tr>\n",
       "    <tr>\n",
       "      <th>2380327</th>\n",
       "      <td>6102016</td>\n",
       "      <td>314330</td>\n",
       "      <td>313505</td>\n",
       "      <td>22102016</td>\n",
       "      <td>2149990.0</td>\n",
       "      <td>4.0</td>\n",
       "      <td>1</td>\n",
       "      <td>NaN</td>\n",
       "      <td>2obeso675</td>\n",
       "      <td>3.0</td>\n",
       "      <td>2.0</td>\n",
       "      <td>5.0</td>\n",
       "      <td>41.0</td>\n",
       "      <td>3.0</td>\n",
       "      <td>NaN</td>\n",
       "      <td>9.0</td>\n",
       "      <td>NaN</td>\n",
       "      <td>NaN</td>\n",
       "      <td>1.0</td>\n",
       "      <td>8.0</td>\n",
       "      <td>31</td>\n",
       "      <td>Espírito Santo</td>\n",
       "      <td>2016</td>\n",
       "      <td>10</td>\n",
       "      <td>22</td>\n",
       "      <td>2016-10-22</td>\n",
       "      <td>2021-07-12</td>\n",
       "      <td>4</td>\n",
       "    </tr>\n",
       "    <tr>\n",
       "      <th>926018</th>\n",
       "      <td>6032016</td>\n",
       "      <td>432260</td>\n",
       "      <td>432260</td>\n",
       "      <td>29032016</td>\n",
       "      <td>2236370.0</td>\n",
       "      <td>1.0</td>\n",
       "      <td>1</td>\n",
       "      <td>1.0</td>\n",
       "      <td>3315</td>\n",
       "      <td>4.0</td>\n",
       "      <td>5.0</td>\n",
       "      <td>5.0</td>\n",
       "      <td>39.0</td>\n",
       "      <td>NaN</td>\n",
       "      <td>35.0</td>\n",
       "      <td>1.0</td>\n",
       "      <td>1.0</td>\n",
       "      <td>3.0</td>\n",
       "      <td>1.0</td>\n",
       "      <td>11.0</td>\n",
       "      <td>43</td>\n",
       "      <td>Goiás</td>\n",
       "      <td>2016</td>\n",
       "      <td>3</td>\n",
       "      <td>29</td>\n",
       "      <td>2016-03-29</td>\n",
       "      <td>2021-07-12</td>\n",
       "      <td>5</td>\n",
       "    </tr>\n",
       "    <tr>\n",
       "      <th>857815</th>\n",
       "      <td>31032016</td>\n",
       "      <td>420550</td>\n",
       "      <td>420550</td>\n",
       "      <td>31032016</td>\n",
       "      <td>7274351.0</td>\n",
       "      <td>1.0</td>\n",
       "      <td>1</td>\n",
       "      <td>2.0</td>\n",
       "      <td>2obeso710</td>\n",
       "      <td>3.0</td>\n",
       "      <td>1.0</td>\n",
       "      <td>5.0</td>\n",
       "      <td>38.0</td>\n",
       "      <td>1.0</td>\n",
       "      <td>24.0</td>\n",
       "      <td>1.0</td>\n",
       "      <td>2.0</td>\n",
       "      <td>1.0</td>\n",
       "      <td>1.0</td>\n",
       "      <td>13.0</td>\n",
       "      <td>42</td>\n",
       "      <td>Mato Grosso do Sul</td>\n",
       "      <td>2016</td>\n",
       "      <td>3</td>\n",
       "      <td>31</td>\n",
       "      <td>2016-03-31</td>\n",
       "      <td>2021-07-12</td>\n",
       "      <td>5</td>\n",
       "    </tr>\n",
       "    <tr>\n",
       "      <th>1918960</th>\n",
       "      <td>25072016</td>\n",
       "      <td>420460</td>\n",
       "      <td>420700</td>\n",
       "      <td>3052016</td>\n",
       "      <td>5712068.0</td>\n",
       "      <td>1.0</td>\n",
       "      <td>1</td>\n",
       "      <td>2.0</td>\n",
       "      <td>3065</td>\n",
       "      <td>5.0</td>\n",
       "      <td>2.0</td>\n",
       "      <td>5.0</td>\n",
       "      <td>38.0</td>\n",
       "      <td>NaN</td>\n",
       "      <td>NaN</td>\n",
       "      <td>1.0</td>\n",
       "      <td>2.0</td>\n",
       "      <td>1.0</td>\n",
       "      <td>1.0</td>\n",
       "      <td>7.0</td>\n",
       "      <td>42</td>\n",
       "      <td>Mato Grosso do Sul</td>\n",
       "      <td>2016</td>\n",
       "      <td>5</td>\n",
       "      <td>3</td>\n",
       "      <td>2016-03-05</td>\n",
       "      <td>2021-07-12</td>\n",
       "      <td>5</td>\n",
       "    </tr>\n",
       "    <tr>\n",
       "      <th>1278359</th>\n",
       "      <td>4062016</td>\n",
       "      <td>330470</td>\n",
       "      <td>330470</td>\n",
       "      <td>5062016</td>\n",
       "      <td>2275244.0</td>\n",
       "      <td>4.0</td>\n",
       "      <td>1</td>\n",
       "      <td>2.0</td>\n",
       "      <td>3895</td>\n",
       "      <td>5.0</td>\n",
       "      <td>2.0</td>\n",
       "      <td>5.0</td>\n",
       "      <td>39.0</td>\n",
       "      <td>NaN</td>\n",
       "      <td>43.0</td>\n",
       "      <td>1.0</td>\n",
       "      <td>2.0</td>\n",
       "      <td>2.0</td>\n",
       "      <td>1.0</td>\n",
       "      <td>7.0</td>\n",
       "      <td>33</td>\n",
       "      <td>Minas Gerais</td>\n",
       "      <td>2016</td>\n",
       "      <td>6</td>\n",
       "      <td>5</td>\n",
       "      <td>2016-05-06</td>\n",
       "      <td>2021-07-12</td>\n",
       "      <td>5</td>\n",
       "    </tr>\n",
       "    <tr>\n",
       "      <th>873067</th>\n",
       "      <td>31032016</td>\n",
       "      <td>421660</td>\n",
       "      <td>421190</td>\n",
       "      <td>4042016</td>\n",
       "      <td>2555646.0</td>\n",
       "      <td>1.0</td>\n",
       "      <td>1</td>\n",
       "      <td>2.0</td>\n",
       "      <td>3825</td>\n",
       "      <td>2.0</td>\n",
       "      <td>1.0</td>\n",
       "      <td>5.0</td>\n",
       "      <td>39.0</td>\n",
       "      <td>8.0</td>\n",
       "      <td>23.0</td>\n",
       "      <td>1.0</td>\n",
       "      <td>2.0</td>\n",
       "      <td>2.0</td>\n",
       "      <td>1.0</td>\n",
       "      <td>10.0</td>\n",
       "      <td>42</td>\n",
       "      <td>Mato Grosso do Sul</td>\n",
       "      <td>2016</td>\n",
       "      <td>4</td>\n",
       "      <td>4</td>\n",
       "      <td>2016-04-04</td>\n",
       "      <td>2021-07-12</td>\n",
       "      <td>5</td>\n",
       "    </tr>\n",
       "    <tr>\n",
       "      <th>873189</th>\n",
       "      <td>24042016</td>\n",
       "      <td>421660</td>\n",
       "      <td>421660</td>\n",
       "      <td>27042016</td>\n",
       "      <td>2555646.0</td>\n",
       "      <td>NaN</td>\n",
       "      <td>1</td>\n",
       "      <td>2.0</td>\n",
       "      <td>3290</td>\n",
       "      <td>3.0</td>\n",
       "      <td>1.0</td>\n",
       "      <td>5.0</td>\n",
       "      <td>38.0</td>\n",
       "      <td>3.0</td>\n",
       "      <td>25.0</td>\n",
       "      <td>1.0</td>\n",
       "      <td>2.0</td>\n",
       "      <td>1.0</td>\n",
       "      <td>1.0</td>\n",
       "      <td>9.0</td>\n",
       "      <td>42</td>\n",
       "      <td>Mato Grosso do Sul</td>\n",
       "      <td>2016</td>\n",
       "      <td>4</td>\n",
       "      <td>27</td>\n",
       "      <td>2016-04-27</td>\n",
       "      <td>2021-07-12</td>\n",
       "      <td>5</td>\n",
       "    </tr>\n",
       "    <tr>\n",
       "      <th>1063531</th>\n",
       "      <td>12062016</td>\n",
       "      <td>210120</td>\n",
       "      <td>210590</td>\n",
       "      <td>13062016</td>\n",
       "      <td>6922902.0</td>\n",
       "      <td>4.0</td>\n",
       "      <td>1</td>\n",
       "      <td>1.0</td>\n",
       "      <td>3625</td>\n",
       "      <td>2.0</td>\n",
       "      <td>5.0</td>\n",
       "      <td>5.0</td>\n",
       "      <td>39.0</td>\n",
       "      <td>NaN</td>\n",
       "      <td>NaN</td>\n",
       "      <td>1.0</td>\n",
       "      <td>2.0</td>\n",
       "      <td>3.0</td>\n",
       "      <td>1.0</td>\n",
       "      <td>5.0</td>\n",
       "      <td>21</td>\n",
       "      <td>Alagoas</td>\n",
       "      <td>2016</td>\n",
       "      <td>6</td>\n",
       "      <td>13</td>\n",
       "      <td>2016-06-13</td>\n",
       "      <td>2021-07-12</td>\n",
       "      <td>5</td>\n",
       "    </tr>\n",
       "    <tr>\n",
       "      <th>2163500</th>\n",
       "      <td>26112016</td>\n",
       "      <td>230440</td>\n",
       "      <td>230440</td>\n",
       "      <td>2062008</td>\n",
       "      <td>2529068.0</td>\n",
       "      <td>4.0</td>\n",
       "      <td>1</td>\n",
       "      <td>1.0</td>\n",
       "      <td>3330</td>\n",
       "      <td>2.0</td>\n",
       "      <td>1.0</td>\n",
       "      <td>5.0</td>\n",
       "      <td>40.0</td>\n",
       "      <td>5.0</td>\n",
       "      <td>NaN</td>\n",
       "      <td>1.0</td>\n",
       "      <td>2.0</td>\n",
       "      <td>3.0</td>\n",
       "      <td>1.0</td>\n",
       "      <td>8.0</td>\n",
       "      <td>23</td>\n",
       "      <td>Ceará</td>\n",
       "      <td>2008</td>\n",
       "      <td>6</td>\n",
       "      <td>2</td>\n",
       "      <td>2008-02-06</td>\n",
       "      <td>2021-07-12</td>\n",
       "      <td>13</td>\n",
       "    </tr>\n",
       "    <tr>\n",
       "      <th>82106</th>\n",
       "      <td>10022016</td>\n",
       "      <td>150660</td>\n",
       "      <td>150660</td>\n",
       "      <td>10022006</td>\n",
       "      <td>2674785.0</td>\n",
       "      <td>4.0</td>\n",
       "      <td>1</td>\n",
       "      <td>2.0</td>\n",
       "      <td>3900</td>\n",
       "      <td>NaN</td>\n",
       "      <td>1.0</td>\n",
       "      <td>5.0</td>\n",
       "      <td>38.0</td>\n",
       "      <td>NaN</td>\n",
       "      <td>22.0</td>\n",
       "      <td>1.0</td>\n",
       "      <td>2.0</td>\n",
       "      <td>2.0</td>\n",
       "      <td>1.0</td>\n",
       "      <td>7.0</td>\n",
       "      <td>15</td>\n",
       "      <td>Rondonia</td>\n",
       "      <td>2006</td>\n",
       "      <td>2</td>\n",
       "      <td>10</td>\n",
       "      <td>2006-10-02</td>\n",
       "      <td>2021-07-12</td>\n",
       "      <td>14</td>\n",
       "    </tr>\n",
       "    <tr>\n",
       "      <th>1917489</th>\n",
       "      <td>16082016</td>\n",
       "      <td>420360</td>\n",
       "      <td>420360</td>\n",
       "      <td>21072006</td>\n",
       "      <td>2379767.0</td>\n",
       "      <td>1.0</td>\n",
       "      <td>1</td>\n",
       "      <td>2.0</td>\n",
       "      <td>3590</td>\n",
       "      <td>2.0</td>\n",
       "      <td>5.0</td>\n",
       "      <td>5.0</td>\n",
       "      <td>39.0</td>\n",
       "      <td>NaN</td>\n",
       "      <td>22.0</td>\n",
       "      <td>1.0</td>\n",
       "      <td>2.0</td>\n",
       "      <td>NaN</td>\n",
       "      <td>1.0</td>\n",
       "      <td>6.0</td>\n",
       "      <td>42</td>\n",
       "      <td>Mato Grosso do Sul</td>\n",
       "      <td>2006</td>\n",
       "      <td>7</td>\n",
       "      <td>21</td>\n",
       "      <td>2006-07-21</td>\n",
       "      <td>2021-07-12</td>\n",
       "      <td>14</td>\n",
       "    </tr>\n",
       "    <tr>\n",
       "      <th>2125187</th>\n",
       "      <td>3092016</td>\n",
       "      <td>211170</td>\n",
       "      <td>211100</td>\n",
       "      <td>2052007</td>\n",
       "      <td>2450453.0</td>\n",
       "      <td>4.0</td>\n",
       "      <td>1</td>\n",
       "      <td>1.0</td>\n",
       "      <td>2obeso430</td>\n",
       "      <td>3.0</td>\n",
       "      <td>1.0</td>\n",
       "      <td>NaN</td>\n",
       "      <td>NaN</td>\n",
       "      <td>NaN</td>\n",
       "      <td>34.0</td>\n",
       "      <td>1.0</td>\n",
       "      <td>2.0</td>\n",
       "      <td>3.0</td>\n",
       "      <td>2.0</td>\n",
       "      <td>4.0</td>\n",
       "      <td>21</td>\n",
       "      <td>Alagoas</td>\n",
       "      <td>2007</td>\n",
       "      <td>5</td>\n",
       "      <td>2</td>\n",
       "      <td>2007-02-05</td>\n",
       "      <td>2021-07-12</td>\n",
       "      <td>14</td>\n",
       "    </tr>\n",
       "    <tr>\n",
       "      <th>2143051</th>\n",
       "      <td>17122016</td>\n",
       "      <td>221100</td>\n",
       "      <td>221100</td>\n",
       "      <td>23082006</td>\n",
       "      <td>2679647.0</td>\n",
       "      <td>NaN</td>\n",
       "      <td>1</td>\n",
       "      <td>1.0</td>\n",
       "      <td>3496</td>\n",
       "      <td>3.0</td>\n",
       "      <td>1.0</td>\n",
       "      <td>5.0</td>\n",
       "      <td>39.0</td>\n",
       "      <td>1.0</td>\n",
       "      <td>NaN</td>\n",
       "      <td>1.0</td>\n",
       "      <td>2.0</td>\n",
       "      <td>3.0</td>\n",
       "      <td>1.0</td>\n",
       "      <td>4.0</td>\n",
       "      <td>22</td>\n",
       "      <td>Bahia</td>\n",
       "      <td>2006</td>\n",
       "      <td>8</td>\n",
       "      <td>23</td>\n",
       "      <td>2006-08-23</td>\n",
       "      <td>2021-07-12</td>\n",
       "      <td>14</td>\n",
       "    </tr>\n",
       "    <tr>\n",
       "      <th>2382634</th>\n",
       "      <td>3122016</td>\n",
       "      <td>314430</td>\n",
       "      <td>314430</td>\n",
       "      <td>12062006</td>\n",
       "      <td>2211262.0</td>\n",
       "      <td>4.0</td>\n",
       "      <td>1</td>\n",
       "      <td>1.0</td>\n",
       "      <td>4092</td>\n",
       "      <td>3.0</td>\n",
       "      <td>5.0</td>\n",
       "      <td>5.0</td>\n",
       "      <td>39.0</td>\n",
       "      <td>1.0</td>\n",
       "      <td>NaN</td>\n",
       "      <td>1.0</td>\n",
       "      <td>1.0</td>\n",
       "      <td>3.0</td>\n",
       "      <td>1.0</td>\n",
       "      <td>9.0</td>\n",
       "      <td>31</td>\n",
       "      <td>Espírito Santo</td>\n",
       "      <td>2006</td>\n",
       "      <td>6</td>\n",
       "      <td>12</td>\n",
       "      <td>2006-12-06</td>\n",
       "      <td>2021-07-12</td>\n",
       "      <td>14</td>\n",
       "    </tr>\n",
       "    <tr>\n",
       "      <th>2374455</th>\n",
       "      <td>18102016</td>\n",
       "      <td>313670</td>\n",
       "      <td>313670</td>\n",
       "      <td>4062006</td>\n",
       "      <td>2153084.0</td>\n",
       "      <td>4.0</td>\n",
       "      <td>1</td>\n",
       "      <td>1.0</td>\n",
       "      <td>2obeso955</td>\n",
       "      <td>2.0</td>\n",
       "      <td>1.0</td>\n",
       "      <td>5.0</td>\n",
       "      <td>37.0</td>\n",
       "      <td>NaN</td>\n",
       "      <td>NaN</td>\n",
       "      <td>1.0</td>\n",
       "      <td>9.0</td>\n",
       "      <td>3.0</td>\n",
       "      <td>1.0</td>\n",
       "      <td>6.0</td>\n",
       "      <td>31</td>\n",
       "      <td>Espírito Santo</td>\n",
       "      <td>2006</td>\n",
       "      <td>6</td>\n",
       "      <td>4</td>\n",
       "      <td>2006-04-06</td>\n",
       "      <td>2021-07-12</td>\n",
       "      <td>15</td>\n",
       "    </tr>\n",
       "    <tr>\n",
       "      <th>2831552</th>\n",
       "      <td>30112016</td>\n",
       "      <td>520450</td>\n",
       "      <td>520450</td>\n",
       "      <td>19092005</td>\n",
       "      <td>2437139.0</td>\n",
       "      <td>4.0</td>\n",
       "      <td>1</td>\n",
       "      <td>1.0</td>\n",
       "      <td>3510</td>\n",
       "      <td>2.0</td>\n",
       "      <td>1.0</td>\n",
       "      <td>5.0</td>\n",
       "      <td>37.0</td>\n",
       "      <td>7.0</td>\n",
       "      <td>20.0</td>\n",
       "      <td>1.0</td>\n",
       "      <td>2.0</td>\n",
       "      <td>3.0</td>\n",
       "      <td>1.0</td>\n",
       "      <td>6.0</td>\n",
       "      <td>52</td>\n",
       "      <td>Santa Catarina</td>\n",
       "      <td>2005</td>\n",
       "      <td>9</td>\n",
       "      <td>19</td>\n",
       "      <td>2005-09-19</td>\n",
       "      <td>2021-07-12</td>\n",
       "      <td>15</td>\n",
       "    </tr>\n",
       "    <tr>\n",
       "      <th>2797744</th>\n",
       "      <td>2112016</td>\n",
       "      <td>510020</td>\n",
       "      <td>510617</td>\n",
       "      <td>25102005</td>\n",
       "      <td>2473046.0</td>\n",
       "      <td>4.0</td>\n",
       "      <td>1</td>\n",
       "      <td>2.0</td>\n",
       "      <td>3120</td>\n",
       "      <td>3.0</td>\n",
       "      <td>1.0</td>\n",
       "      <td>NaN</td>\n",
       "      <td>NaN</td>\n",
       "      <td>NaN</td>\n",
       "      <td>NaN</td>\n",
       "      <td>2.0</td>\n",
       "      <td>2.0</td>\n",
       "      <td>1.0</td>\n",
       "      <td>1.0</td>\n",
       "      <td>9.0</td>\n",
       "      <td>51</td>\n",
       "      <td>Paraná</td>\n",
       "      <td>2005</td>\n",
       "      <td>10</td>\n",
       "      <td>25</td>\n",
       "      <td>2005-10-25</td>\n",
       "      <td>2021-07-12</td>\n",
       "      <td>15</td>\n",
       "    </tr>\n",
       "    <tr>\n",
       "      <th>2062396</th>\n",
       "      <td>20102016</td>\n",
       "      <td>150390</td>\n",
       "      <td>150390</td>\n",
       "      <td>19042006</td>\n",
       "      <td>2316757.0</td>\n",
       "      <td>4.0</td>\n",
       "      <td>1</td>\n",
       "      <td>2.0</td>\n",
       "      <td>4180</td>\n",
       "      <td>3.0</td>\n",
       "      <td>1.0</td>\n",
       "      <td>5.0</td>\n",
       "      <td>40.0</td>\n",
       "      <td>2.0</td>\n",
       "      <td>NaN</td>\n",
       "      <td>1.0</td>\n",
       "      <td>2.0</td>\n",
       "      <td>1.0</td>\n",
       "      <td>1.0</td>\n",
       "      <td>10.0</td>\n",
       "      <td>15</td>\n",
       "      <td>Rondonia</td>\n",
       "      <td>2006</td>\n",
       "      <td>4</td>\n",
       "      <td>19</td>\n",
       "      <td>2006-04-19</td>\n",
       "      <td>2021-07-12</td>\n",
       "      <td>15</td>\n",
       "    </tr>\n",
       "    <tr>\n",
       "      <th>1524118</th>\n",
       "      <td>21082016</td>\n",
       "      <td>120020</td>\n",
       "      <td>120035</td>\n",
       "      <td>20062006</td>\n",
       "      <td>2000296.0</td>\n",
       "      <td>4.0</td>\n",
       "      <td>1</td>\n",
       "      <td>1.0</td>\n",
       "      <td>3260</td>\n",
       "      <td>3.0</td>\n",
       "      <td>5.0</td>\n",
       "      <td>5.0</td>\n",
       "      <td>38.0</td>\n",
       "      <td>3.0</td>\n",
       "      <td>NaN</td>\n",
       "      <td>1.0</td>\n",
       "      <td>2.0</td>\n",
       "      <td>3.0</td>\n",
       "      <td>2.0</td>\n",
       "      <td>7.0</td>\n",
       "      <td>12</td>\n",
       "      <td>Amapá</td>\n",
       "      <td>2006</td>\n",
       "      <td>6</td>\n",
       "      <td>20</td>\n",
       "      <td>2006-06-20</td>\n",
       "      <td>2021-07-12</td>\n",
       "      <td>15</td>\n",
       "    </tr>\n",
       "  </tbody>\n",
       "</table>\n",
       "</div>"
      ],
      "text/plain": [
       "           dtnasc  codmunnasc  codmunres  dtnascmae   codestab  racacormae  locnasc  parto       peso  escmae2010  estcivmae  gestacao  semagestac  seriescmae  idadepai  tpapresent  sttrabpart  stcesparto  tpnascassi  consprenat  codestadnasc          estadonasc  anomaenasc  mesmaenasc  diamaenasc       date day_calc_age  idademae\n",
       "952486    3042016      510340     510340   21072016  2604388.0         4.0        1    1.0       3515         5.0        2.0       5.0        41.0         NaN       NaN         1.0         2.0         3.0         1.0         9.0            51              Paraná        2016           7          21 2016-07-21   2021-07-12         4\n",
       "2380327   6102016      314330     313505   22102016  2149990.0         4.0        1    NaN  2obeso675         3.0        2.0       5.0        41.0         3.0       NaN         9.0         NaN         NaN         1.0         8.0            31      Espírito Santo        2016          10          22 2016-10-22   2021-07-12         4\n",
       "926018    6032016      432260     432260   29032016  2236370.0         1.0        1    1.0       3315         4.0        5.0       5.0        39.0         NaN      35.0         1.0         1.0         3.0         1.0        11.0            43               Goiás        2016           3          29 2016-03-29   2021-07-12         5\n",
       "857815   31032016      420550     420550   31032016  7274351.0         1.0        1    2.0  2obeso710         3.0        1.0       5.0        38.0         1.0      24.0         1.0         2.0         1.0         1.0        13.0            42  Mato Grosso do Sul        2016           3          31 2016-03-31   2021-07-12         5\n",
       "1918960  25072016      420460     420700    3052016  5712068.0         1.0        1    2.0       3065         5.0        2.0       5.0        38.0         NaN       NaN         1.0         2.0         1.0         1.0         7.0            42  Mato Grosso do Sul        2016           5           3 2016-03-05   2021-07-12         5\n",
       "1278359   4062016      330470     330470    5062016  2275244.0         4.0        1    2.0       3895         5.0        2.0       5.0        39.0         NaN      43.0         1.0         2.0         2.0         1.0         7.0            33        Minas Gerais        2016           6           5 2016-05-06   2021-07-12         5\n",
       "873067   31032016      421660     421190    4042016  2555646.0         1.0        1    2.0       3825         2.0        1.0       5.0        39.0         8.0      23.0         1.0         2.0         2.0         1.0        10.0            42  Mato Grosso do Sul        2016           4           4 2016-04-04   2021-07-12         5\n",
       "873189   24042016      421660     421660   27042016  2555646.0         NaN        1    2.0       3290         3.0        1.0       5.0        38.0         3.0      25.0         1.0         2.0         1.0         1.0         9.0            42  Mato Grosso do Sul        2016           4          27 2016-04-27   2021-07-12         5\n",
       "1063531  12062016      210120     210590   13062016  6922902.0         4.0        1    1.0       3625         2.0        5.0       5.0        39.0         NaN       NaN         1.0         2.0         3.0         1.0         5.0            21             Alagoas        2016           6          13 2016-06-13   2021-07-12         5\n",
       "2163500  26112016      230440     230440    2062008  2529068.0         4.0        1    1.0       3330         2.0        1.0       5.0        40.0         5.0       NaN         1.0         2.0         3.0         1.0         8.0            23               Ceará        2008           6           2 2008-02-06   2021-07-12        13\n",
       "82106    10022016      150660     150660   10022006  2674785.0         4.0        1    2.0       3900         NaN        1.0       5.0        38.0         NaN      22.0         1.0         2.0         2.0         1.0         7.0            15            Rondonia        2006           2          10 2006-10-02   2021-07-12        14\n",
       "1917489  16082016      420360     420360   21072006  2379767.0         1.0        1    2.0       3590         2.0        5.0       5.0        39.0         NaN      22.0         1.0         2.0         NaN         1.0         6.0            42  Mato Grosso do Sul        2006           7          21 2006-07-21   2021-07-12        14\n",
       "2125187   3092016      211170     211100    2052007  2450453.0         4.0        1    1.0  2obeso430         3.0        1.0       NaN         NaN         NaN      34.0         1.0         2.0         3.0         2.0         4.0            21             Alagoas        2007           5           2 2007-02-05   2021-07-12        14\n",
       "2143051  17122016      221100     221100   23082006  2679647.0         NaN        1    1.0       3496         3.0        1.0       5.0        39.0         1.0       NaN         1.0         2.0         3.0         1.0         4.0            22               Bahia        2006           8          23 2006-08-23   2021-07-12        14\n",
       "2382634   3122016      314430     314430   12062006  2211262.0         4.0        1    1.0       4092         3.0        5.0       5.0        39.0         1.0       NaN         1.0         1.0         3.0         1.0         9.0            31      Espírito Santo        2006           6          12 2006-12-06   2021-07-12        14\n",
       "2374455  18102016      313670     313670    4062006  2153084.0         4.0        1    1.0  2obeso955         2.0        1.0       5.0        37.0         NaN       NaN         1.0         9.0         3.0         1.0         6.0            31      Espírito Santo        2006           6           4 2006-04-06   2021-07-12        15\n",
       "2831552  30112016      520450     520450   19092005  2437139.0         4.0        1    1.0       3510         2.0        1.0       5.0        37.0         7.0      20.0         1.0         2.0         3.0         1.0         6.0            52      Santa Catarina        2005           9          19 2005-09-19   2021-07-12        15\n",
       "2797744   2112016      510020     510617   25102005  2473046.0         4.0        1    2.0       3120         3.0        1.0       NaN         NaN         NaN       NaN         2.0         2.0         1.0         1.0         9.0            51              Paraná        2005          10          25 2005-10-25   2021-07-12        15\n",
       "2062396  20102016      150390     150390   19042006  2316757.0         4.0        1    2.0       4180         3.0        1.0       5.0        40.0         2.0       NaN         1.0         2.0         1.0         1.0        10.0            15            Rondonia        2006           4          19 2006-04-19   2021-07-12        15\n",
       "1524118  21082016      120020     120035   20062006  2000296.0         4.0        1    1.0       3260         3.0        5.0       5.0        38.0         3.0       NaN         1.0         2.0         3.0         2.0         7.0            12               Amapá        2006           6          20 2006-06-20   2021-07-12        15"
      ]
     },
     "execution_count": 578,
     "metadata": {},
     "output_type": "execute_result"
    }
   ],
   "source": [
    "df3.sort_values('idademae', ascending=True).head(20)"
   ]
  },
  {
   "cell_type": "markdown",
   "id": "8e15547e",
   "metadata": {},
   "source": [
    "### 2.2.2 B) What is the frequency distribution of the age of mothers in Bahia?"
   ]
  },
  {
   "cell_type": "code",
   "execution_count": 579,
   "id": "e64c8a37",
   "metadata": {
    "ExecuteTime": {
     "end_time": "2023-01-13T00:52:17.309099Z",
     "start_time": "2023-01-13T00:52:16.964037Z"
    }
   },
   "outputs": [],
   "source": [
    "aux2 = df3[df3['estadonasc'] == 'Bahia']"
   ]
  },
  {
   "cell_type": "code",
   "execution_count": 580,
   "id": "83f8f1d0",
   "metadata": {
    "ExecuteTime": {
     "end_time": "2023-01-13T00:52:17.324820Z",
     "start_time": "2023-01-13T00:52:17.313097Z"
    }
   },
   "outputs": [],
   "source": [
    "aux = aux2.groupby('idademae')"
   ]
  },
  {
   "cell_type": "code",
   "execution_count": 581,
   "id": "7ba345dd",
   "metadata": {
    "ExecuteTime": {
     "end_time": "2023-01-13T00:52:18.528959Z",
     "start_time": "2023-01-13T00:52:17.328818Z"
    }
   },
   "outputs": [
    {
     "data": {
      "text/plain": [
       "<AxesSubplot: xlabel='idademae', ylabel='count'>"
      ]
     },
     "execution_count": 581,
     "metadata": {},
     "output_type": "execute_result"
    },
    {
     "data": {
      "image/png": "[encoded data removed]",
      "text/plain": [
       "<Figure size 1800x864 with 1 Axes>"
      ]
     },
     "metadata": {},
     "output_type": "display_data"
    }
   ],
   "source": [
    "sns.countplot(x='idademae', data=aux2, order = aux2['idademae'].value_counts().index)"
   ]
  },
  {
   "cell_type": "markdown",
   "id": "2f9945f1",
   "metadata": {},
   "source": [
    "### 2.2.3 C) What is the percentage of this value considering the size of the database?\n"
   ]
  },
  {
   "cell_type": "code",
   "execution_count": 582,
   "id": "7d513a84",
   "metadata": {
    "ExecuteTime": {
     "end_time": "2023-01-13T00:52:18.543947Z",
     "start_time": "2023-01-13T00:52:18.531954Z"
    }
   },
   "outputs": [],
   "source": [
    "aux = aux2.groupby('idademae').size()\n"
   ]
  },
  {
   "cell_type": "code",
   "execution_count": 583,
   "id": "aa6c599a",
   "metadata": {
    "ExecuteTime": {
     "end_time": "2023-01-13T00:52:18.559937Z",
     "start_time": "2023-01-13T00:52:18.547945Z"
    }
   },
   "outputs": [],
   "source": [
    "aux = (aux / len(df2))*100"
   ]
  },
  {
   "cell_type": "code",
   "execution_count": 584,
   "id": "68652fc1",
   "metadata": {
    "ExecuteTime": {
     "end_time": "2023-01-13T00:52:18.575928Z",
     "start_time": "2023-01-13T00:52:18.564935Z"
    }
   },
   "outputs": [
    {
     "data": {
      "text/plain": [
       "idademae\n",
       "14    0.000035\n",
       "15    0.000035\n",
       "16    0.000105\n",
       "17    0.000875\n",
       "18    0.004059\n",
       "19    0.015956\n",
       "20    0.032647\n",
       "21    0.057947\n",
       "22    0.073833\n",
       "23    0.085870\n",
       "24    0.097733\n",
       "25    0.096788\n",
       "26    0.094898\n",
       "27    0.086955\n",
       "28    0.086745\n",
       "29    0.088110\n",
       "30    0.081461\n",
       "31    0.083771\n",
       "32    0.087480\n",
       "33    0.083386\n",
       "34    0.081426\n",
       "35    0.073763\n",
       "36    0.070334\n",
       "37    0.059696\n",
       "38    0.055427\n",
       "39    0.048359\n",
       "40    0.042550\n",
       "41    0.035272\n",
       "42    0.027224\n",
       "43    0.022955\n",
       "44    0.017041\n",
       "45    0.013297\n",
       "46    0.008643\n",
       "47    0.005564\n",
       "48    0.003884\n",
       "49    0.002030\n",
       "50    0.000910\n",
       "51    0.000420\n",
       "52    0.000210\n",
       "53    0.000105\n",
       "54    0.000245\n",
       "55    0.000105\n",
       "58    0.000035\n",
       "59    0.000035\n",
       "64    0.000035\n",
       "65    0.000035\n",
       "67    0.000035\n",
       "dtype: float64"
      ]
     },
     "execution_count": 584,
     "metadata": {},
     "output_type": "execute_result"
    }
   ],
   "source": [
    "aux"
   ]
  },
  {
   "cell_type": "markdown",
   "id": "90f5624c",
   "metadata": {},
   "source": [
    "## 2.3 Question 3"
   ]
  },
  {
   "cell_type": "code",
   "execution_count": 585,
   "id": "df6b8de2",
   "metadata": {
    "ExecuteTime": {
     "end_time": "2023-01-13T00:52:18.744840Z",
     "start_time": "2023-01-13T00:52:18.578926Z"
    }
   },
   "outputs": [],
   "source": [
    "df4 = df3.copy()"
   ]
  },
  {
   "cell_type": "markdown",
   "id": "afca4e98",
   "metadata": {},
   "source": [
    "In relation to the birth weight:\n",
    "\n",
    "a) Create an integer type variable with the length of the 'weight' field and show the distribution.\n",
    "\n",
    "b) How many babies were born weighing less than 2000 grams? (If necessary, remove inconsistencies from the variable.)\n",
    "\n",
    "c) What is the percentage of this value considering the size of the database?\n"
   ]
  },
  {
   "cell_type": "markdown",
   "id": "2253350e",
   "metadata": {},
   "source": [
    "### 2.3.1 A) Create an integer type variable with the length of the 'weight' field and show the distribution."
   ]
  },
  {
   "cell_type": "code",
   "execution_count": 586,
   "id": "fac45550",
   "metadata": {
    "ExecuteTime": {
     "end_time": "2023-01-13T00:52:33.950724Z",
     "start_time": "2023-01-13T00:52:33.915745Z"
    }
   },
   "outputs": [
    {
     "data": {
      "text/html": [
       "<div>\n",
       "<style scoped>\n",
       "    .dataframe tbody tr th:only-of-type {\n",
       "        vertical-align: middle;\n",
       "    }\n",
       "\n",
       "    .dataframe tbody tr th {\n",
       "        vertical-align: top;\n",
       "    }\n",
       "\n",
       "    .dataframe thead th {\n",
       "        text-align: right;\n",
       "    }\n",
       "</style>\n",
       "<table border=\"1\" class=\"dataframe\">\n",
       "  <thead>\n",
       "    <tr style=\"text-align: right;\">\n",
       "      <th></th>\n",
       "      <th>dtnasc</th>\n",
       "      <th>codmunnasc</th>\n",
       "      <th>codmunres</th>\n",
       "      <th>dtnascmae</th>\n",
       "      <th>codestab</th>\n",
       "      <th>racacormae</th>\n",
       "      <th>locnasc</th>\n",
       "      <th>parto</th>\n",
       "      <th>peso</th>\n",
       "      <th>escmae2010</th>\n",
       "      <th>estcivmae</th>\n",
       "      <th>gestacao</th>\n",
       "      <th>semagestac</th>\n",
       "      <th>seriescmae</th>\n",
       "      <th>idadepai</th>\n",
       "      <th>tpapresent</th>\n",
       "      <th>sttrabpart</th>\n",
       "      <th>stcesparto</th>\n",
       "      <th>tpnascassi</th>\n",
       "      <th>consprenat</th>\n",
       "      <th>codestadnasc</th>\n",
       "      <th>estadonasc</th>\n",
       "      <th>anomaenasc</th>\n",
       "      <th>mesmaenasc</th>\n",
       "      <th>diamaenasc</th>\n",
       "      <th>date</th>\n",
       "      <th>day_calc_age</th>\n",
       "      <th>idademae</th>\n",
       "    </tr>\n",
       "  </thead>\n",
       "  <tbody>\n",
       "    <tr>\n",
       "      <th>0</th>\n",
       "      <td>19022016</td>\n",
       "      <td>110001</td>\n",
       "      <td>110001</td>\n",
       "      <td>18121987</td>\n",
       "      <td>2679477.0</td>\n",
       "      <td>1.0</td>\n",
       "      <td>1</td>\n",
       "      <td>1.0</td>\n",
       "      <td>3100</td>\n",
       "      <td>2.0</td>\n",
       "      <td>2.0</td>\n",
       "      <td>5.0</td>\n",
       "      <td>39.0</td>\n",
       "      <td>8.0</td>\n",
       "      <td>24.0</td>\n",
       "      <td>2.0</td>\n",
       "      <td>2.0</td>\n",
       "      <td>3.0</td>\n",
       "      <td>1.0</td>\n",
       "      <td>9.0</td>\n",
       "      <td>11</td>\n",
       "      <td>Acre</td>\n",
       "      <td>1987</td>\n",
       "      <td>12</td>\n",
       "      <td>18</td>\n",
       "      <td>1987-12-18</td>\n",
       "      <td>2021-07-12</td>\n",
       "      <td>33</td>\n",
       "    </tr>\n",
       "    <tr>\n",
       "      <th>1</th>\n",
       "      <td>22022016</td>\n",
       "      <td>110001</td>\n",
       "      <td>110001</td>\n",
       "      <td>17011998</td>\n",
       "      <td>NaN</td>\n",
       "      <td>5.0</td>\n",
       "      <td>4</td>\n",
       "      <td>1.0</td>\n",
       "      <td>1800</td>\n",
       "      <td>1.0</td>\n",
       "      <td>5.0</td>\n",
       "      <td>5.0</td>\n",
       "      <td>37.0</td>\n",
       "      <td>3.0</td>\n",
       "      <td>20.0</td>\n",
       "      <td>1.0</td>\n",
       "      <td>2.0</td>\n",
       "      <td>3.0</td>\n",
       "      <td>1.0</td>\n",
       "      <td>5.0</td>\n",
       "      <td>11</td>\n",
       "      <td>Acre</td>\n",
       "      <td>1998</td>\n",
       "      <td>1</td>\n",
       "      <td>17</td>\n",
       "      <td>1998-01-17</td>\n",
       "      <td>2021-07-12</td>\n",
       "      <td>23</td>\n",
       "    </tr>\n",
       "    <tr>\n",
       "      <th>2</th>\n",
       "      <td>13022016</td>\n",
       "      <td>110001</td>\n",
       "      <td>110001</td>\n",
       "      <td>15021986</td>\n",
       "      <td>2679477.0</td>\n",
       "      <td>5.0</td>\n",
       "      <td>1</td>\n",
       "      <td>1.0</td>\n",
       "      <td>3545</td>\n",
       "      <td>1.0</td>\n",
       "      <td>5.0</td>\n",
       "      <td>5.0</td>\n",
       "      <td>39.0</td>\n",
       "      <td>NaN</td>\n",
       "      <td>38.0</td>\n",
       "      <td>1.0</td>\n",
       "      <td>2.0</td>\n",
       "      <td>3.0</td>\n",
       "      <td>1.0</td>\n",
       "      <td>7.0</td>\n",
       "      <td>11</td>\n",
       "      <td>Acre</td>\n",
       "      <td>1986</td>\n",
       "      <td>2</td>\n",
       "      <td>15</td>\n",
       "      <td>1986-02-15</td>\n",
       "      <td>2021-07-12</td>\n",
       "      <td>35</td>\n",
       "    </tr>\n",
       "    <tr>\n",
       "      <th>3</th>\n",
       "      <td>5022016</td>\n",
       "      <td>110001</td>\n",
       "      <td>110001</td>\n",
       "      <td>7041986</td>\n",
       "      <td>2679477.0</td>\n",
       "      <td>5.0</td>\n",
       "      <td>1</td>\n",
       "      <td>1.0</td>\n",
       "      <td>3550</td>\n",
       "      <td>1.0</td>\n",
       "      <td>9.0</td>\n",
       "      <td>5.0</td>\n",
       "      <td>39.0</td>\n",
       "      <td>3.0</td>\n",
       "      <td>NaN</td>\n",
       "      <td>1.0</td>\n",
       "      <td>2.0</td>\n",
       "      <td>3.0</td>\n",
       "      <td>1.0</td>\n",
       "      <td>6.0</td>\n",
       "      <td>11</td>\n",
       "      <td>Acre</td>\n",
       "      <td>1986</td>\n",
       "      <td>4</td>\n",
       "      <td>7</td>\n",
       "      <td>1986-07-04</td>\n",
       "      <td>2021-07-12</td>\n",
       "      <td>35</td>\n",
       "    </tr>\n",
       "    <tr>\n",
       "      <th>4</th>\n",
       "      <td>25022016</td>\n",
       "      <td>110001</td>\n",
       "      <td>110001</td>\n",
       "      <td>18121989</td>\n",
       "      <td>2679477.0</td>\n",
       "      <td>1.0</td>\n",
       "      <td>1</td>\n",
       "      <td>1.0</td>\n",
       "      <td>2obeso565</td>\n",
       "      <td>3.0</td>\n",
       "      <td>5.0</td>\n",
       "      <td>5.0</td>\n",
       "      <td>38.0</td>\n",
       "      <td>NaN</td>\n",
       "      <td>34.0</td>\n",
       "      <td>1.0</td>\n",
       "      <td>2.0</td>\n",
       "      <td>3.0</td>\n",
       "      <td>1.0</td>\n",
       "      <td>7.0</td>\n",
       "      <td>11</td>\n",
       "      <td>Acre</td>\n",
       "      <td>1989</td>\n",
       "      <td>12</td>\n",
       "      <td>18</td>\n",
       "      <td>1989-12-18</td>\n",
       "      <td>2021-07-12</td>\n",
       "      <td>31</td>\n",
       "    </tr>\n",
       "  </tbody>\n",
       "</table>\n",
       "</div>"
      ],
      "text/plain": [
       "     dtnasc  codmunnasc  codmunres  dtnascmae   codestab  racacormae  locnasc  parto       peso  escmae2010  estcivmae  gestacao  semagestac  seriescmae  idadepai  tpapresent  sttrabpart  stcesparto  tpnascassi  consprenat  codestadnasc estadonasc  anomaenasc  mesmaenasc  diamaenasc       date day_calc_age  idademae\n",
       "0  19022016      110001     110001   18121987  2679477.0         1.0        1    1.0       3100         2.0        2.0       5.0        39.0         8.0      24.0         2.0         2.0         3.0         1.0         9.0            11       Acre        1987          12          18 1987-12-18   2021-07-12        33\n",
       "1  22022016      110001     110001   17011998        NaN         5.0        4    1.0       1800         1.0        5.0       5.0        37.0         3.0      20.0         1.0         2.0         3.0         1.0         5.0            11       Acre        1998           1          17 1998-01-17   2021-07-12        23\n",
       "2  13022016      110001     110001   15021986  2679477.0         5.0        1    1.0       3545         1.0        5.0       5.0        39.0         NaN      38.0         1.0         2.0         3.0         1.0         7.0            11       Acre        1986           2          15 1986-02-15   2021-07-12        35\n",
       "3   5022016      110001     110001    7041986  2679477.0         5.0        1    1.0       3550         1.0        9.0       5.0        39.0         3.0       NaN         1.0         2.0         3.0         1.0         6.0            11       Acre        1986           4           7 1986-07-04   2021-07-12        35\n",
       "4  25022016      110001     110001   18121989  2679477.0         1.0        1    1.0  2obeso565         3.0        5.0       5.0        38.0         NaN      34.0         1.0         2.0         3.0         1.0         7.0            11       Acre        1989          12          18 1989-12-18   2021-07-12        31"
      ]
     },
     "execution_count": 586,
     "metadata": {},
     "output_type": "execute_result"
    }
   ],
   "source": [
    "df4.head()"
   ]
  },
  {
   "cell_type": "code",
   "execution_count": 588,
   "id": "de6579e7",
   "metadata": {
    "ExecuteTime": {
     "end_time": "2023-01-13T00:52:53.613768Z",
     "start_time": "2023-01-13T00:52:53.418589Z"
    }
   },
   "outputs": [
    {
     "data": {
      "text/plain": [
       "array(['3100', '1800', '3545', ..., '1507', '0611#', '0663'], dtype=object)"
      ]
     },
     "execution_count": 588,
     "metadata": {},
     "output_type": "execute_result"
    }
   ],
   "source": [
    "df4['peso'].unique()"
   ]
  },
  {
   "cell_type": "code",
   "execution_count": 590,
   "id": "19ca0bc3",
   "metadata": {
    "ExecuteTime": {
     "end_time": "2023-01-13T00:53:34.986036Z",
     "start_time": "2023-01-13T00:53:30.659014Z"
    }
   },
   "outputs": [],
   "source": [
    "df4['peso'].replace('[^0-9]', '', regex=True, inplace = True)"
   ]
  },
  {
   "cell_type": "code",
   "execution_count": 593,
   "id": "a129564b",
   "metadata": {
    "ExecuteTime": {
     "end_time": "2023-01-13T00:54:29.713669Z",
     "start_time": "2023-01-13T00:54:29.626884Z"
    }
   },
   "outputs": [],
   "source": [
    "df4['peso'].replace('', '0', regex=True, inplace = True)"
   ]
  },
  {
   "cell_type": "code",
   "execution_count": 596,
   "id": "34145e47",
   "metadata": {
    "ExecuteTime": {
     "end_time": "2023-01-13T00:55:20.731210Z",
     "start_time": "2023-01-13T00:55:20.411340Z"
    }
   },
   "outputs": [],
   "source": [
    "df4['peso'] = df4['peso'].astype('int64')"
   ]
  },
  {
   "cell_type": "code",
   "execution_count": 598,
   "id": "f40fb0d7",
   "metadata": {
    "ExecuteTime": {
     "end_time": "2023-01-13T00:55:38.784968Z",
     "start_time": "2023-01-13T00:55:38.411181Z"
    }
   },
   "outputs": [],
   "source": [
    "df4 = df4[df4['peso'] > 0]"
   ]
  },
  {
   "cell_type": "code",
   "execution_count": 603,
   "id": "d62ed28e",
   "metadata": {
    "ExecuteTime": {
     "end_time": "2023-01-13T01:00:12.871503Z",
     "start_time": "2023-01-13T01:00:12.743937Z"
    }
   },
   "outputs": [],
   "source": [
    "aux = df4.groupby('peso').size()"
   ]
  },
  {
   "cell_type": "code",
   "execution_count": 606,
   "id": "66158943",
   "metadata": {
    "ExecuteTime": {
     "end_time": "2023-01-13T01:05:13.505154Z",
     "start_time": "2023-01-13T01:05:12.941091Z"
    }
   },
   "outputs": [
    {
     "data": {
      "text/plain": [
       "<AxesSubplot: xlabel='peso'>"
      ]
     },
     "execution_count": 606,
     "metadata": {},
     "output_type": "execute_result"
    },
    {
     "data": {
      "image/png": "[encoded data removed]",
      "text/plain": [
       "<Figure size 1800x864 with 1 Axes>"
      ]
     },
     "metadata": {},
     "output_type": "display_data"
    }
   ],
   "source": [
    "sns.distplot(df4['peso'], kde=False)"
   ]
  },
  {
   "cell_type": "markdown",
   "id": "7923175a",
   "metadata": {},
   "source": [
    "### 2.3.2 B) How many babies were born weighing less than 2000 grams? (If necessary, remove inconsistencies from the variable.)"
   ]
  },
  {
   "cell_type": "code",
   "execution_count": 615,
   "id": "2bb7f54d",
   "metadata": {
    "ExecuteTime": {
     "end_time": "2023-01-13T01:13:25.937666Z",
     "start_time": "2023-01-13T01:13:25.848722Z"
    }
   },
   "outputs": [],
   "source": [
    "aux = df4[(df4['peso'] > 700) & (df4['peso'] < 2000)]"
   ]
  },
  {
   "cell_type": "code",
   "execution_count": 617,
   "id": "ac9b9291",
   "metadata": {
    "ExecuteTime": {
     "end_time": "2023-01-13T01:13:46.033658Z",
     "start_time": "2023-01-13T01:13:46.016668Z"
    }
   },
   "outputs": [
    {
     "data": {
      "text/plain": [
       "74950"
      ]
     },
     "execution_count": 617,
     "metadata": {},
     "output_type": "execute_result"
    }
   ],
   "source": [
    "aux.shape[0]"
   ]
  },
  {
   "cell_type": "markdown",
   "id": "7fca2560",
   "metadata": {},
   "source": [
    "### 2.3.3 C) What is the percentage of this value considering the size of the database?"
   ]
  },
  {
   "cell_type": "code",
   "execution_count": 618,
   "id": "c2562546",
   "metadata": {
    "ExecuteTime": {
     "end_time": "2023-01-13T01:15:23.949795Z",
     "start_time": "2023-01-13T01:15:23.935803Z"
    }
   },
   "outputs": [
    {
     "data": {
      "text/plain": [
       "2.6470919602219247"
      ]
     },
     "execution_count": 618,
     "metadata": {},
     "output_type": "execute_result"
    }
   ],
   "source": [
    "percent = (len(aux) / len(df4))*100\n",
    "percent"
   ]
  },
  {
   "cell_type": "markdown",
   "id": "a99161fc",
   "metadata": {},
   "source": [
    "## 2.4 Question 4"
   ]
  },
  {
   "cell_type": "markdown",
   "id": "00e3395d",
   "metadata": {},
   "source": [
    "How many health facilities does the database contain in each FU?"
   ]
  },
  {
   "cell_type": "code",
   "execution_count": 619,
   "id": "2cee93ed",
   "metadata": {
    "ExecuteTime": {
     "end_time": "2023-01-13T01:19:07.386575Z",
     "start_time": "2023-01-13T01:19:07.205697Z"
    }
   },
   "outputs": [],
   "source": [
    "df5 = df4.copy()"
   ]
  },
  {
   "cell_type": "code",
   "execution_count": 620,
   "id": "bf2cccc7",
   "metadata": {
    "ExecuteTime": {
     "end_time": "2023-01-13T01:19:25.435390Z",
     "start_time": "2023-01-13T01:19:25.397412Z"
    }
   },
   "outputs": [
    {
     "data": {
      "text/html": [
       "<div>\n",
       "<style scoped>\n",
       "    .dataframe tbody tr th:only-of-type {\n",
       "        vertical-align: middle;\n",
       "    }\n",
       "\n",
       "    .dataframe tbody tr th {\n",
       "        vertical-align: top;\n",
       "    }\n",
       "\n",
       "    .dataframe thead th {\n",
       "        text-align: right;\n",
       "    }\n",
       "</style>\n",
       "<table border=\"1\" class=\"dataframe\">\n",
       "  <thead>\n",
       "    <tr style=\"text-align: right;\">\n",
       "      <th></th>\n",
       "      <th>dtnasc</th>\n",
       "      <th>codmunnasc</th>\n",
       "      <th>codmunres</th>\n",
       "      <th>dtnascmae</th>\n",
       "      <th>codestab</th>\n",
       "      <th>racacormae</th>\n",
       "      <th>locnasc</th>\n",
       "      <th>parto</th>\n",
       "      <th>peso</th>\n",
       "      <th>escmae2010</th>\n",
       "      <th>estcivmae</th>\n",
       "      <th>gestacao</th>\n",
       "      <th>semagestac</th>\n",
       "      <th>seriescmae</th>\n",
       "      <th>idadepai</th>\n",
       "      <th>tpapresent</th>\n",
       "      <th>sttrabpart</th>\n",
       "      <th>stcesparto</th>\n",
       "      <th>tpnascassi</th>\n",
       "      <th>consprenat</th>\n",
       "      <th>codestadnasc</th>\n",
       "      <th>estadonasc</th>\n",
       "      <th>anomaenasc</th>\n",
       "      <th>mesmaenasc</th>\n",
       "      <th>diamaenasc</th>\n",
       "      <th>date</th>\n",
       "      <th>day_calc_age</th>\n",
       "      <th>idademae</th>\n",
       "    </tr>\n",
       "  </thead>\n",
       "  <tbody>\n",
       "    <tr>\n",
       "      <th>0</th>\n",
       "      <td>19022016</td>\n",
       "      <td>110001</td>\n",
       "      <td>110001</td>\n",
       "      <td>18121987</td>\n",
       "      <td>2679477.0</td>\n",
       "      <td>1.0</td>\n",
       "      <td>1</td>\n",
       "      <td>1.0</td>\n",
       "      <td>3100</td>\n",
       "      <td>2.0</td>\n",
       "      <td>2.0</td>\n",
       "      <td>5.0</td>\n",
       "      <td>39.0</td>\n",
       "      <td>8.0</td>\n",
       "      <td>24.0</td>\n",
       "      <td>2.0</td>\n",
       "      <td>2.0</td>\n",
       "      <td>3.0</td>\n",
       "      <td>1.0</td>\n",
       "      <td>9.0</td>\n",
       "      <td>11</td>\n",
       "      <td>Acre</td>\n",
       "      <td>1987</td>\n",
       "      <td>12</td>\n",
       "      <td>18</td>\n",
       "      <td>1987-12-18</td>\n",
       "      <td>2021-07-12</td>\n",
       "      <td>33</td>\n",
       "    </tr>\n",
       "    <tr>\n",
       "      <th>1</th>\n",
       "      <td>22022016</td>\n",
       "      <td>110001</td>\n",
       "      <td>110001</td>\n",
       "      <td>17011998</td>\n",
       "      <td>NaN</td>\n",
       "      <td>5.0</td>\n",
       "      <td>4</td>\n",
       "      <td>1.0</td>\n",
       "      <td>1800</td>\n",
       "      <td>1.0</td>\n",
       "      <td>5.0</td>\n",
       "      <td>5.0</td>\n",
       "      <td>37.0</td>\n",
       "      <td>3.0</td>\n",
       "      <td>20.0</td>\n",
       "      <td>1.0</td>\n",
       "      <td>2.0</td>\n",
       "      <td>3.0</td>\n",
       "      <td>1.0</td>\n",
       "      <td>5.0</td>\n",
       "      <td>11</td>\n",
       "      <td>Acre</td>\n",
       "      <td>1998</td>\n",
       "      <td>1</td>\n",
       "      <td>17</td>\n",
       "      <td>1998-01-17</td>\n",
       "      <td>2021-07-12</td>\n",
       "      <td>23</td>\n",
       "    </tr>\n",
       "    <tr>\n",
       "      <th>2</th>\n",
       "      <td>13022016</td>\n",
       "      <td>110001</td>\n",
       "      <td>110001</td>\n",
       "      <td>15021986</td>\n",
       "      <td>2679477.0</td>\n",
       "      <td>5.0</td>\n",
       "      <td>1</td>\n",
       "      <td>1.0</td>\n",
       "      <td>3545</td>\n",
       "      <td>1.0</td>\n",
       "      <td>5.0</td>\n",
       "      <td>5.0</td>\n",
       "      <td>39.0</td>\n",
       "      <td>NaN</td>\n",
       "      <td>38.0</td>\n",
       "      <td>1.0</td>\n",
       "      <td>2.0</td>\n",
       "      <td>3.0</td>\n",
       "      <td>1.0</td>\n",
       "      <td>7.0</td>\n",
       "      <td>11</td>\n",
       "      <td>Acre</td>\n",
       "      <td>1986</td>\n",
       "      <td>2</td>\n",
       "      <td>15</td>\n",
       "      <td>1986-02-15</td>\n",
       "      <td>2021-07-12</td>\n",
       "      <td>35</td>\n",
       "    </tr>\n",
       "    <tr>\n",
       "      <th>3</th>\n",
       "      <td>5022016</td>\n",
       "      <td>110001</td>\n",
       "      <td>110001</td>\n",
       "      <td>7041986</td>\n",
       "      <td>2679477.0</td>\n",
       "      <td>5.0</td>\n",
       "      <td>1</td>\n",
       "      <td>1.0</td>\n",
       "      <td>3550</td>\n",
       "      <td>1.0</td>\n",
       "      <td>9.0</td>\n",
       "      <td>5.0</td>\n",
       "      <td>39.0</td>\n",
       "      <td>3.0</td>\n",
       "      <td>NaN</td>\n",
       "      <td>1.0</td>\n",
       "      <td>2.0</td>\n",
       "      <td>3.0</td>\n",
       "      <td>1.0</td>\n",
       "      <td>6.0</td>\n",
       "      <td>11</td>\n",
       "      <td>Acre</td>\n",
       "      <td>1986</td>\n",
       "      <td>4</td>\n",
       "      <td>7</td>\n",
       "      <td>1986-07-04</td>\n",
       "      <td>2021-07-12</td>\n",
       "      <td>35</td>\n",
       "    </tr>\n",
       "    <tr>\n",
       "      <th>4</th>\n",
       "      <td>25022016</td>\n",
       "      <td>110001</td>\n",
       "      <td>110001</td>\n",
       "      <td>18121989</td>\n",
       "      <td>2679477.0</td>\n",
       "      <td>1.0</td>\n",
       "      <td>1</td>\n",
       "      <td>1.0</td>\n",
       "      <td>2565</td>\n",
       "      <td>3.0</td>\n",
       "      <td>5.0</td>\n",
       "      <td>5.0</td>\n",
       "      <td>38.0</td>\n",
       "      <td>NaN</td>\n",
       "      <td>34.0</td>\n",
       "      <td>1.0</td>\n",
       "      <td>2.0</td>\n",
       "      <td>3.0</td>\n",
       "      <td>1.0</td>\n",
       "      <td>7.0</td>\n",
       "      <td>11</td>\n",
       "      <td>Acre</td>\n",
       "      <td>1989</td>\n",
       "      <td>12</td>\n",
       "      <td>18</td>\n",
       "      <td>1989-12-18</td>\n",
       "      <td>2021-07-12</td>\n",
       "      <td>31</td>\n",
       "    </tr>\n",
       "  </tbody>\n",
       "</table>\n",
       "</div>"
      ],
      "text/plain": [
       "     dtnasc  codmunnasc  codmunres  dtnascmae   codestab  racacormae  locnasc  parto  peso  escmae2010  estcivmae  gestacao  semagestac  seriescmae  idadepai  tpapresent  sttrabpart  stcesparto  tpnascassi  consprenat  codestadnasc estadonasc  anomaenasc  mesmaenasc  diamaenasc       date day_calc_age  idademae\n",
       "0  19022016      110001     110001   18121987  2679477.0         1.0        1    1.0  3100         2.0        2.0       5.0        39.0         8.0      24.0         2.0         2.0         3.0         1.0         9.0            11       Acre        1987          12          18 1987-12-18   2021-07-12        33\n",
       "1  22022016      110001     110001   17011998        NaN         5.0        4    1.0  1800         1.0        5.0       5.0        37.0         3.0      20.0         1.0         2.0         3.0         1.0         5.0            11       Acre        1998           1          17 1998-01-17   2021-07-12        23\n",
       "2  13022016      110001     110001   15021986  2679477.0         5.0        1    1.0  3545         1.0        5.0       5.0        39.0         NaN      38.0         1.0         2.0         3.0         1.0         7.0            11       Acre        1986           2          15 1986-02-15   2021-07-12        35\n",
       "3   5022016      110001     110001    7041986  2679477.0         5.0        1    1.0  3550         1.0        9.0       5.0        39.0         3.0       NaN         1.0         2.0         3.0         1.0         6.0            11       Acre        1986           4           7 1986-07-04   2021-07-12        35\n",
       "4  25022016      110001     110001   18121989  2679477.0         1.0        1    1.0  2565         3.0        5.0       5.0        38.0         NaN      34.0         1.0         2.0         3.0         1.0         7.0            11       Acre        1989          12          18 1989-12-18   2021-07-12        31"
      ]
     },
     "execution_count": 620,
     "metadata": {},
     "output_type": "execute_result"
    }
   ],
   "source": [
    "df5.head()"
   ]
  },
  {
   "cell_type": "code",
   "execution_count": 621,
   "id": "e77623cd",
   "metadata": {
    "ExecuteTime": {
     "end_time": "2023-01-13T01:26:18.100896Z",
     "start_time": "2023-01-13T01:26:18.034937Z"
    }
   },
   "outputs": [
    {
     "data": {
      "text/plain": [
       "array([2679477.,      nan, 2516500., ..., 7078730.,   10677., 3333333.])"
      ]
     },
     "execution_count": 621,
     "metadata": {},
     "output_type": "execute_result"
    }
   ],
   "source": [
    "df5['codestab'].unique()"
   ]
  },
  {
   "cell_type": "code",
   "execution_count": 622,
   "id": "91c4ff06",
   "metadata": {
    "ExecuteTime": {
     "end_time": "2023-01-13T01:27:18.325243Z",
     "start_time": "2023-01-13T01:27:18.009349Z"
    }
   },
   "outputs": [],
   "source": [
    "df5 = df5[df5['codestab'].notna()]"
   ]
  },
  {
   "cell_type": "code",
   "execution_count": 628,
   "id": "21bda263",
   "metadata": {
    "ExecuteTime": {
     "end_time": "2023-01-13T01:30:06.315187Z",
     "start_time": "2023-01-13T01:30:06.191000Z"
    }
   },
   "outputs": [],
   "source": [
    "df5['codestab'] = df5['codestab'].astype('int64')"
   ]
  },
  {
   "cell_type": "code",
   "execution_count": 631,
   "id": "9a84595a",
   "metadata": {
    "ExecuteTime": {
     "end_time": "2023-01-13T01:30:45.541378Z",
     "start_time": "2023-01-13T01:30:45.215582Z"
    }
   },
   "outputs": [],
   "source": [
    "aux = df5[df5['estadonasc'] == 'Acre']"
   ]
  },
  {
   "cell_type": "code",
   "execution_count": 643,
   "id": "012b42e5",
   "metadata": {
    "ExecuteTime": {
     "end_time": "2023-01-13T01:39:19.812859Z",
     "start_time": "2023-01-13T01:39:19.290897Z"
    }
   },
   "outputs": [],
   "source": [
    "df = df5.groupby('estadonasc')['codestab'].nunique()"
   ]
  },
  {
   "cell_type": "code",
   "execution_count": 645,
   "id": "0c5ff9d0",
   "metadata": {
    "ExecuteTime": {
     "end_time": "2023-01-13T01:39:56.765614Z",
     "start_time": "2023-01-13T01:39:56.746625Z"
    }
   },
   "outputs": [
    {
     "data": {
      "text/plain": [
       "estadonasc\n",
       "São Paulo              744\n",
       "Espírito Santo         521\n",
       "Rio Grande do Norte    503\n",
       "Mato Grosso            390\n",
       "Santa Catarina         307\n",
       "Rondonia               301\n",
       "Goiás                  277\n",
       "Alagoas                270\n",
       "Pernambuco             262\n",
       "Minas Gerais           236\n",
       "Ceará                  223\n",
       "Mato Grosso do Sul     178\n",
       "Paraná                 162\n",
       "Bahia                  128\n",
       "Distrito Federal       116\n",
       "Maranhão               110\n",
       "Amazona                103\n",
       "Rio de Janeiro          89\n",
       "Paraíba                 88\n",
       "Acre                    75\n",
       "Tocantins               73\n",
       "Piauí                   61\n",
       "Sergipe                 45\n",
       "Rio Grande do Sul       31\n",
       "Roraima                 24\n",
       "Amapá                   24\n",
       "Pará                    19\n",
       "Name: codestab, dtype: int64"
      ]
     },
     "execution_count": 645,
     "metadata": {},
     "output_type": "execute_result"
    }
   ],
   "source": [
    "df.sort_values(ascending= False)"
   ]
  },
  {
   "cell_type": "markdown",
   "id": "d11647ce",
   "metadata": {},
   "source": [
    "## 2.5 Question 5"
   ]
  },
  {
   "cell_type": "code",
   "execution_count": 646,
   "id": "6ad2d3d6",
   "metadata": {
    "ExecuteTime": {
     "end_time": "2023-01-13T01:42:31.115973Z",
     "start_time": "2023-01-13T01:42:30.914175Z"
    }
   },
   "outputs": [],
   "source": [
    "df6 = df5.copy()"
   ]
  },
  {
   "cell_type": "markdown",
   "id": "129d1c14",
   "metadata": {},
   "source": [
    "5. In relation to UF of birth:\n",
    "    \n",
    "a) How many children were born in a hospital or at home in Bahia?\n",
    "\n",
    "b) Show the distribution of births per month in Bahia\n"
   ]
  },
  {
   "cell_type": "markdown",
   "id": "aceb5087",
   "metadata": {},
   "source": [
    "### 2.5.1 A) How many children were born in a hospital or at home in Bahia?"
   ]
  },
  {
   "cell_type": "code",
   "execution_count": 660,
   "id": "7ef5accc",
   "metadata": {
    "ExecuteTime": {
     "end_time": "2023-01-13T01:50:53.745597Z",
     "start_time": "2023-01-13T01:50:53.540808Z"
    }
   },
   "outputs": [],
   "source": [
    "aux1 = df6[df6['estadonasc'] == 'Bahia']"
   ]
  },
  {
   "cell_type": "code",
   "execution_count": 661,
   "id": "4fb12ed4",
   "metadata": {
    "ExecuteTime": {
     "end_time": "2023-01-13T01:51:05.574651Z",
     "start_time": "2023-01-13T01:51:05.565656Z"
    }
   },
   "outputs": [
    {
     "data": {
      "text/plain": [
       "49092"
      ]
     },
     "execution_count": 661,
     "metadata": {},
     "output_type": "execute_result"
    }
   ],
   "source": [
    "len(aux1)"
   ]
  },
  {
   "cell_type": "code",
   "execution_count": 662,
   "id": "2acd60b5",
   "metadata": {
    "ExecuteTime": {
     "end_time": "2023-01-13T01:51:42.427271Z",
     "start_time": "2023-01-13T01:51:42.406284Z"
    }
   },
   "outputs": [],
   "source": [
    "aux2 = aux1[(aux1['locnasc'] == 1) | (aux1['locnasc'] == 3)]"
   ]
  },
  {
   "cell_type": "code",
   "execution_count": 664,
   "id": "3315784c",
   "metadata": {
    "ExecuteTime": {
     "end_time": "2023-01-13T01:52:00.659083Z",
     "start_time": "2023-01-13T01:52:00.653086Z"
    }
   },
   "outputs": [
    {
     "name": "stdout",
     "output_type": "stream",
     "text": [
      "47861\n"
     ]
    }
   ],
   "source": [
    "print(len(aux2))"
   ]
  },
  {
   "cell_type": "markdown",
   "id": "9dce07c7",
   "metadata": {},
   "source": [
    "### 2.5.2 B) Show the distribution of births per month in Bahia"
   ]
  },
  {
   "cell_type": "code",
   "execution_count": 665,
   "id": "545ab7a2",
   "metadata": {
    "ExecuteTime": {
     "end_time": "2023-01-13T01:55:08.809425Z",
     "start_time": "2023-01-13T01:55:08.730315Z"
    }
   },
   "outputs": [],
   "source": [
    "aux1['mesnasc'] = aux1['dtnascmae'].astype(str).str[2:-4].astype(int)"
   ]
  },
  {
   "cell_type": "code",
   "execution_count": 670,
   "id": "3086dcb2",
   "metadata": {
    "ExecuteTime": {
     "end_time": "2023-01-13T01:56:06.608125Z",
     "start_time": "2023-01-13T01:56:06.596131Z"
    }
   },
   "outputs": [
    {
     "data": {
      "text/plain": [
       "array([ 3, 11, 12,  8,  1,  0,  6,  5,  2,  9,  7,  4, 10])"
      ]
     },
     "execution_count": 670,
     "metadata": {},
     "output_type": "execute_result"
    }
   ],
   "source": [
    "aux1['mesnasc'].unique()"
   ]
  },
  {
   "cell_type": "code",
   "execution_count": 672,
   "id": "4cb04a30",
   "metadata": {
    "ExecuteTime": {
     "end_time": "2023-01-13T01:56:58.559558Z",
     "start_time": "2023-01-13T01:56:58.537571Z"
    }
   },
   "outputs": [],
   "source": [
    "aux1['mesnasc'] = aux1['mesnasc'].replace([0], [10])"
   ]
  },
  {
   "cell_type": "code",
   "execution_count": 674,
   "id": "68247683",
   "metadata": {
    "ExecuteTime": {
     "end_time": "2023-01-13T02:03:27.303780Z",
     "start_time": "2023-01-13T02:03:26.726907Z"
    }
   },
   "outputs": [
    {
     "data": {
      "text/plain": [
       "<AxesSubplot: xlabel='mesnasc', ylabel='count'>"
      ]
     },
     "execution_count": 674,
     "metadata": {},
     "output_type": "execute_result"
    },
    {
     "data": {
      "image/png": "[encoded data removed]",
      "text/plain": [
       "<Figure size 1800x864 with 1 Axes>"
      ]
     },
     "metadata": {},
     "output_type": "display_data"
    }
   ],
   "source": [
    "sns.countplot(x='mesnasc', data=aux1, order = aux1['mesnasc'].value_counts().index)"
   ]
  },
  {
   "cell_type": "markdown",
   "id": "258cbd28",
   "metadata": {},
   "source": [
    "## 2.6 Question 6"
   ]
  },
  {
   "cell_type": "code",
   "execution_count": 676,
   "id": "b5244769",
   "metadata": {
    "ExecuteTime": {
     "end_time": "2023-01-13T02:37:57.069948Z",
     "start_time": "2023-01-13T02:37:56.878045Z"
    }
   },
   "outputs": [],
   "source": [
    "df7 = df6.copy()"
   ]
  },
  {
   "cell_type": "markdown",
   "id": "3c2c75b0",
   "metadata": {
    "ExecuteTime": {
     "end_time": "2023-01-13T02:04:39.516480Z",
     "start_time": "2023-01-13T02:04:39.502487Z"
    }
   },
   "source": [
    "In relation to the mothers of the Born:\n",
    "    \n",
    "a) Show the distribution of schooling of single, black and brown mothers for each UF.\n",
    "\n",
    "b) What percentage of married women have had a vaginal birth at less than 37 weeks' gestation? And in relation to women who had\n",
    "Cesarean delivery, what percentage??\n"
   ]
  },
  {
   "cell_type": "markdown",
   "id": "2f200702",
   "metadata": {},
   "source": [
    "### 2.6.1 A) Show the distribution of schooling of single, black and brown mothers for each UF."
   ]
  },
  {
   "cell_type": "markdown",
   "id": "626f2550",
   "metadata": {},
   "source": [
    "#### Acre"
   ]
  },
  {
   "cell_type": "code",
   "execution_count": 716,
   "id": "be8c1178",
   "metadata": {
    "ExecuteTime": {
     "end_time": "2023-01-13T03:20:38.716302Z",
     "start_time": "2023-01-13T03:20:38.020196Z"
    }
   },
   "outputs": [
    {
     "data": {
      "image/png": "[encoded data removed]",
      "text/plain": [
       "<Figure size 1800x864 with 1 Axes>"
      ]
     },
     "metadata": {},
     "output_type": "display_data"
    }
   ],
   "source": [
    "aux = df7[(df7['estadonasc'] == 'Acre') & (df7['estcivmae'] == 1)]\n",
    "\n",
    "aux1 = aux[(aux['racacormae'] == 2) | (aux['racacormae'] == 4)]\n",
    "\n",
    "sns.countplot(x='escmae2010', data=aux1, order = aux1['escmae2010'].value_counts().index);"
   ]
  },
  {
   "cell_type": "markdown",
   "id": "ed66b30b",
   "metadata": {},
   "source": [
    "#### Alagoas"
   ]
  },
  {
   "cell_type": "code",
   "execution_count": 717,
   "id": "f08f5317",
   "metadata": {
    "ExecuteTime": {
     "end_time": "2023-01-13T03:21:09.674960Z",
     "start_time": "2023-01-13T03:21:07.698932Z"
    }
   },
   "outputs": [
    {
     "data": {
      "image/png": "[encoded data removed]",
      "text/plain": [
       "<Figure size 1800x864 with 1 Axes>"
      ]
     },
     "metadata": {},
     "output_type": "display_data"
    }
   ],
   "source": [
    "aux = df7[(df7['estadonasc'] == 'Alagoas') & (df7['estcivmae'] == 1)]\n",
    "\n",
    "aux1 = aux[(aux['racacormae'] == 2) | (aux['racacormae'] == 4)]\n",
    "\n",
    "sns.countplot(x='escmae2010', data=aux1, order = aux1['escmae2010'].value_counts().index);"
   ]
  },
  {
   "cell_type": "markdown",
   "id": "a963962e",
   "metadata": {},
   "source": [
    "#### Amapá"
   ]
  },
  {
   "cell_type": "code",
   "execution_count": 718,
   "id": "0cd09f52",
   "metadata": {
    "ExecuteTime": {
     "end_time": "2023-01-13T03:21:18.480831Z",
     "start_time": "2023-01-13T03:21:17.938712Z"
    }
   },
   "outputs": [
    {
     "data": {
      "image/png": "[encoded data removed]",
      "text/plain": [
       "<Figure size 1800x864 with 1 Axes>"
      ]
     },
     "metadata": {},
     "output_type": "display_data"
    }
   ],
   "source": [
    "aux = df7[(df7['estadonasc'] == 'Amapá') & (df7['estcivmae'] == 1)]\n",
    "\n",
    "aux1 = aux[(aux['racacormae'] == 2) | (aux['racacormae'] == 4)]\n",
    "\n",
    "sns.countplot(x='escmae2010', data=aux1, order = aux1['escmae2010'].value_counts().index);"
   ]
  },
  {
   "cell_type": "markdown",
   "id": "7f48c417",
   "metadata": {
    "heading_collapsed": true
   },
   "source": [
    "#### Amazonas"
   ]
  },
  {
   "cell_type": "code",
   "execution_count": 691,
   "id": "8b114fee",
   "metadata": {
    "ExecuteTime": {
     "end_time": "2023-01-13T03:01:39.349245Z",
     "start_time": "2023-01-13T03:01:39.105279Z"
    },
    "hidden": true
   },
   "outputs": [
    {
     "ename": "ValueError",
     "evalue": "min() arg is an empty sequence",
     "output_type": "error",
     "traceback": [
      "\u001b[1;31m---------------------------------------------------------------------------\u001b[0m",
      "\u001b[1;31mValueError\u001b[0m                                Traceback (most recent call last)",
      "Input \u001b[1;32mIn [691]\u001b[0m, in \u001b[0;36m<cell line: 5>\u001b[1;34m()\u001b[0m\n\u001b[0;32m      1\u001b[0m aux \u001b[38;5;241m=\u001b[39m df7[(df7[\u001b[38;5;124m'\u001b[39m\u001b[38;5;124mestadonasc\u001b[39m\u001b[38;5;124m'\u001b[39m] \u001b[38;5;241m==\u001b[39m \u001b[38;5;124m'\u001b[39m\u001b[38;5;124mAmazonas\u001b[39m\u001b[38;5;124m'\u001b[39m) \u001b[38;5;241m&\u001b[39m (df7[\u001b[38;5;124m'\u001b[39m\u001b[38;5;124mestcivmae\u001b[39m\u001b[38;5;124m'\u001b[39m] \u001b[38;5;241m==\u001b[39m \u001b[38;5;241m1\u001b[39m)]\n\u001b[0;32m      3\u001b[0m aux1 \u001b[38;5;241m=\u001b[39m aux[(aux[\u001b[38;5;124m'\u001b[39m\u001b[38;5;124mracacormae\u001b[39m\u001b[38;5;124m'\u001b[39m] \u001b[38;5;241m==\u001b[39m \u001b[38;5;241m2\u001b[39m) \u001b[38;5;241m|\u001b[39m (aux[\u001b[38;5;124m'\u001b[39m\u001b[38;5;124mracacormae\u001b[39m\u001b[38;5;124m'\u001b[39m] \u001b[38;5;241m==\u001b[39m \u001b[38;5;241m4\u001b[39m)]\n\u001b[1;32m----> 5\u001b[0m \u001b[43msns\u001b[49m\u001b[38;5;241;43m.\u001b[39;49m\u001b[43mcountplot\u001b[49m\u001b[43m(\u001b[49m\u001b[43mx\u001b[49m\u001b[38;5;241;43m=\u001b[39;49m\u001b[38;5;124;43m'\u001b[39;49m\u001b[38;5;124;43mracacormae\u001b[39;49m\u001b[38;5;124;43m'\u001b[39;49m\u001b[43m,\u001b[49m\u001b[43m \u001b[49m\u001b[43mdata\u001b[49m\u001b[38;5;241;43m=\u001b[39;49m\u001b[43maux1\u001b[49m\u001b[43m,\u001b[49m\u001b[43m \u001b[49m\u001b[43morder\u001b[49m\u001b[43m \u001b[49m\u001b[38;5;241;43m=\u001b[39;49m\u001b[43m \u001b[49m\u001b[43maux1\u001b[49m\u001b[43m[\u001b[49m\u001b[38;5;124;43m'\u001b[39;49m\u001b[38;5;124;43mracacormae\u001b[39;49m\u001b[38;5;124;43m'\u001b[39;49m\u001b[43m]\u001b[49m\u001b[38;5;241;43m.\u001b[39;49m\u001b[43mvalue_counts\u001b[49m\u001b[43m(\u001b[49m\u001b[43m)\u001b[49m\u001b[38;5;241;43m.\u001b[39;49m\u001b[43mindex\u001b[49m\u001b[43m)\u001b[49m\n",
      "File \u001b[1;32m~\\AppData\\Local\\Programs\\Python\\Python310\\lib\\site-packages\\seaborn\\categorical.py:2939\u001b[0m, in \u001b[0;36mcountplot\u001b[1;34m(data, x, y, hue, order, hue_order, orient, color, palette, saturation, width, dodge, ax, **kwargs)\u001b[0m\n\u001b[0;32m   2936\u001b[0m \u001b[38;5;28;01melif\u001b[39;00m x \u001b[38;5;129;01mis\u001b[39;00m \u001b[38;5;129;01mnot\u001b[39;00m \u001b[38;5;28;01mNone\u001b[39;00m \u001b[38;5;129;01mand\u001b[39;00m y \u001b[38;5;129;01mis\u001b[39;00m \u001b[38;5;129;01mnot\u001b[39;00m \u001b[38;5;28;01mNone\u001b[39;00m:\n\u001b[0;32m   2937\u001b[0m     \u001b[38;5;28;01mraise\u001b[39;00m \u001b[38;5;167;01mValueError\u001b[39;00m(\u001b[38;5;124m\"\u001b[39m\u001b[38;5;124mCannot pass values for both `x` and `y`\u001b[39m\u001b[38;5;124m\"\u001b[39m)\n\u001b[1;32m-> 2939\u001b[0m plotter \u001b[38;5;241m=\u001b[39m \u001b[43m_CountPlotter\u001b[49m\u001b[43m(\u001b[49m\n\u001b[0;32m   2940\u001b[0m \u001b[43m    \u001b[49m\u001b[43mx\u001b[49m\u001b[43m,\u001b[49m\u001b[43m \u001b[49m\u001b[43my\u001b[49m\u001b[43m,\u001b[49m\u001b[43m \u001b[49m\u001b[43mhue\u001b[49m\u001b[43m,\u001b[49m\u001b[43m \u001b[49m\u001b[43mdata\u001b[49m\u001b[43m,\u001b[49m\u001b[43m \u001b[49m\u001b[43morder\u001b[49m\u001b[43m,\u001b[49m\u001b[43m \u001b[49m\u001b[43mhue_order\u001b[49m\u001b[43m,\u001b[49m\n\u001b[0;32m   2941\u001b[0m \u001b[43m    \u001b[49m\u001b[43mestimator\u001b[49m\u001b[43m,\u001b[49m\u001b[43m \u001b[49m\u001b[43merrorbar\u001b[49m\u001b[43m,\u001b[49m\u001b[43m \u001b[49m\u001b[43mn_boot\u001b[49m\u001b[43m,\u001b[49m\u001b[43m \u001b[49m\u001b[43munits\u001b[49m\u001b[43m,\u001b[49m\u001b[43m \u001b[49m\u001b[43mseed\u001b[49m\u001b[43m,\u001b[49m\n\u001b[0;32m   2942\u001b[0m \u001b[43m    \u001b[49m\u001b[43morient\u001b[49m\u001b[43m,\u001b[49m\u001b[43m \u001b[49m\u001b[43mcolor\u001b[49m\u001b[43m,\u001b[49m\u001b[43m \u001b[49m\u001b[43mpalette\u001b[49m\u001b[43m,\u001b[49m\u001b[43m \u001b[49m\u001b[43msaturation\u001b[49m\u001b[43m,\u001b[49m\n\u001b[0;32m   2943\u001b[0m \u001b[43m    \u001b[49m\u001b[43mwidth\u001b[49m\u001b[43m,\u001b[49m\u001b[43m \u001b[49m\u001b[43merrcolor\u001b[49m\u001b[43m,\u001b[49m\u001b[43m \u001b[49m\u001b[43merrwidth\u001b[49m\u001b[43m,\u001b[49m\u001b[43m \u001b[49m\u001b[43mcapsize\u001b[49m\u001b[43m,\u001b[49m\u001b[43m \u001b[49m\u001b[43mdodge\u001b[49m\n\u001b[0;32m   2944\u001b[0m \u001b[43m\u001b[49m\u001b[43m)\u001b[49m\n\u001b[0;32m   2946\u001b[0m plotter\u001b[38;5;241m.\u001b[39mvalue_label \u001b[38;5;241m=\u001b[39m \u001b[38;5;124m\"\u001b[39m\u001b[38;5;124mcount\u001b[39m\u001b[38;5;124m\"\u001b[39m\n\u001b[0;32m   2948\u001b[0m \u001b[38;5;28;01mif\u001b[39;00m ax \u001b[38;5;129;01mis\u001b[39;00m \u001b[38;5;28;01mNone\u001b[39;00m:\n",
      "File \u001b[1;32m~\\AppData\\Local\\Programs\\Python\\Python310\\lib\\site-packages\\seaborn\\categorical.py:1532\u001b[0m, in \u001b[0;36m_BarPlotter.__init__\u001b[1;34m(self, x, y, hue, data, order, hue_order, estimator, errorbar, n_boot, units, seed, orient, color, palette, saturation, width, errcolor, errwidth, capsize, dodge)\u001b[0m\n\u001b[0;32m   1529\u001b[0m \u001b[38;5;124;03m\"\"\"Initialize the plotter.\"\"\"\u001b[39;00m\n\u001b[0;32m   1530\u001b[0m \u001b[38;5;28mself\u001b[39m\u001b[38;5;241m.\u001b[39mestablish_variables(x, y, hue, data, orient,\n\u001b[0;32m   1531\u001b[0m                          order, hue_order, units)\n\u001b[1;32m-> 1532\u001b[0m \u001b[38;5;28;43mself\u001b[39;49m\u001b[38;5;241;43m.\u001b[39;49m\u001b[43mestablish_colors\u001b[49m\u001b[43m(\u001b[49m\u001b[43mcolor\u001b[49m\u001b[43m,\u001b[49m\u001b[43m \u001b[49m\u001b[43mpalette\u001b[49m\u001b[43m,\u001b[49m\u001b[43m \u001b[49m\u001b[43msaturation\u001b[49m\u001b[43m)\u001b[49m\n\u001b[0;32m   1533\u001b[0m \u001b[38;5;28mself\u001b[39m\u001b[38;5;241m.\u001b[39mestimate_statistic(estimator, errorbar, n_boot, seed)\n\u001b[0;32m   1535\u001b[0m \u001b[38;5;28mself\u001b[39m\u001b[38;5;241m.\u001b[39mdodge \u001b[38;5;241m=\u001b[39m dodge\n",
      "File \u001b[1;32m~\\AppData\\Local\\Programs\\Python\\Python310\\lib\\site-packages\\seaborn\\categorical.py:707\u001b[0m, in \u001b[0;36m_CategoricalPlotter.establish_colors\u001b[1;34m(self, color, palette, saturation)\u001b[0m\n\u001b[0;32m    705\u001b[0m \u001b[38;5;66;03m# Determine the gray color to use for the lines framing the plot\u001b[39;00m\n\u001b[0;32m    706\u001b[0m light_vals \u001b[38;5;241m=\u001b[39m [rgb_to_hls(\u001b[38;5;241m*\u001b[39mc)[\u001b[38;5;241m1\u001b[39m] \u001b[38;5;28;01mfor\u001b[39;00m c \u001b[38;5;129;01min\u001b[39;00m rgb_colors]\n\u001b[1;32m--> 707\u001b[0m lum \u001b[38;5;241m=\u001b[39m \u001b[38;5;28;43mmin\u001b[39;49m\u001b[43m(\u001b[49m\u001b[43mlight_vals\u001b[49m\u001b[43m)\u001b[49m \u001b[38;5;241m*\u001b[39m \u001b[38;5;241m.6\u001b[39m\n\u001b[0;32m    708\u001b[0m gray \u001b[38;5;241m=\u001b[39m mpl\u001b[38;5;241m.\u001b[39mcolors\u001b[38;5;241m.\u001b[39mrgb2hex((lum, lum, lum))\n\u001b[0;32m    710\u001b[0m \u001b[38;5;66;03m# Assign object attributes\u001b[39;00m\n",
      "\u001b[1;31mValueError\u001b[0m: min() arg is an empty sequence"
     ]
    }
   ],
   "source": [
    "aux = df7[(df7['estadonasc'] == 'Amazonas') & (df7['estcivmae'] == 1)]\n",
    "\n",
    "aux1 = aux[(aux['racacormae'] == 2) | (aux['racacormae'] == 4)]\n",
    "\n",
    "sns.countplot(x='escmae2010', data=aux1, order = aux1['escmae2010'].value_counts().index);"
   ]
  },
  {
   "cell_type": "markdown",
   "id": "2130732a",
   "metadata": {
    "heading_collapsed": true
   },
   "source": [
    "#### Bahia"
   ]
  },
  {
   "cell_type": "code",
   "execution_count": 719,
   "id": "23107ac7",
   "metadata": {
    "ExecuteTime": {
     "end_time": "2023-01-13T03:21:30.968650Z",
     "start_time": "2023-01-13T03:21:30.090399Z"
    },
    "hidden": true
   },
   "outputs": [
    {
     "data": {
      "image/png": "[encoded data removed]",
      "text/plain": [
       "<Figure size 1800x864 with 1 Axes>"
      ]
     },
     "metadata": {},
     "output_type": "display_data"
    }
   ],
   "source": [
    "aux = df7[(df7['estadonasc'] == 'Bahia') & (df7['estcivmae'] == 1)]\n",
    "\n",
    "aux1 = aux[(aux['racacormae'] == 2) | (aux['racacormae'] == 4)]\n",
    "\n",
    "sns.countplot(x='escmae2010', data=aux1, order = aux1['escmae2010'].value_counts().index);"
   ]
  },
  {
   "cell_type": "markdown",
   "id": "cbd42b30",
   "metadata": {
    "heading_collapsed": true
   },
   "source": [
    "#### Ceará"
   ]
  },
  {
   "cell_type": "code",
   "execution_count": 720,
   "id": "5ecb38a9",
   "metadata": {
    "ExecuteTime": {
     "end_time": "2023-01-13T03:21:38.624457Z",
     "start_time": "2023-01-13T03:21:36.801833Z"
    },
    "hidden": true
   },
   "outputs": [
    {
     "data": {
      "image/png": "[encoded data removed]",
      "text/plain": [
       "<Figure size 1800x864 with 1 Axes>"
      ]
     },
     "metadata": {},
     "output_type": "display_data"
    }
   ],
   "source": [
    "aux = df7[(df7['estadonasc'] == 'Ceará') & (df7['estcivmae'] == 1)]\n",
    "\n",
    "aux1 = aux[(aux['racacormae'] == 2) | (aux['racacormae'] == 4)]\n",
    "\n",
    "sns.countplot(x='escmae2010', data=aux1, order = aux1['escmae2010'].value_counts().index);"
   ]
  },
  {
   "cell_type": "markdown",
   "id": "d29fed71",
   "metadata": {
    "heading_collapsed": true
   },
   "source": [
    "#### Distrito Federal"
   ]
  },
  {
   "cell_type": "code",
   "execution_count": 721,
   "id": "c5d05956",
   "metadata": {
    "ExecuteTime": {
     "end_time": "2023-01-13T03:21:43.462809Z",
     "start_time": "2023-01-13T03:21:42.489289Z"
    },
    "hidden": true
   },
   "outputs": [
    {
     "data": {
      "image/png": "[encoded data removed]",
      "text/plain": [
       "<Figure size 1800x864 with 1 Axes>"
      ]
     },
     "metadata": {},
     "output_type": "display_data"
    }
   ],
   "source": [
    "aux = df7[(df7['estadonasc'] == 'Distrito Federal') & (df7['estcivmae'] == 1)]\n",
    "\n",
    "aux1 = aux[(aux['racacormae'] == 2) | (aux['racacormae'] == 4)]\n",
    "\n",
    "sns.countplot(x='escmae2010', data=aux1, order = aux1['escmae2010'].value_counts().index);"
   ]
  },
  {
   "cell_type": "markdown",
   "id": "9d815b05",
   "metadata": {},
   "source": [
    "#### Espirito Santo"
   ]
  },
  {
   "cell_type": "code",
   "execution_count": 722,
   "id": "00e3e011",
   "metadata": {
    "ExecuteTime": {
     "end_time": "2023-01-13T03:21:51.318509Z",
     "start_time": "2023-01-13T03:21:48.481375Z"
    }
   },
   "outputs": [
    {
     "data": {
      "image/png": "[encoded data removed]",
      "text/plain": [
       "<Figure size 1800x864 with 1 Axes>"
      ]
     },
     "metadata": {},
     "output_type": "display_data"
    }
   ],
   "source": [
    "aux = df7[(df7['estadonasc'] == 'Espírito Santo') & (df7['estcivmae'] == 1)]\n",
    "\n",
    "aux1 = aux[(aux['racacormae'] == 2) | (aux['racacormae'] == 4)]\n",
    "\n",
    "sns.countplot(x='escmae2010', data=aux1, order = aux1['escmae2010'].value_counts().index);"
   ]
  },
  {
   "cell_type": "markdown",
   "id": "6d095ed2",
   "metadata": {},
   "source": [
    "#### Goiás"
   ]
  },
  {
   "cell_type": "code",
   "execution_count": 723,
   "id": "5d291bf0",
   "metadata": {
    "ExecuteTime": {
     "end_time": "2023-01-13T03:21:56.955929Z",
     "start_time": "2023-01-13T03:21:55.937405Z"
    }
   },
   "outputs": [
    {
     "data": {
      "image/png": "[encoded data removed]",
      "text/plain": [
       "<Figure size 1800x864 with 1 Axes>"
      ]
     },
     "metadata": {},
     "output_type": "display_data"
    }
   ],
   "source": [
    "aux = df7[(df7['estadonasc'] == 'Goiás') & (df7['estcivmae'] == 1)]\n",
    "\n",
    "aux1 = aux[(aux['racacormae'] == 2) | (aux['racacormae'] == 4)]\n",
    "\n",
    "sns.countplot(x='escmae2010', data=aux1, order = aux1['escmae2010'].value_counts().index);"
   ]
  },
  {
   "cell_type": "markdown",
   "id": "59b0b169",
   "metadata": {},
   "source": [
    "#### Maranhão"
   ]
  },
  {
   "cell_type": "code",
   "execution_count": 724,
   "id": "5a36eb2e",
   "metadata": {
    "ExecuteTime": {
     "end_time": "2023-01-13T03:22:01.860278Z",
     "start_time": "2023-01-13T03:22:00.984463Z"
    }
   },
   "outputs": [
    {
     "data": {
      "image/png": "[encoded data removed]",
      "text/plain": [
       "<Figure size 1800x864 with 1 Axes>"
      ]
     },
     "metadata": {},
     "output_type": "display_data"
    }
   ],
   "source": [
    "aux = df7[(df7['estadonasc'] == 'Maranhão') & (df7['estcivmae'] == 1)]\n",
    "\n",
    "aux1 = aux[(aux['racacormae'] == 2) | (aux['racacormae'] == 4)]\n",
    "\n",
    "sns.countplot(x='escmae2010', data=aux1, order = aux1['escmae2010'].value_counts().index);"
   ]
  },
  {
   "cell_type": "markdown",
   "id": "25ac5580",
   "metadata": {},
   "source": [
    "#### Mato Grosso"
   ]
  },
  {
   "cell_type": "code",
   "execution_count": 725,
   "id": "e32944e8",
   "metadata": {
    "ExecuteTime": {
     "end_time": "2023-01-13T03:22:06.856830Z",
     "start_time": "2023-01-13T03:22:05.881367Z"
    }
   },
   "outputs": [
    {
     "data": {
      "image/png": "[encoded data removed]",
      "text/plain": [
       "<Figure size 1800x864 with 1 Axes>"
      ]
     },
     "metadata": {},
     "output_type": "display_data"
    }
   ],
   "source": [
    "aux = df7[(df7['estadonasc'] == 'Mato Grosso') & (df7['estcivmae'] == 1)]\n",
    "\n",
    "aux1 = aux[(aux['racacormae'] == 2) | (aux['racacormae'] == 4)]\n",
    "\n",
    "sns.countplot(x='escmae2010', data=aux1, order = aux1['escmae2010'].value_counts().index);"
   ]
  },
  {
   "cell_type": "markdown",
   "id": "f4a5bb17",
   "metadata": {},
   "source": [
    "#### Mato Grosso do Sul"
   ]
  },
  {
   "cell_type": "code",
   "execution_count": 726,
   "id": "f0ff54e7",
   "metadata": {
    "ExecuteTime": {
     "end_time": "2023-01-13T03:22:12.308066Z",
     "start_time": "2023-01-13T03:22:11.650190Z"
    }
   },
   "outputs": [
    {
     "data": {
      "image/png": "[encoded data removed]",
      "text/plain": [
       "<Figure size 1800x864 with 1 Axes>"
      ]
     },
     "metadata": {},
     "output_type": "display_data"
    }
   ],
   "source": [
    "aux = df7[(df7['estadonasc'] == 'Mato Grosso do Sul') & (df7['estcivmae'] == 1)]\n",
    "\n",
    "aux1 = aux[(aux['racacormae'] == 2) | (aux['racacormae'] == 4)]\n",
    "\n",
    "sns.countplot(x='escmae2010', data=aux1, order = aux1['escmae2010'].value_counts().index);"
   ]
  },
  {
   "cell_type": "markdown",
   "id": "c5d86e25",
   "metadata": {},
   "source": [
    "#### Pará"
   ]
  },
  {
   "cell_type": "code",
   "execution_count": 727,
   "id": "233fddce",
   "metadata": {
    "ExecuteTime": {
     "end_time": "2023-01-13T03:22:17.110516Z",
     "start_time": "2023-01-13T03:22:16.521261Z"
    }
   },
   "outputs": [
    {
     "data": {
      "image/png": "[encoded data removed]",
      "text/plain": [
       "<Figure size 1800x864 with 1 Axes>"
      ]
     },
     "metadata": {},
     "output_type": "display_data"
    }
   ],
   "source": [
    "aux = df7[(df7['estadonasc'] == 'Pará') & (df7['estcivmae'] == 1)]\n",
    "\n",
    "aux1 = aux[(aux['racacormae'] == 2) | (aux['racacormae'] == 4)]\n",
    "\n",
    "sns.countplot(x='escmae2010', data=aux1, order = aux1['escmae2010'].value_counts().index);"
   ]
  },
  {
   "cell_type": "markdown",
   "id": "32864bc5",
   "metadata": {},
   "source": [
    "#### Paraíba"
   ]
  },
  {
   "cell_type": "code",
   "execution_count": 728,
   "id": "a8566964",
   "metadata": {
    "ExecuteTime": {
     "end_time": "2023-01-13T03:22:25.312747Z",
     "start_time": "2023-01-13T03:22:24.168992Z"
    }
   },
   "outputs": [
    {
     "data": {
      "image/png": "[encoded data removed]",
      "text/plain": [
       "<Figure size 1800x864 with 1 Axes>"
      ]
     },
     "metadata": {},
     "output_type": "display_data"
    }
   ],
   "source": [
    "aux = df7[(df7['estadonasc'] == 'Paraíba') & (df7['estcivmae'] == 1)]\n",
    "\n",
    "aux1 = aux[(aux['racacormae'] == 2) | (aux['racacormae'] == 4)]\n",
    "\n",
    "sns.countplot(x='escmae2010', data=aux1, order = aux1['escmae2010'].value_counts().index);"
   ]
  },
  {
   "cell_type": "markdown",
   "id": "f73a5d6b",
   "metadata": {},
   "source": [
    "#### Paraná"
   ]
  },
  {
   "cell_type": "code",
   "execution_count": 729,
   "id": "a9ddd657",
   "metadata": {
    "ExecuteTime": {
     "end_time": "2023-01-13T03:22:29.677371Z",
     "start_time": "2023-01-13T03:22:28.689197Z"
    }
   },
   "outputs": [
    {
     "data": {
      "image/png": "[encoded data removed]",
      "text/plain": [
       "<Figure size 1800x864 with 1 Axes>"
      ]
     },
     "metadata": {},
     "output_type": "display_data"
    }
   ],
   "source": [
    "aux = df7[(df7['estadonasc'] == 'Paraná') & (df7['estcivmae'] == 1)]\n",
    "\n",
    "aux1 = aux[(aux['racacormae'] == 2) | (aux['racacormae'] == 4)]\n",
    "\n",
    "sns.countplot(x='escmae2010', data=aux1, order = aux1['escmae2010'].value_counts().index);"
   ]
  },
  {
   "cell_type": "markdown",
   "id": "6291431d",
   "metadata": {},
   "source": [
    "#### Pernambuco"
   ]
  },
  {
   "cell_type": "code",
   "execution_count": 730,
   "id": "15aeab6a",
   "metadata": {
    "ExecuteTime": {
     "end_time": "2023-01-13T03:22:35.019332Z",
     "start_time": "2023-01-13T03:22:32.913377Z"
    }
   },
   "outputs": [
    {
     "data": {
      "image/png": "[encoded data removed]",
      "text/plain": [
       "<Figure size 1800x864 with 1 Axes>"
      ]
     },
     "metadata": {},
     "output_type": "display_data"
    }
   ],
   "source": [
    "aux = df7[(df7['estadonasc'] == 'Pernambuco') & (df7['estcivmae'] == 1)]\n",
    "\n",
    "aux1 = aux[(aux['racacormae'] == 2) | (aux['racacormae'] == 4)]\n",
    "\n",
    "sns.countplot(x='escmae2010', data=aux1, order = aux1['escmae2010'].value_counts().index);"
   ]
  },
  {
   "cell_type": "markdown",
   "id": "543e5f64",
   "metadata": {},
   "source": [
    "#### Rio de Janeiro"
   ]
  },
  {
   "cell_type": "code",
   "execution_count": 731,
   "id": "9122ec37",
   "metadata": {
    "ExecuteTime": {
     "end_time": "2023-01-13T03:22:40.266162Z",
     "start_time": "2023-01-13T03:22:39.188373Z"
    }
   },
   "outputs": [
    {
     "data": {
      "image/png": "[encoded data removed]",
      "text/plain": [
       "<Figure size 1800x864 with 1 Axes>"
      ]
     },
     "metadata": {},
     "output_type": "display_data"
    }
   ],
   "source": [
    "aux = df7[(df7['estadonasc'] == 'Rio de Janeiro') & (df7['estcivmae'] == 1)]\n",
    "\n",
    "aux1 = aux[(aux['racacormae'] == 2) | (aux['racacormae'] == 4)]\n",
    "\n",
    "sns.countplot(x='escmae2010', data=aux1, order = aux1['escmae2010'].value_counts().index);"
   ]
  },
  {
   "cell_type": "markdown",
   "id": "10e51c22",
   "metadata": {},
   "source": [
    "#### Rio Grande do Norte"
   ]
  },
  {
   "cell_type": "code",
   "execution_count": 732,
   "id": "0604a953",
   "metadata": {
    "ExecuteTime": {
     "end_time": "2023-01-13T03:22:48.067792Z",
     "start_time": "2023-01-13T03:22:44.768000Z"
    }
   },
   "outputs": [
    {
     "data": {
      "image/png": "[encoded data removed]",
      "text/plain": [
       "<Figure size 1800x864 with 1 Axes>"
      ]
     },
     "metadata": {},
     "output_type": "display_data"
    }
   ],
   "source": [
    "aux = df7[(df7['estadonasc'] == 'Rio Grande do Norte') & (df7['estcivmae'] == 1)]\n",
    "\n",
    "aux1 = aux[(aux['racacormae'] == 2) | (aux['racacormae'] == 4)]\n",
    "\n",
    "sns.countplot(x='escmae2010', data=aux1, order = aux1['escmae2010'].value_counts().index);"
   ]
  },
  {
   "cell_type": "markdown",
   "id": "426ec4e7",
   "metadata": {},
   "source": [
    "#### Rio Grande do Sul"
   ]
  },
  {
   "cell_type": "code",
   "execution_count": 733,
   "id": "eb0f6b59",
   "metadata": {
    "ExecuteTime": {
     "end_time": "2023-01-13T03:22:52.997946Z",
     "start_time": "2023-01-13T03:22:51.937524Z"
    }
   },
   "outputs": [
    {
     "data": {
      "image/png": "[encoded data removed]",
      "text/plain": [
       "<Figure size 1800x864 with 1 Axes>"
      ]
     },
     "metadata": {},
     "output_type": "display_data"
    }
   ],
   "source": [
    "aux = df7[(df7['estadonasc'] == 'Rio Grande do Sul') & (df7['estcivmae'] == 1)]\n",
    "\n",
    "aux1 = aux[(aux['racacormae'] == 2) | (aux['racacormae'] == 4)]\n",
    "\n",
    "sns.countplot(x='escmae2010', data=aux1, order = aux1['escmae2010'].value_counts().index);"
   ]
  },
  {
   "cell_type": "markdown",
   "id": "12b9a726",
   "metadata": {},
   "source": [
    "#### Rondonia"
   ]
  },
  {
   "cell_type": "code",
   "execution_count": 734,
   "id": "bcc6b4e5",
   "metadata": {
    "ExecuteTime": {
     "end_time": "2023-01-13T03:22:57.688282Z",
     "start_time": "2023-01-13T03:22:55.921541Z"
    }
   },
   "outputs": [
    {
     "data": {
      "image/png": "[encoded data removed]",
      "text/plain": [
       "<Figure size 1800x864 with 1 Axes>"
      ]
     },
     "metadata": {},
     "output_type": "display_data"
    }
   ],
   "source": [
    "aux = df7[(df7['estadonasc'] == 'Rondonia') & (df7['estcivmae'] == 1)]\n",
    "\n",
    "aux1 = aux[(aux['racacormae'] == 2) | (aux['racacormae'] == 4)]\n",
    "\n",
    "sns.countplot(x='escmae2010', data=aux1, order = aux1['escmae2010'].value_counts().index);"
   ]
  },
  {
   "cell_type": "markdown",
   "id": "16f81bdf",
   "metadata": {},
   "source": [
    "#### Roraima"
   ]
  },
  {
   "cell_type": "code",
   "execution_count": 735,
   "id": "4512ac7d",
   "metadata": {
    "ExecuteTime": {
     "end_time": "2023-01-13T03:23:02.150238Z",
     "start_time": "2023-01-13T03:23:01.320162Z"
    }
   },
   "outputs": [
    {
     "data": {
      "image/png": "[encoded data removed]",
      "text/plain": [
       "<Figure size 1800x864 with 1 Axes>"
      ]
     },
     "metadata": {},
     "output_type": "display_data"
    }
   ],
   "source": [
    "aux = df7[(df7['estadonasc'] == 'Roraima') & (df7['estcivmae'] == 1)]\n",
    "\n",
    "aux1 = aux[(aux['racacormae'] == 2) | (aux['racacormae'] == 4)]\n",
    "\n",
    "sns.countplot(x='escmae2010', data=aux1, order = aux1['escmae2010'].value_counts().index);"
   ]
  },
  {
   "cell_type": "markdown",
   "id": "6007665e",
   "metadata": {},
   "source": [
    "#### Santa Catarina"
   ]
  },
  {
   "cell_type": "code",
   "execution_count": 736,
   "id": "02d20bb8",
   "metadata": {
    "ExecuteTime": {
     "end_time": "2023-01-13T03:23:07.446842Z",
     "start_time": "2023-01-13T03:23:06.234430Z"
    }
   },
   "outputs": [
    {
     "data": {
      "image/png": "[encoded data removed]",
      "text/plain": [
       "<Figure size 1800x864 with 1 Axes>"
      ]
     },
     "metadata": {},
     "output_type": "display_data"
    }
   ],
   "source": [
    "aux = df7[(df7['estadonasc'] == 'Santa Catarina') & (df7['estcivmae'] == 1)]\n",
    "\n",
    "aux1 = aux[(aux['racacormae'] == 2) | (aux['racacormae'] == 4)]\n",
    "\n",
    "sns.countplot(x='escmae2010', data=aux1, order = aux1['escmae2010'].value_counts().index);"
   ]
  },
  {
   "cell_type": "markdown",
   "id": "cec10cd9",
   "metadata": {},
   "source": [
    "#### São Paulo"
   ]
  },
  {
   "cell_type": "code",
   "execution_count": 737,
   "id": "d7426715",
   "metadata": {
    "ExecuteTime": {
     "end_time": "2023-01-13T03:23:15.760355Z",
     "start_time": "2023-01-13T03:23:11.272845Z"
    }
   },
   "outputs": [
    {
     "data": {
      "image/png": "[encoded data removed]",
      "text/plain": [
       "<Figure size 1800x864 with 1 Axes>"
      ]
     },
     "metadata": {},
     "output_type": "display_data"
    }
   ],
   "source": [
    "aux = df7[(df7['estadonasc'] == 'São Paulo') & (df7['estcivmae'] == 1)]\n",
    "\n",
    "aux1 = aux[(aux['racacormae'] == 2) | (aux['racacormae'] == 4)]\n",
    "\n",
    "sns.countplot(x='escmae2010', data=aux1, order = aux1['escmae2010'].value_counts().index);"
   ]
  },
  {
   "cell_type": "markdown",
   "id": "dd98226e",
   "metadata": {},
   "source": [
    "#### Sergipe"
   ]
  },
  {
   "cell_type": "code",
   "execution_count": 738,
   "id": "b0d1eebb",
   "metadata": {
    "ExecuteTime": {
     "end_time": "2023-01-13T03:23:21.382583Z",
     "start_time": "2023-01-13T03:23:20.472704Z"
    }
   },
   "outputs": [
    {
     "data": {
      "image/png": "[encoded data removed]",
      "text/plain": [
       "<Figure size 1800x864 with 1 Axes>"
      ]
     },
     "metadata": {},
     "output_type": "display_data"
    }
   ],
   "source": [
    "aux = df7[(df7['estadonasc'] == 'Sergipe') & (df7['estcivmae'] == 1)]\n",
    "\n",
    "aux1 = aux[(aux['racacormae'] == 2) | (aux['racacormae'] == 4)]\n",
    "\n",
    "sns.countplot(x='escmae2010', data=aux1, order = aux1['escmae2010'].value_counts().index);"
   ]
  },
  {
   "cell_type": "markdown",
   "id": "67e6c97a",
   "metadata": {},
   "source": [
    "#### Tocantins"
   ]
  },
  {
   "cell_type": "code",
   "execution_count": 739,
   "id": "2ba15fc5",
   "metadata": {
    "ExecuteTime": {
     "end_time": "2023-01-13T03:23:27.521238Z",
     "start_time": "2023-01-13T03:23:26.761733Z"
    }
   },
   "outputs": [
    {
     "data": {
      "image/png": "[encoded data removed]",
      "text/plain": [
       "<Figure size 1800x864 with 1 Axes>"
      ]
     },
     "metadata": {},
     "output_type": "display_data"
    }
   ],
   "source": [
    "aux = df7[(df7['estadonasc'] == 'Tocantins') & (df7['estcivmae'] == 1)]\n",
    "\n",
    "aux1 = aux[(aux['racacormae'] == 2) | (aux['racacormae'] == 4)]\n",
    "\n",
    "sns.countplot(x='escmae2010', data=aux1, order = aux1['escmae2010'].value_counts().index);"
   ]
  },
  {
   "cell_type": "markdown",
   "id": "64545bf0",
   "metadata": {},
   "source": [
    "### 2.6.2 B) What percentage of married women have had a vaginal birth at less than 37 weeks' gestation? And in relation to women who had Cesarean delivery, what percentage??"
   ]
  },
  {
   "cell_type": "code",
   "execution_count": 800,
   "id": "28622771",
   "metadata": {
    "ExecuteTime": {
     "end_time": "2023-01-13T03:39:40.163856Z",
     "start_time": "2023-01-13T03:39:39.861099Z"
    }
   },
   "outputs": [],
   "source": [
    "aux = df7[(df7['estcivmae'] == 2.0) & df7['parto'] == 1.0 ]"
   ]
  },
  {
   "cell_type": "code",
   "execution_count": 801,
   "id": "4d484fdc",
   "metadata": {
    "ExecuteTime": {
     "end_time": "2023-01-13T03:39:40.350486Z",
     "start_time": "2023-01-13T03:39:40.321503Z"
    }
   },
   "outputs": [
    {
     "data": {
      "text/html": [
       "<div>\n",
       "<style scoped>\n",
       "    .dataframe tbody tr th:only-of-type {\n",
       "        vertical-align: middle;\n",
       "    }\n",
       "\n",
       "    .dataframe tbody tr th {\n",
       "        vertical-align: top;\n",
       "    }\n",
       "\n",
       "    .dataframe thead th {\n",
       "        text-align: right;\n",
       "    }\n",
       "</style>\n",
       "<table border=\"1\" class=\"dataframe\">\n",
       "  <thead>\n",
       "    <tr style=\"text-align: right;\">\n",
       "      <th></th>\n",
       "      <th>dtnasc</th>\n",
       "      <th>codmunnasc</th>\n",
       "      <th>codmunres</th>\n",
       "      <th>dtnascmae</th>\n",
       "      <th>codestab</th>\n",
       "      <th>racacormae</th>\n",
       "      <th>locnasc</th>\n",
       "      <th>parto</th>\n",
       "      <th>peso</th>\n",
       "      <th>escmae2010</th>\n",
       "      <th>estcivmae</th>\n",
       "      <th>gestacao</th>\n",
       "      <th>semagestac</th>\n",
       "      <th>seriescmae</th>\n",
       "      <th>idadepai</th>\n",
       "      <th>tpapresent</th>\n",
       "      <th>sttrabpart</th>\n",
       "      <th>stcesparto</th>\n",
       "      <th>tpnascassi</th>\n",
       "      <th>consprenat</th>\n",
       "      <th>codestadnasc</th>\n",
       "      <th>estadonasc</th>\n",
       "      <th>anomaenasc</th>\n",
       "      <th>mesmaenasc</th>\n",
       "      <th>diamaenasc</th>\n",
       "      <th>date</th>\n",
       "      <th>day_calc_age</th>\n",
       "      <th>idademae</th>\n",
       "    </tr>\n",
       "  </thead>\n",
       "  <tbody>\n",
       "    <tr>\n",
       "      <th>0</th>\n",
       "      <td>19022016</td>\n",
       "      <td>110001</td>\n",
       "      <td>110001</td>\n",
       "      <td>18121987</td>\n",
       "      <td>2679477</td>\n",
       "      <td>1.0</td>\n",
       "      <td>1</td>\n",
       "      <td>1.0</td>\n",
       "      <td>3100</td>\n",
       "      <td>2.0</td>\n",
       "      <td>2.0</td>\n",
       "      <td>5.0</td>\n",
       "      <td>39.0</td>\n",
       "      <td>8.0</td>\n",
       "      <td>24.0</td>\n",
       "      <td>2.0</td>\n",
       "      <td>2.0</td>\n",
       "      <td>3.0</td>\n",
       "      <td>1.0</td>\n",
       "      <td>9.0</td>\n",
       "      <td>11</td>\n",
       "      <td>Acre</td>\n",
       "      <td>1987</td>\n",
       "      <td>12</td>\n",
       "      <td>18</td>\n",
       "      <td>1987-12-18</td>\n",
       "      <td>2021-07-12</td>\n",
       "      <td>33</td>\n",
       "    </tr>\n",
       "    <tr>\n",
       "      <th>6</th>\n",
       "      <td>14022016</td>\n",
       "      <td>110001</td>\n",
       "      <td>110001</td>\n",
       "      <td>28081993</td>\n",
       "      <td>2679477</td>\n",
       "      <td>1.0</td>\n",
       "      <td>1</td>\n",
       "      <td>1.0</td>\n",
       "      <td>3930</td>\n",
       "      <td>3.0</td>\n",
       "      <td>2.0</td>\n",
       "      <td>5.0</td>\n",
       "      <td>40.0</td>\n",
       "      <td>3.0</td>\n",
       "      <td>25.0</td>\n",
       "      <td>1.0</td>\n",
       "      <td>2.0</td>\n",
       "      <td>3.0</td>\n",
       "      <td>1.0</td>\n",
       "      <td>9.0</td>\n",
       "      <td>11</td>\n",
       "      <td>Acre</td>\n",
       "      <td>1993</td>\n",
       "      <td>8</td>\n",
       "      <td>28</td>\n",
       "      <td>1993-08-28</td>\n",
       "      <td>2021-07-12</td>\n",
       "      <td>27</td>\n",
       "    </tr>\n",
       "    <tr>\n",
       "      <th>9</th>\n",
       "      <td>25012016</td>\n",
       "      <td>110001</td>\n",
       "      <td>110001</td>\n",
       "      <td>7021991</td>\n",
       "      <td>2516500</td>\n",
       "      <td>1.0</td>\n",
       "      <td>1</td>\n",
       "      <td>2.0</td>\n",
       "      <td>3600</td>\n",
       "      <td>3.0</td>\n",
       "      <td>2.0</td>\n",
       "      <td>5.0</td>\n",
       "      <td>38.0</td>\n",
       "      <td>NaN</td>\n",
       "      <td>29.0</td>\n",
       "      <td>1.0</td>\n",
       "      <td>2.0</td>\n",
       "      <td>2.0</td>\n",
       "      <td>1.0</td>\n",
       "      <td>7.0</td>\n",
       "      <td>11</td>\n",
       "      <td>Acre</td>\n",
       "      <td>1991</td>\n",
       "      <td>2</td>\n",
       "      <td>7</td>\n",
       "      <td>1991-07-02</td>\n",
       "      <td>2021-07-12</td>\n",
       "      <td>30</td>\n",
       "    </tr>\n",
       "    <tr>\n",
       "      <th>10</th>\n",
       "      <td>12012016</td>\n",
       "      <td>110001</td>\n",
       "      <td>110001</td>\n",
       "      <td>23071995</td>\n",
       "      <td>2679477</td>\n",
       "      <td>4.0</td>\n",
       "      <td>1</td>\n",
       "      <td>1.0</td>\n",
       "      <td>3300</td>\n",
       "      <td>3.0</td>\n",
       "      <td>2.0</td>\n",
       "      <td>5.0</td>\n",
       "      <td>37.0</td>\n",
       "      <td>3.0</td>\n",
       "      <td>24.0</td>\n",
       "      <td>1.0</td>\n",
       "      <td>2.0</td>\n",
       "      <td>3.0</td>\n",
       "      <td>1.0</td>\n",
       "      <td>3.0</td>\n",
       "      <td>11</td>\n",
       "      <td>Acre</td>\n",
       "      <td>1995</td>\n",
       "      <td>7</td>\n",
       "      <td>23</td>\n",
       "      <td>1995-07-23</td>\n",
       "      <td>2021-07-12</td>\n",
       "      <td>25</td>\n",
       "    </tr>\n",
       "    <tr>\n",
       "      <th>11</th>\n",
       "      <td>14012016</td>\n",
       "      <td>110001</td>\n",
       "      <td>110001</td>\n",
       "      <td>25041989</td>\n",
       "      <td>2516500</td>\n",
       "      <td>1.0</td>\n",
       "      <td>1</td>\n",
       "      <td>2.0</td>\n",
       "      <td>3800</td>\n",
       "      <td>3.0</td>\n",
       "      <td>2.0</td>\n",
       "      <td>NaN</td>\n",
       "      <td>NaN</td>\n",
       "      <td>3.0</td>\n",
       "      <td>30.0</td>\n",
       "      <td>1.0</td>\n",
       "      <td>2.0</td>\n",
       "      <td>1.0</td>\n",
       "      <td>1.0</td>\n",
       "      <td>8.0</td>\n",
       "      <td>11</td>\n",
       "      <td>Acre</td>\n",
       "      <td>1989</td>\n",
       "      <td>4</td>\n",
       "      <td>25</td>\n",
       "      <td>1989-04-25</td>\n",
       "      <td>2021-07-12</td>\n",
       "      <td>32</td>\n",
       "    </tr>\n",
       "  </tbody>\n",
       "</table>\n",
       "</div>"
      ],
      "text/plain": [
       "      dtnasc  codmunnasc  codmunres  dtnascmae  codestab  racacormae  locnasc  parto  peso  escmae2010  estcivmae  gestacao  semagestac  seriescmae  idadepai  tpapresent  sttrabpart  stcesparto  tpnascassi  consprenat  codestadnasc estadonasc  anomaenasc  mesmaenasc  diamaenasc       date day_calc_age  idademae\n",
       "0   19022016      110001     110001   18121987   2679477         1.0        1    1.0  3100         2.0        2.0       5.0        39.0         8.0      24.0         2.0         2.0         3.0         1.0         9.0            11       Acre        1987          12          18 1987-12-18   2021-07-12        33\n",
       "6   14022016      110001     110001   28081993   2679477         1.0        1    1.0  3930         3.0        2.0       5.0        40.0         3.0      25.0         1.0         2.0         3.0         1.0         9.0            11       Acre        1993           8          28 1993-08-28   2021-07-12        27\n",
       "9   25012016      110001     110001    7021991   2516500         1.0        1    2.0  3600         3.0        2.0       5.0        38.0         NaN      29.0         1.0         2.0         2.0         1.0         7.0            11       Acre        1991           2           7 1991-07-02   2021-07-12        30\n",
       "10  12012016      110001     110001   23071995   2679477         4.0        1    1.0  3300         3.0        2.0       5.0        37.0         3.0      24.0         1.0         2.0         3.0         1.0         3.0            11       Acre        1995           7          23 1995-07-23   2021-07-12        25\n",
       "11  14012016      110001     110001   25041989   2516500         1.0        1    2.0  3800         3.0        2.0       NaN         NaN         3.0      30.0         1.0         2.0         1.0         1.0         8.0            11       Acre        1989           4          25 1989-04-25   2021-07-12        32"
      ]
     },
     "execution_count": 801,
     "metadata": {},
     "output_type": "execute_result"
    }
   ],
   "source": [
    "aux.head()"
   ]
  },
  {
   "cell_type": "code",
   "execution_count": 802,
   "id": "1a01fb53",
   "metadata": {
    "ExecuteTime": {
     "end_time": "2023-01-13T03:39:41.327177Z",
     "start_time": "2023-01-13T03:39:41.287964Z"
    }
   },
   "outputs": [],
   "source": [
    "aux1 = aux[aux['gestacao'] < 5.0]"
   ]
  },
  {
   "cell_type": "code",
   "execution_count": 803,
   "id": "f8634ff0",
   "metadata": {
    "ExecuteTime": {
     "end_time": "2023-01-13T03:39:42.518993Z",
     "start_time": "2023-01-13T03:39:42.510001Z"
    }
   },
   "outputs": [
    {
     "name": "stdout",
     "output_type": "stream",
     "text": [
      "3.456761445195916\n"
     ]
    }
   ],
   "source": [
    "print((len(aux1)/len(df7))*100)"
   ]
  },
  {
   "cell_type": "code",
   "execution_count": 804,
   "id": "c99cf1b0",
   "metadata": {
    "ExecuteTime": {
     "end_time": "2023-01-13T03:39:44.076730Z",
     "start_time": "2023-01-13T03:39:43.949000Z"
    }
   },
   "outputs": [],
   "source": [
    "aux = df7[(df7['estcivmae'] == 2) & (df7['parto'] == 2.0 )]"
   ]
  },
  {
   "cell_type": "code",
   "execution_count": 805,
   "id": "58ab158c",
   "metadata": {
    "ExecuteTime": {
     "end_time": "2023-01-13T03:39:44.347273Z",
     "start_time": "2023-01-13T03:39:44.319290Z"
    }
   },
   "outputs": [
    {
     "data": {
      "text/html": [
       "<div>\n",
       "<style scoped>\n",
       "    .dataframe tbody tr th:only-of-type {\n",
       "        vertical-align: middle;\n",
       "    }\n",
       "\n",
       "    .dataframe tbody tr th {\n",
       "        vertical-align: top;\n",
       "    }\n",
       "\n",
       "    .dataframe thead th {\n",
       "        text-align: right;\n",
       "    }\n",
       "</style>\n",
       "<table border=\"1\" class=\"dataframe\">\n",
       "  <thead>\n",
       "    <tr style=\"text-align: right;\">\n",
       "      <th></th>\n",
       "      <th>dtnasc</th>\n",
       "      <th>codmunnasc</th>\n",
       "      <th>codmunres</th>\n",
       "      <th>dtnascmae</th>\n",
       "      <th>codestab</th>\n",
       "      <th>racacormae</th>\n",
       "      <th>locnasc</th>\n",
       "      <th>parto</th>\n",
       "      <th>peso</th>\n",
       "      <th>escmae2010</th>\n",
       "      <th>estcivmae</th>\n",
       "      <th>gestacao</th>\n",
       "      <th>semagestac</th>\n",
       "      <th>seriescmae</th>\n",
       "      <th>idadepai</th>\n",
       "      <th>tpapresent</th>\n",
       "      <th>sttrabpart</th>\n",
       "      <th>stcesparto</th>\n",
       "      <th>tpnascassi</th>\n",
       "      <th>consprenat</th>\n",
       "      <th>codestadnasc</th>\n",
       "      <th>estadonasc</th>\n",
       "      <th>anomaenasc</th>\n",
       "      <th>mesmaenasc</th>\n",
       "      <th>diamaenasc</th>\n",
       "      <th>date</th>\n",
       "      <th>day_calc_age</th>\n",
       "      <th>idademae</th>\n",
       "    </tr>\n",
       "  </thead>\n",
       "  <tbody>\n",
       "    <tr>\n",
       "      <th>9</th>\n",
       "      <td>25012016</td>\n",
       "      <td>110001</td>\n",
       "      <td>110001</td>\n",
       "      <td>7021991</td>\n",
       "      <td>2516500</td>\n",
       "      <td>1.0</td>\n",
       "      <td>1</td>\n",
       "      <td>2.0</td>\n",
       "      <td>3600</td>\n",
       "      <td>3.0</td>\n",
       "      <td>2.0</td>\n",
       "      <td>5.0</td>\n",
       "      <td>38.0</td>\n",
       "      <td>NaN</td>\n",
       "      <td>29.0</td>\n",
       "      <td>1.0</td>\n",
       "      <td>2.0</td>\n",
       "      <td>2.0</td>\n",
       "      <td>1.0</td>\n",
       "      <td>7.0</td>\n",
       "      <td>11</td>\n",
       "      <td>Acre</td>\n",
       "      <td>1991</td>\n",
       "      <td>2</td>\n",
       "      <td>7</td>\n",
       "      <td>1991-07-02</td>\n",
       "      <td>2021-07-12</td>\n",
       "      <td>30</td>\n",
       "    </tr>\n",
       "    <tr>\n",
       "      <th>11</th>\n",
       "      <td>14012016</td>\n",
       "      <td>110001</td>\n",
       "      <td>110001</td>\n",
       "      <td>25041989</td>\n",
       "      <td>2516500</td>\n",
       "      <td>1.0</td>\n",
       "      <td>1</td>\n",
       "      <td>2.0</td>\n",
       "      <td>3800</td>\n",
       "      <td>3.0</td>\n",
       "      <td>2.0</td>\n",
       "      <td>NaN</td>\n",
       "      <td>NaN</td>\n",
       "      <td>3.0</td>\n",
       "      <td>30.0</td>\n",
       "      <td>1.0</td>\n",
       "      <td>2.0</td>\n",
       "      <td>1.0</td>\n",
       "      <td>1.0</td>\n",
       "      <td>8.0</td>\n",
       "      <td>11</td>\n",
       "      <td>Acre</td>\n",
       "      <td>1989</td>\n",
       "      <td>4</td>\n",
       "      <td>25</td>\n",
       "      <td>1989-04-25</td>\n",
       "      <td>2021-07-12</td>\n",
       "      <td>32</td>\n",
       "    </tr>\n",
       "    <tr>\n",
       "      <th>13</th>\n",
       "      <td>6012016</td>\n",
       "      <td>110001</td>\n",
       "      <td>110001</td>\n",
       "      <td>8121994</td>\n",
       "      <td>2679477</td>\n",
       "      <td>4.0</td>\n",
       "      <td>1</td>\n",
       "      <td>2.0</td>\n",
       "      <td>3925</td>\n",
       "      <td>2.0</td>\n",
       "      <td>2.0</td>\n",
       "      <td>5.0</td>\n",
       "      <td>41.0</td>\n",
       "      <td>NaN</td>\n",
       "      <td>NaN</td>\n",
       "      <td>1.0</td>\n",
       "      <td>2.0</td>\n",
       "      <td>2.0</td>\n",
       "      <td>1.0</td>\n",
       "      <td>4.0</td>\n",
       "      <td>11</td>\n",
       "      <td>Acre</td>\n",
       "      <td>1994</td>\n",
       "      <td>2</td>\n",
       "      <td>8</td>\n",
       "      <td>1994-08-02</td>\n",
       "      <td>2021-07-12</td>\n",
       "      <td>26</td>\n",
       "    </tr>\n",
       "    <tr>\n",
       "      <th>19</th>\n",
       "      <td>22032016</td>\n",
       "      <td>110001</td>\n",
       "      <td>110001</td>\n",
       "      <td>7081989</td>\n",
       "      <td>2679477</td>\n",
       "      <td>4.0</td>\n",
       "      <td>1</td>\n",
       "      <td>2.0</td>\n",
       "      <td>3940</td>\n",
       "      <td>3.0</td>\n",
       "      <td>2.0</td>\n",
       "      <td>5.0</td>\n",
       "      <td>39.0</td>\n",
       "      <td>NaN</td>\n",
       "      <td>27.0</td>\n",
       "      <td>1.0</td>\n",
       "      <td>2.0</td>\n",
       "      <td>2.0</td>\n",
       "      <td>1.0</td>\n",
       "      <td>8.0</td>\n",
       "      <td>11</td>\n",
       "      <td>Acre</td>\n",
       "      <td>1989</td>\n",
       "      <td>8</td>\n",
       "      <td>7</td>\n",
       "      <td>1989-07-08</td>\n",
       "      <td>2021-07-12</td>\n",
       "      <td>32</td>\n",
       "    </tr>\n",
       "    <tr>\n",
       "      <th>35</th>\n",
       "      <td>18042016</td>\n",
       "      <td>110001</td>\n",
       "      <td>110001</td>\n",
       "      <td>9111993</td>\n",
       "      <td>2516500</td>\n",
       "      <td>1.0</td>\n",
       "      <td>1</td>\n",
       "      <td>2.0</td>\n",
       "      <td>3150</td>\n",
       "      <td>2.0</td>\n",
       "      <td>2.0</td>\n",
       "      <td>5.0</td>\n",
       "      <td>37.0</td>\n",
       "      <td>NaN</td>\n",
       "      <td>26.0</td>\n",
       "      <td>1.0</td>\n",
       "      <td>2.0</td>\n",
       "      <td>2.0</td>\n",
       "      <td>1.0</td>\n",
       "      <td>6.0</td>\n",
       "      <td>11</td>\n",
       "      <td>Acre</td>\n",
       "      <td>1993</td>\n",
       "      <td>1</td>\n",
       "      <td>9</td>\n",
       "      <td>1993-09-01</td>\n",
       "      <td>2021-07-12</td>\n",
       "      <td>27</td>\n",
       "    </tr>\n",
       "  </tbody>\n",
       "</table>\n",
       "</div>"
      ],
      "text/plain": [
       "      dtnasc  codmunnasc  codmunres  dtnascmae  codestab  racacormae  locnasc  parto  peso  escmae2010  estcivmae  gestacao  semagestac  seriescmae  idadepai  tpapresent  sttrabpart  stcesparto  tpnascassi  consprenat  codestadnasc estadonasc  anomaenasc  mesmaenasc  diamaenasc       date day_calc_age  idademae\n",
       "9   25012016      110001     110001    7021991   2516500         1.0        1    2.0  3600         3.0        2.0       5.0        38.0         NaN      29.0         1.0         2.0         2.0         1.0         7.0            11       Acre        1991           2           7 1991-07-02   2021-07-12        30\n",
       "11  14012016      110001     110001   25041989   2516500         1.0        1    2.0  3800         3.0        2.0       NaN         NaN         3.0      30.0         1.0         2.0         1.0         1.0         8.0            11       Acre        1989           4          25 1989-04-25   2021-07-12        32\n",
       "13   6012016      110001     110001    8121994   2679477         4.0        1    2.0  3925         2.0        2.0       5.0        41.0         NaN       NaN         1.0         2.0         2.0         1.0         4.0            11       Acre        1994           2           8 1994-08-02   2021-07-12        26\n",
       "19  22032016      110001     110001    7081989   2679477         4.0        1    2.0  3940         3.0        2.0       5.0        39.0         NaN      27.0         1.0         2.0         2.0         1.0         8.0            11       Acre        1989           8           7 1989-07-08   2021-07-12        32\n",
       "35  18042016      110001     110001    9111993   2516500         1.0        1    2.0  3150         2.0        2.0       5.0        37.0         NaN      26.0         1.0         2.0         2.0         1.0         6.0            11       Acre        1993           1           9 1993-09-01   2021-07-12        27"
      ]
     },
     "execution_count": 805,
     "metadata": {},
     "output_type": "execute_result"
    }
   ],
   "source": [
    "aux.head()"
   ]
  },
  {
   "cell_type": "code",
   "execution_count": 806,
   "id": "3e9ed0c2",
   "metadata": {
    "ExecuteTime": {
     "end_time": "2023-01-13T03:39:45.455021Z",
     "start_time": "2023-01-13T03:39:45.420039Z"
    }
   },
   "outputs": [],
   "source": [
    "aux1 = aux[aux['gestacao'] < 5.0]"
   ]
  },
  {
   "cell_type": "code",
   "execution_count": 807,
   "id": "d74c4ac9",
   "metadata": {
    "ExecuteTime": {
     "end_time": "2023-01-13T03:39:45.811673Z",
     "start_time": "2023-01-13T03:39:45.796681Z"
    }
   },
   "outputs": [
    {
     "name": "stdout",
     "output_type": "stream",
     "text": [
      "2.4684078496816113\n"
     ]
    }
   ],
   "source": [
    "print((len(aux1)/len(df7))*100)"
   ]
  },
  {
   "cell_type": "code",
   "execution_count": null,
   "id": "02f0bbcb",
   "metadata": {},
   "outputs": [],
   "source": []
  },
  {
   "cell_type": "code",
   "execution_count": null,
   "id": "f601fc98",
   "metadata": {},
   "outputs": [],
   "source": []
  },
  {
   "cell_type": "code",
   "execution_count": null,
   "id": "be24573a",
   "metadata": {},
   "outputs": [],
   "source": []
  },
  {
   "cell_type": "code",
   "execution_count": null,
   "id": "b2a72f56",
   "metadata": {},
   "outputs": [],
   "source": []
  },
  {
   "cell_type": "code",
   "execution_count": null,
   "id": "0669ff3c",
   "metadata": {},
   "outputs": [],
   "source": []
  },
  {
   "cell_type": "code",
   "execution_count": null,
   "id": "06a9f17a",
   "metadata": {},
   "outputs": [],
   "source": []
  },
  {
   "cell_type": "code",
   "execution_count": null,
   "id": "cebcea47",
   "metadata": {},
   "outputs": [],
   "source": []
  }
 ],
 "metadata": {
  "hide_input": false,
  "kernelspec": {
   "display_name": "Python 3 (ipykernel)",
   "language": "python",
   "name": "python3"
  },
  "language_info": {
   "codemirror_mode": {
    "name": "ipython",
    "version": 3
   },
   "file_extension": ".py",
   "mimetype": "text/x-python",
   "name": "python",
   "nbconvert_exporter": "python",
   "pygments_lexer": "ipython3",
   "version": "3.10.5"
  }
 },
 "nbformat": 4,
 "nbformat_minor": 5
}
